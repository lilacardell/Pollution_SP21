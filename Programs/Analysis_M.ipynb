{
 "cells": [
  {
   "cell_type": "markdown",
   "id": "associate-three",
   "metadata": {},
   "source": [
    "# Imports"
   ]
  },
  {
   "cell_type": "code",
   "execution_count": 1,
   "id": "reasonable-american",
   "metadata": {},
   "outputs": [],
   "source": [
    "import pandas as pd\n",
    "import numpy as np\n",
    "import geopandas\n",
    "from sklearn.preprocessing import PolynomialFeatures\n",
    "from sklearn.preprocessing import StandardScaler\n",
    "import matplotlib.pyplot as plt\n",
    "\n",
    "from sklearn.model_selection import train_test_split\n",
    "from sklearn.linear_model import Lasso\n",
    "from sklearn.linear_model import LassoCV\n",
    "\n",
    "from sklearn.ensemble import RandomForestRegressor\n",
    "from sklearn.model_selection import RandomizedSearchCV\n",
    "from sklearn.metrics import mean_squared_error\n",
    "from sklearn.metrics import r2_score\n"
   ]
  },
  {
   "cell_type": "code",
   "execution_count": 2,
   "id": "presidential-stockholm",
   "metadata": {
    "scrolled": true
   },
   "outputs": [],
   "source": [
    "#data_path = r\"C:\\Users\\gv4\\Box\\2. Research\\Air Pollution and Prediction\\Git_Pollution\\Pollution_Sp21\\Output\"\n",
    "\n",
    "#Manny path\n",
    "data_path = r\"C:\\Users\\ck24\\Box\\Pollution_Sp21\\Output\"\n",
    "\n",
    "data_wide = pd.read_csv(data_path+\"\\Data_Final_wide.csv\")\n",
    "data_long = pd.read_csv(data_path+\"\\Data_Final_long.csv\")"
   ]
  },
  {
   "cell_type": "markdown",
   "id": "ranking-lingerie",
   "metadata": {},
   "source": [
    "## Long Data"
   ]
  },
  {
   "cell_type": "code",
   "execution_count": 3,
   "id": "conservative-sociology",
   "metadata": {},
   "outputs": [
    {
     "name": "stdout",
     "output_type": "stream",
     "text": [
      "RMSE: 0.3993882021544021, r2: -0.014969956208441992\n",
      "Coefficients: \n",
      " [[ 0.00265022 -0.02585302  0.00549891 -0.02965413 -0.05218936  0.173441\n",
      "  -0.11447935  0.03127878  0.06840148 -0.38993067  0.17284207 -0.04951635\n",
      "   0.20625895  0.2519563  -0.18002383  0.08272036 -0.0428757  -0.21684294\n",
      "   0.19678023  0.21195027 -0.30930549  0.40603461 -0.00836014 -0.26725511\n",
      "   0.17532921 -0.18856308  0.08041715 -0.14191909 -0.00111456 -0.05767252\n",
      "  -0.31535302  0.00078582  0.43645427 -0.17068854  0.06334151  0.17839031\n",
      "  -0.30250132 -0.01517945  0.06613346  0.14413588 -0.00276724  0.14757848\n",
      "   0.18657327 -0.13915847 -0.15850744  0.12848598 -0.11176244  0.03809919\n",
      "  -0.1329903  -0.05942928  0.03705476 -0.04937335  0.03882096  0.12916303\n",
      "  -0.01816775 -0.09670572  0.06819773 -0.01734975  0.12122555  0.08607893\n",
      "   0.30938856  0.00890558 -0.50385338  0.29293834  0.10267882  0.12614246\n",
      "  -0.20290763  0.25422864 -0.20329391  0.11224024 -0.15559698 -0.17533354\n",
      "  -0.23867153  0.43308211  0.55050525  0.15006681 -0.00271479 -0.36138401\n",
      "  -0.35046818 -0.14998017  0.10364913 -0.16004115  0.09061489 -0.04351284\n",
      "  -0.08300102 -0.41557904  0.05530533 -0.41692554  0.05477504  0.12141992\n",
      "   0.39491709 -0.01893874  0.25978252 -0.05190752  0.02161292 -0.02414965\n",
      "  -0.14708144 -0.10671485  0.12271794 -0.04643599  0.08049657 -0.04341694\n",
      "   0.04043104 -0.126745    0.14363918 -0.013958    0.49967541]]\n",
      "Mean squared error: 0.40\n",
      "Coefficient of determination: -0.01\n"
     ]
    }
   ],
   "source": [
    "data_x = data_long.drop(columns = [\"year\",\"gva_r\", \"ADM1_ES\",\"ADM2_ES\",\"ADM2_PCODE\"])\n",
    "data_y = data_long[[\"gva_r\"]]\n",
    "\n",
    "\n",
    "# Normalizing data with StandardScaler()\n",
    "X = StandardScaler().fit_transform(data_x)\n",
    "y = StandardScaler().fit_transform(data_y)\n",
    "\n",
    "# Split sample into training, validation, testing:\n",
    "X_train, X_test, y_train, y_test = train_test_split(X, y, test_size=0.1, random_state=0)\n",
    "# Create a validation set (to use untouched test data for later)\n",
    "X_train, X_val, y_train, y_val = train_test_split(X_train, y_train, test_size=0.1, random_state=0)\n",
    "\n",
    "from sklearn.linear_model import LinearRegression\n",
    "reg = LinearRegression().fit(X_train, y_train)\n",
    "ols_pred = reg.predict(X_val)\n",
    "\n",
    "rmse = np.sqrt(mean_squared_error(y_val, ols_pred))\n",
    "r2 = r2_score(y_val, ols_pred)\n",
    "\n",
    "print(\"RMSE: {}, r2: {}\".format(rmse,r2))\n",
    "\n",
    "print('Coefficients: \\n', reg.coef_)\n",
    "# The mean squared error\n",
    "print('Mean squared error: %.2f'% np.sqrt(mean_squared_error(y_val, ols_pred)))\n",
    "# The coefficient of determination: 1 is perfect prediction\n",
    "print('Coefficient of determination: %.2f'\n",
    "      % r2_score(y_val, ols_pred))\n"
   ]
  },
  {
   "cell_type": "code",
   "execution_count": 4,
   "id": "roman-playing",
   "metadata": {},
   "outputs": [],
   "source": [
    "# Creating a function for interaction terms for Lasso using Polynomial Features\n",
    "def interaction_terms(data):\n",
    "    interaction = PolynomialFeatures(2, interaction_only=True, include_bias=False)\n",
    "    output = interaction.fit_transform(data)\n",
    "    c_names = interaction.get_feature_names(data.columns)\n",
    "    return output,c_names\n",
    "\n",
    "output, colnames = interaction_terms(data_x)"
   ]
  },
  {
   "cell_type": "code",
   "execution_count": 5,
   "id": "vital-canon",
   "metadata": {},
   "outputs": [],
   "source": [
    "data_X = pd.DataFrame(output, columns= colnames)\n",
    "data_y = data_long[[\"gva_r\"]]"
   ]
  },
  {
   "cell_type": "markdown",
   "id": "indirect-holly",
   "metadata": {},
   "source": [
    "## Lasso with Interaction Terms:"
   ]
  },
  {
   "cell_type": "code",
   "execution_count": 6,
   "id": "floating-quick",
   "metadata": {},
   "outputs": [],
   "source": [
    "# Normalizing data with StandardScaler()\n",
    "X = StandardScaler().fit_transform(data_X)\n",
    "y = StandardScaler().fit_transform(data_y)"
   ]
  },
  {
   "cell_type": "code",
   "execution_count": 7,
   "id": "three-harvard",
   "metadata": {},
   "outputs": [],
   "source": [
    "# Split sample into training, validation, testing:\n",
    "X_train, X_test, y_train, y_test = train_test_split(X, y, test_size=0.1, random_state=0)\n",
    "# Create a validation set (to use untouched test data for later)\n",
    "X_train, X_val, y_train, y_val = train_test_split(X_train, y_train, test_size=0.1, random_state=0)"
   ]
  },
  {
   "cell_type": "markdown",
   "id": "timely-thriller",
   "metadata": {},
   "source": [
    "## Results with parameter $\\alpha$ = 0.05"
   ]
  },
  {
   "cell_type": "code",
   "execution_count": 8,
   "id": "defined-minute",
   "metadata": {},
   "outputs": [
    {
     "name": "stdout",
     "output_type": "stream",
     "text": [
      "Number of features fed into model: 5778\n",
      "Number of features that are non zero: 19\n",
      "\n",
      "Features that are non zero:\n",
      " ['night_min night_std', 'night_min min_prec_02', 'night_min min_prec_07', 'night_min min_prec_11', 'night_min std_prec_04', 'night_min std_prec_05', 'night_min std_prec_07', 'night_min std_tmax_02', 'night_min std_tmax_03', 'night_std tpop', 'max_prec_01 max_prec_09', 'max_prec_03 max_prec_09', 'min_prec_02 tpop', 'min_prec_03 tpop', 'min_prec_04 tpop', 'min_prec_07 tpop', 'std_prec_09 tpop', 'mean_tmax_07 tpop', 'min_tmax_06 tpop']\n",
      "\n",
      "Lasso with interaction terms: \n",
      "RMSE: 0.3652930887086219, r2: 0.15092581967954788\n"
     ]
    }
   ],
   "source": [
    "# Start with random parameter:\n",
    "lasso_model =Lasso(alpha=.05)\n",
    "lasso_model = lasso_model.fit(y=y_train,X=X_train)\n",
    "bool_ = lasso_model.coef_!=0\n",
    "\n",
    "print(\"Number of features fed into model: {}\".format(len(lasso_model.coef_)))\n",
    "print(\"Number of features that are non zero:\",sum(bool_))\n",
    "print(\"\\nFeatures that are non zero:\\n\",data_X.iloc[:,bool_].columns.tolist())\n",
    "\n",
    "y_pred = lasso_model.predict(X_val)\n",
    "rmse = np.sqrt(mean_squared_error(y_val, y_pred))\n",
    "r2 = r2_score(y_val, y_pred)\n",
    "\n",
    "print(\"\\nLasso with interaction terms: \\nRMSE: {}, r2: {}\".format(rmse,r2))\n"
   ]
  },
  {
   "cell_type": "code",
   "execution_count": null,
   "id": "sought-coaching",
   "metadata": {
    "scrolled": true
   },
   "outputs": [],
   "source": [
    "# Lasso parameter tuning:\n",
    "def get_cols(alpha):\n",
    "    lasso_model =Lasso(alpha=alpha)\n",
    "    lasso_model = lasso_model.fit(y=y_train,X=X_train)   \n",
    "    coefs = lasso_model.coef_ \n",
    "    return coefs!=0\n",
    "\n",
    "Alpha = np.arange(0,1,0.01)\n",
    "coef_lists = [list(get_cols(a)) for a in Alpha]"
   ]
  },
  {
   "cell_type": "code",
   "execution_count": null,
   "id": "herbal-dubai",
   "metadata": {
    "scrolled": true
   },
   "outputs": [],
   "source": [
    "plt.plot(Alpha,pd.DataFrame(coef_lists).sum(axis=1))\n",
    "plt.ylabel(\"No.of Features\")\n",
    "plt.xlabel(\"Values of Alpha\")\n",
    "plt.ylim(0,100)\n",
    "plt.xlim(0,1)"
   ]
  },
  {
   "cell_type": "code",
   "execution_count": null,
   "id": "available-million",
   "metadata": {
    "scrolled": true
   },
   "outputs": [],
   "source": [
    "A = np.arange(.01,0.5,.01)\n",
    "lasso_model = LassoCV(alphas=A,cv=10)\n",
    "lasso_model = lasso_model.fit(X_train,y_train)\n",
    "print(\"Most optimal value for alpha parameter is:\",lasso_model.alpha_)"
   ]
  },
  {
   "cell_type": "code",
   "execution_count": null,
   "id": "greek-field",
   "metadata": {},
   "outputs": [],
   "source": [
    "y_pred = lasso_model.predict(X_val)\n",
    "rmse = np.sqrt(mean_squared_error(y_val, y_pred))\n",
    "r2 = r2_score(y_val, y_pred)\n",
    "print(\"\\nLasso Cross Validation - interaction terms: \\nRMSE: {}, r2: {}\".format(rmse,r2))"
   ]
  },
  {
   "cell_type": "markdown",
   "id": "central-giant",
   "metadata": {},
   "source": [
    "## Random Forest:"
   ]
  },
  {
   "cell_type": "code",
   "execution_count": 29,
   "id": "vocal-independence",
   "metadata": {},
   "outputs": [],
   "source": [
    "# Reload data\n",
    "data_x = data_long.reset_index().drop(columns = [\"year\",\"gva_r\",\"ADM1_ES\",\"ADM2_ES\",\"ADM2_PCODE\"])\n",
    "data_y = data_long[[\"gva_r\"]].reset_index()"
   ]
  },
  {
   "cell_type": "code",
   "execution_count": 30,
   "id": "married-science",
   "metadata": {},
   "outputs": [],
   "source": [
    "# Normalizing data with StandardScaler()\n",
    "X = StandardScaler().fit_transform(data_x)\n",
    "y = StandardScaler().fit_transform(data_y)"
   ]
  },
  {
   "cell_type": "code",
   "execution_count": 31,
   "id": "blank-cradle",
   "metadata": {},
   "outputs": [],
   "source": [
    "# Redefine X, y for mapping at the later stage\n",
    "X = pd.DataFrame(X, columns= data_x.columns)\n",
    "y = pd.DataFrame(y, columns= data_y.columns)\n",
    "X['index']=data_x.index\n",
    "y['index']=data_y.index"
   ]
  },
  {
   "cell_type": "code",
   "execution_count": 32,
   "id": "deadly-migration",
   "metadata": {},
   "outputs": [],
   "source": [
    "# Split sample into training, validation, testing:\n",
    "X_train, X_test, y_train, y_test = train_test_split(X, y, test_size=0.1, random_state=0)\n",
    "\n",
    "# Create a validation set (to use test for later)\n",
    "X_train, X_val, y_train, y_val = train_test_split(X_train, y_train, test_size=0.1, random_state=0)\n",
    "\n",
    "# Make copy for mapping at the later stage\n",
    "X_val_c = X_val.copy()\n",
    "y_val_c = y_val.copy()"
   ]
  },
  {
   "cell_type": "code",
   "execution_count": 33,
   "id": "peaceful-donor",
   "metadata": {},
   "outputs": [],
   "source": [
    "# Drop index in data to avoid including index as feature\n",
    "X_val = X_val.drop(columns = ['index'])\n",
    "X_test = X_test.drop(columns = ['index'])\n",
    "X_train = X_train.drop(columns = ['index'])\n",
    "y_val = y_val.drop(columns = ['index'])\n",
    "y_test = y_test.drop(columns = ['index'])\n",
    "y_train = y_train.drop(columns = ['index'])"
   ]
  },
  {
   "cell_type": "markdown",
   "id": "economic-palestinian",
   "metadata": {},
   "source": [
    "# Without Hyper-parameter tuning"
   ]
  },
  {
   "cell_type": "code",
   "execution_count": 35,
   "id": "approved-tissue",
   "metadata": {},
   "outputs": [
    {
     "name": "stderr",
     "output_type": "stream",
     "text": [
      "<ipython-input-35-6a24934fea6c>:2: DataConversionWarning: A column-vector y was passed when a 1d array was expected. Please change the shape of y to (n_samples,), for example using ravel().\n",
      "  regr.fit(X_train, y_train)\n"
     ]
    }
   ],
   "source": [
    "regr = RandomForestRegressor(random_state=0)\n",
    "regr.fit(X_train, y_train)\n",
    "y_pred_test_ran1 = regr.predict(X_val)"
   ]
  },
  {
   "cell_type": "code",
   "execution_count": 36,
   "id": "sapphire-increase",
   "metadata": {},
   "outputs": [
    {
     "name": "stdout",
     "output_type": "stream",
     "text": [
      "\n",
      "Lasso Cross Validation - interaction terms: \n",
      "RMSE: 0.22020637038026142, r2: 0.691452181157513\n"
     ]
    },
    {
     "data": {
      "text/plain": [
       "[<matplotlib.lines.Line2D at 0x1e73d248a60>]"
      ]
     },
     "execution_count": 36,
     "metadata": {},
     "output_type": "execute_result"
    },
    {
     "data": {
      "image/png": "[encoded data removed]",
      "text/plain": [
       "<Figure size 432x288 with 1 Axes>"
      ]
     },
     "metadata": {
      "needs_background": "light"
     },
     "output_type": "display_data"
    }
   ],
   "source": [
    "rmse_ran_1 = np.sqrt(mean_squared_error(y_val, y_pred_test_ran1))\n",
    "r2_ran_1 = r2_score(y_val, y_pred_test_ran1)\n",
    "print(\"\\nLasso Cross Validation - interaction terms: \\nRMSE: {}, r2: {}\".format(rmse_ran_1,r2_ran_1))\n",
    "plt.plot(y_val,y_pred_test_ran1,'o', color = \"blue\")\n",
    "plt.plot(y_val,y_val,'k-')\n",
    "# plt.xlabel(\"Normalized GDP\")\n",
    "# plt.ylabel(\"Predicted GDP\")\n",
    "# plt.title(\"Night Lights Model\")\n",
    "# plt.xlim(0,1)\n",
    "# plt.ylim(0,1)"
   ]
  },
  {
   "cell_type": "markdown",
   "id": "stylish-salon",
   "metadata": {},
   "source": [
    "## Random Forest Cross Validation (n=5) with grid search (Best Model)"
   ]
  },
  {
   "cell_type": "code",
   "execution_count": 37,
   "id": "aerial-uruguay",
   "metadata": {},
   "outputs": [
    {
     "name": "stderr",
     "output_type": "stream",
     "text": [
      "C:\\Users\\ck24\\.conda\\envs\\ace592\\lib\\site-packages\\sklearn\\model_selection\\_search.py:278: UserWarning: The total space of parameters 2 is smaller than n_iter=20. Running 2 iterations. For exhaustive searches, use GridSearchCV.\n",
      "  warnings.warn(\n",
      "C:\\Users\\ck24\\.conda\\envs\\ace592\\lib\\site-packages\\sklearn\\model_selection\\_search.py:765: DataConversionWarning: A column-vector y was passed when a 1d array was expected. Please change the shape of y to (n_samples,), for example using ravel().\n",
      "  self.best_estimator_.fit(X, y, **fit_params)\n"
     ]
    },
    {
     "data": {
      "text/plain": [
       "RandomizedSearchCV(estimator=RandomForestRegressor(random_state=40), n_iter=20,\n",
       "                   n_jobs=-1,\n",
       "                   param_distributions={'bootstrap': [True, False],\n",
       "                                        'max_depth': [100],\n",
       "                                        'n_estimators': [100]},\n",
       "                   random_state=40)"
      ]
     },
     "execution_count": 37,
     "metadata": {},
     "output_type": "execute_result"
    }
   ],
   "source": [
    "random_grid = {'n_estimators': [100],\n",
    "               'max_depth': [100],\n",
    "               'bootstrap': [True,False]}\n",
    "\n",
    "rf = RandomForestRegressor(random_state = 40)\n",
    "rf_random = RandomizedSearchCV(rf,random_grid,n_iter=20,n_jobs=-1,random_state=40)\n",
    "\n",
    "rf_random.fit(X_train,y_train)"
   ]
  },
  {
   "cell_type": "code",
   "execution_count": 38,
   "id": "unknown-throat",
   "metadata": {},
   "outputs": [
    {
     "name": "stdout",
     "output_type": "stream",
     "text": [
      "\n",
      "Random Forest Validation: \n",
      "RMSE: 0.21711328094136154, r2: 0.7000592285600662\n"
     ]
    },
    {
     "data": {
      "text/plain": [
       "Text(0, 0.5, 'Predicted Income')"
      ]
     },
     "execution_count": 38,
     "metadata": {},
     "output_type": "execute_result"
    },
    {
     "data": {
      "image/png": "[encoded data removed]",
      "text/plain": [
       "<Figure size 432x288 with 1 Axes>"
      ]
     },
     "metadata": {
      "needs_background": "light"
     },
     "output_type": "display_data"
    }
   ],
   "source": [
    "y_pred_rf = rf_random.predict(X_val)\n",
    "rmse = np.sqrt(mean_squared_error(y_val, y_pred_rf))\n",
    "r2 = r2_score(y_val, y_pred_rf)\n",
    "print(\"\\nRandom Forest Validation: \\nRMSE: {}, r2: {}\".format(rmse,r2))\n",
    "plt.plot(y_val,y_pred_rf,'o', color = \"blue\")\n",
    "plt.plot(y_val,y_val,'k-')\n",
    "plt.title(\"Random Forest Model with Cross Validation\")\n",
    "plt.xlabel(\"Actual Income\")\n",
    "plt.ylabel(\"Predicted Income\")\n"
   ]
  },
  {
   "cell_type": "code",
   "execution_count": 39,
   "id": "electric-cabinet",
   "metadata": {},
   "outputs": [
    {
     "name": "stderr",
     "output_type": "stream",
     "text": [
      "<ipython-input-39-2832a24e849b>:3: DataConversionWarning: A column-vector y was passed when a 1d array was expected. Please change the shape of y to (n_samples,), for example using ravel().\n",
      "  best_model.fit(X_train, y_train)\n"
     ]
    }
   ],
   "source": [
    "top_params = rf_random.best_params_\n",
    "best_model = RandomForestRegressor(n_estimators=top_params['n_estimators'],max_depth = top_params['max_depth'], bootstrap = top_params['bootstrap'])\n",
    "best_model.fit(X_train, y_train)\n",
    "importance = best_model.feature_importances_"
   ]
  },
  {
   "cell_type": "code",
   "execution_count": 40,
   "id": "judicial-basement",
   "metadata": {},
   "outputs": [
    {
     "data": {
      "text/plain": [
       "([0, 1, 2, 3, 4, 5, 6, 7, 8, 9],\n",
       " [Text(0, 0, ''),\n",
       "  Text(0, 0, ''),\n",
       "  Text(0, 0, ''),\n",
       "  Text(0, 0, ''),\n",
       "  Text(0, 0, ''),\n",
       "  Text(0, 0, ''),\n",
       "  Text(0, 0, ''),\n",
       "  Text(0, 0, ''),\n",
       "  Text(0, 0, ''),\n",
       "  Text(0, 0, '')])"
      ]
     },
     "execution_count": 40,
     "metadata": {},
     "output_type": "execute_result"
    },
    {
     "data": {
      "image/png": "[encoded data removed]",
      "text/plain": [
       "<Figure size 720x360 with 1 Axes>"
      ]
     },
     "metadata": {
      "needs_background": "light"
     },
     "output_type": "display_data"
    }
   ],
   "source": [
    "important_features_dict = {}\n",
    "for idx, val in enumerate(importance):\n",
    "    important_features_dict[idx] = val\n",
    "\n",
    "important_features_list = sorted(important_features_dict,\n",
    "                                 key=important_features_dict.get,\n",
    "                                 reverse=True)\n",
    "top_10 = important_features_list[:10]\n",
    "\n",
    "cols = data_x.columns.to_list()\n",
    "top10important = []\n",
    "list_of_top10 = []\n",
    "for i in top_10:\n",
    "    top10important.append(cols[i])\n",
    "    list_of_top10.append(important_features_dict[i])\n",
    "    \n",
    "import matplotlib.pyplot as pyplot\n",
    "# pyplot.barh(list_of_top10)\n",
    "fig = plt.figure(figsize = (10, 5))\n",
    " # creating the bar plot\n",
    "pyplot.bar(top10important, list_of_top10, color ='maroon',\n",
    "        width = 0.4)\n",
    "pyplot.xticks(rotation = 45) \n",
    " "
   ]
  },
  {
   "cell_type": "markdown",
   "id": "filled-damage",
   "metadata": {},
   "source": [
    "# Mapping Result (Longdata_Random Forest)"
   ]
  },
  {
   "cell_type": "code",
   "execution_count": 43,
   "id": "optional-average",
   "metadata": {},
   "outputs": [],
   "source": [
    "#Set path where the Mexico boundary shp file is\n",
    "shp_path = r'C:\\Users\\ck24\\Box\\Pollution_Sp21\\Data\\boundary_shp'"
   ]
  },
  {
   "cell_type": "code",
   "execution_count": 44,
   "id": "ignored-incident",
   "metadata": {},
   "outputs": [],
   "source": [
    "mex_district_0 = geopandas.read_file(shp_path+r'\\mex_admbnda_adm1_govmex_20200618.shp')\n",
    "mex_district = geopandas.read_file(shp_path+r'\\mex_admbnda_adm2_govmex_20200618.shp')"
   ]
  },
  {
   "cell_type": "code",
   "execution_count": 45,
   "id": "limited-discrimination",
   "metadata": {},
   "outputs": [],
   "source": [
    "# Add predictied value(from RF) and ground truth Y to geodataframe for mapping\n",
    "X_val_c['y_pred_rf'] = y_pred_rf\n",
    "X_val_c['y_val'] = y_val\n",
    "\n",
    "clean4map = pd.merge(data_long.reset_index()[['index','ADM2_PCODE']], X_val_c)\n",
    "\n",
    "#merge geodataframe with the result(RF prediction)\n",
    "mex_district = pd.merge(mex_district, clean4map, on='ADM2_PCODE')"
   ]
  },
  {
   "cell_type": "code",
   "execution_count": 46,
   "id": "tough-automation",
   "metadata": {},
   "outputs": [
    {
     "name": "stderr",
     "output_type": "stream",
     "text": [
      "<ipython-input-46-bd0eb0d935b9>:2: UserWarning: Geometry is in a geographic CRS. Results from 'centroid' are likely incorrect. Use 'GeoSeries.to_crs()' to re-project geometries to a projected CRS before this operation.\n",
      "\n",
      "  mex_district['centroid'] = mex_district['geometry'].centroid\n"
     ]
    }
   ],
   "source": [
    "#Set centroid as geometry\n",
    "mex_district['centroid'] = mex_district['geometry'].centroid\n",
    "mex_district = mex_district.set_geometry('centroid')"
   ]
  },
  {
   "cell_type": "code",
   "execution_count": 47,
   "id": "animated-birth",
   "metadata": {},
   "outputs": [
    {
     "data": {
      "text/plain": [
       "(-119.94927177954999,\n",
       " -85.12795580944997,\n",
       " 13.625896653700064,\n",
       " 33.627803596300055)"
      ]
     },
     "execution_count": 47,
     "metadata": {},
     "output_type": "execute_result"
    },
    {
     "data": {
      "image/png": "[encoded data removed]",
      "text/plain": [
       "<Figure size 1440x720 with 2 Axes>"
      ]
     },
     "metadata": {
      "needs_background": "light"
     },
     "output_type": "display_data"
    }
   ],
   "source": [
    "#Plot Maps\n",
    "fig, ax = plt.subplots(1,2, figsize=(20,10))\n",
    "\n",
    "mex_district.plot(column='y_val', cmap='OrRd',markersize=10,legend=True,scheme='quantiles',ax=ax[0]);\n",
    "mex_district_0.plot(ax=ax[0],facecolor='none',edgecolor='black',linewidth=0.5)\n",
    "ax[0].set_title('Ground Truth_Y_RF_Quantile Map')\n",
    "ax[0].axis('off')\n",
    "mex_district.plot(column='y_pred_rf', cmap='OrRd',markersize=10,legend=True,scheme='quantiles',ax=ax[1]);\n",
    "mex_district_0.plot(ax=ax[1],facecolor='none',edgecolor='black',linewidth=0.5)\n",
    "ax[1].set_title('Predicted Y_RF_Quantile Map')\n",
    "ax[1].axis('off')"
   ]
  },
  {
   "cell_type": "markdown",
   "id": "caroline-young",
   "metadata": {},
   "source": [
    "## Using Wide Data Format"
   ]
  },
  {
   "cell_type": "code",
   "execution_count": null,
   "id": "liked-canal",
   "metadata": {},
   "outputs": [],
   "source": [
    "data_wide.dropna(inplace = True)"
   ]
  },
  {
   "cell_type": "code",
   "execution_count": null,
   "id": "golden-duncan",
   "metadata": {},
   "outputs": [],
   "source": [
    "data_wide[\"gva_diff\"] = data_wide[\"gva_r14\"] - data_wide[\"gva_r09\"]\n",
    "Data_x = data_wide.drop(columns = [\"ADM1_ES\",\"ADM2_ES\",\"ADM2_PCODE\",\"new_cod\",\"NOM_MUN\",\"gva_r09\",\"gva_r14\",\"gva_diff\"])\n",
    "Data_y = data_wide[[\"gva_r14\"]]\n",
    "\n",
    "X_ = StandardScaler().fit_transform(Data_x)\n",
    "y_ = StandardScaler().fit_transform(Data_y)\n",
    "\n",
    "\n",
    "# Split sample into training, validation, testing:\n",
    "X_trn, X_tst, y_trn, y_tst = train_test_split(X_, y_, test_size=0.1, random_state=0)\n",
    "# Create a validation set (to use test for later)\n",
    "X_train, X_valid, y_train, y_valid = train_test_split(X_trn, y_trn, test_size=0.1, random_state=0)\n",
    "\n",
    "from sklearn.linear_model import LinearRegression\n",
    "reg = LinearRegression().fit(X_train, y_train)\n",
    "ols_pred = reg.predict(X_valid)\n",
    "\n",
    "rmse = np.sqrt(mean_squared_error(y_valid, ols_pred))\n",
    "r2 = r2_score(y_valid, ols_pred)\n",
    "\n",
    "print(\"RMSE: {}, r2: {}\".format(rmse,r2))\n",
    "\n",
    "print('Coefficients: \\n', reg.coef_)\n",
    "# The mean squared error\n",
    "print('Mean squared error: %.2f'% np.sqrt(mean_squared_error(y_valid, ols_pred)))\n",
    "# The coefficient of determination: 1 is perfect prediction\n",
    "print('Coefficient of determination: %.2f'\n",
    "      % r2_score(y_valid, ols_pred))\n",
    "\n"
   ]
  },
  {
   "cell_type": "code",
   "execution_count": null,
   "id": "widespread-mongolia",
   "metadata": {},
   "outputs": [],
   "source": [
    "output_wide, colnames_wide = interaction_terms(Data_x)"
   ]
  },
  {
   "cell_type": "code",
   "execution_count": null,
   "id": "fifty-madison",
   "metadata": {},
   "outputs": [],
   "source": [
    "Data_X = pd.DataFrame(output_wide, columns= colnames_wide)\n",
    "Data_X.shape, Data_y.shape, Data_diff.shape"
   ]
  },
  {
   "cell_type": "code",
   "execution_count": null,
   "id": "amazing-strike",
   "metadata": {},
   "outputs": [],
   "source": [
    "# Normalizing data with StandardScaler()\n",
    "X_ = StandardScaler().fit_transform(Data_X)\n",
    "y_ = StandardScaler().fit_transform(Data_y)\n",
    "y_2 = StandardScaler().fit_transform(Data_diff)"
   ]
  },
  {
   "cell_type": "code",
   "execution_count": null,
   "id": "optical-valuation",
   "metadata": {},
   "outputs": [],
   "source": [
    "# Split sample into training, validation, testing:\n",
    "X_trn, X_tst, y_trn, y_tst = train_test_split(X_, y_, test_size=0.1, random_state=0)\n",
    "# Create a validation set (to use test for later)\n",
    "X_train, X_valid, y_train, y_valid = train_test_split(X_trn, y_trn, test_size=0.1, random_state=0)\n"
   ]
  },
  {
   "cell_type": "code",
   "execution_count": null,
   "id": "universal-graham",
   "metadata": {},
   "outputs": [],
   "source": [
    "A = np.arange(.01,0.5,.1)\n",
    "lasso_model = LassoCV(alphas=A,cv=10)\n",
    "lasso_model = lasso_model.fit(X_train,y_train)\n",
    "print(\"Most optimal value for alpha parameter is:\",lasso_model.alpha_)"
   ]
  },
  {
   "cell_type": "code",
   "execution_count": null,
   "id": "dependent-lighter",
   "metadata": {},
   "outputs": [],
   "source": [
    "bool_ = lasso_model.coef_!=0\n",
    "\n",
    "print(\"Number of features fed into model: {}\".format(len(lasso_model.coef_)))\n",
    "print(\"Number of features that are non zero:\",sum(bool_))\n",
    "print(\"\\nFeatures that are non zero:\\n\",Data_X.iloc[:,bool_].columns.tolist())\n",
    "\n",
    "y_pred = lasso_model.predict(X_valid)\n",
    "rmse = np.sqrt(mean_squared_error(y_valid, y_pred))\n",
    "r2 = r2_score(y_valid, y_pred)\n",
    "\n",
    "print(\"\\nLasso Cross Validation - interaction terms: \\nRMSE: {}, r2: {}\".format(rmse,r2))\n",
    "plt.plot(y_valid,y_pred,'o', color = \"blue\")\n",
    "plt.plot(y_valid,y_valid,'k-')\n",
    "plt.xlabel(\"Actual Income\")\n",
    "plt.ylabel(\"Predicted Income\")\n",
    "plt.title(\"Lasso Model (Wide)\")\n"
   ]
  },
  {
   "cell_type": "markdown",
   "id": "nearby-commercial",
   "metadata": {},
   "source": [
    "## Random Forest"
   ]
  },
  {
   "cell_type": "code",
   "execution_count": null,
   "id": "neural-evanescence",
   "metadata": {},
   "outputs": [],
   "source": [
    "Data_x = data_wide.drop(columns = [\"ADM1_ES\",\"ADM2_ES\",\"ADM2_PCODE\",\"new_cod\",\"NOM_MUN\",\"gva_r09\",\"gva_r14\"])\n",
    "Data_y = data_wide[[\"gva_r14\"]]"
   ]
  },
  {
   "cell_type": "code",
   "execution_count": null,
   "id": "intense-committee",
   "metadata": {},
   "outputs": [],
   "source": [
    "# Normalizing data with StandardScaler()\n",
    "X_ = StandardScaler().fit_transform(Data_x)\n",
    "y_ = StandardScaler().fit_transform(Data_y)"
   ]
  },
  {
   "cell_type": "code",
   "execution_count": null,
   "id": "regional-implement",
   "metadata": {},
   "outputs": [],
   "source": [
    "# Split sample into training, validation, testing:\n",
    "X_trn, X_tst, y_trn, y_tst = train_test_split(X_, y_, test_size=0.1, random_state=0)\n",
    "# Create a validation set (to use test for later)\n",
    "X_train, X_valid, y_train, y_valid = train_test_split(X_trn, y_trn, test_size=0.1, random_state=0)\n"
   ]
  },
  {
   "cell_type": "code",
   "execution_count": null,
   "id": "double-beaver",
   "metadata": {},
   "outputs": [],
   "source": [
    "random_grid = {'n_estimators': [100],\n",
    "               'max_depth': [100],\n",
    "               'bootstrap': [True,False]}\n",
    "\n",
    "rf = RandomForestRegressor(random_state = 30)\n",
    "rf_random = RandomizedSearchCV(rf,random_grid,n_iter=20,n_jobs=-1,random_state=30)\n",
    "\n",
    "rf_random.fit(X_train,y_train)"
   ]
  },
  {
   "cell_type": "code",
   "execution_count": null,
   "id": "phantom-spotlight",
   "metadata": {},
   "outputs": [],
   "source": [
    "y_pred_rf = rf_random.predict(X_valid)\n",
    "rmse = np.sqrt(mean_squared_error(y_valid, y_pred_rf))\n",
    "r2 = r2_score(y_valid, y_pred_rf)\n",
    "print(\"\\nRandom Forest Validation: \\nRMSE: {}, r2: {}\".format(rmse,r2))\n",
    "plt.plot(y_valid,y_pred_rf,'o', color = \"blue\")\n",
    "plt.plot(y_valid,y_valid,'k-')\n",
    "plt.title(\"Random Forest Model with Cross Validation (Wide)\")\n",
    "plt.xlabel(\"Actual Income\")\n",
    "plt.ylabel(\"Predicted Income\")\n",
    "\n",
    "X_.shape"
   ]
  },
  {
   "cell_type": "markdown",
   "id": "killing-acceptance",
   "metadata": {},
   "source": [
    "## Change in Economic Income"
   ]
  },
  {
   "cell_type": "code",
   "execution_count": null,
   "id": "advised-packaging",
   "metadata": {},
   "outputs": [],
   "source": [
    "#Wide format difference in prediction\n",
    "data_wide[\"gva_diff\"] = data_wide[\"gva_r14\"] - data_wide[\"gva_r09\"]\n",
    "Data_x = data_wide.drop(columns = [\"ADM1_ES\",\"ADM2_ES\",\"ADM2_PCODE\",\"new_cod\",\"NOM_MUN\",\"gva_r09\",\"gva_r14\",\"gva_diff\"])\n",
    "Data_y2 = data_wide[[\"gva_diff\"]]\n"
   ]
  },
  {
   "cell_type": "code",
   "execution_count": null,
   "id": "higher-edition",
   "metadata": {},
   "outputs": [],
   "source": [
    "X_ = StandardScaler().fit_transform(Data_x)\n",
    "y_ = StandardScaler().fit_transform(Data_y2)\n"
   ]
  },
  {
   "cell_type": "code",
   "execution_count": null,
   "id": "careful-chrome",
   "metadata": {},
   "outputs": [],
   "source": [
    "# Split sample into training, validation, testing:\n",
    "X_trn, X_tst, y_trn, y_tst = train_test_split(X_, y_, test_size=0.1, random_state=0)\n",
    "# Create a validation set (to use test for later)\n",
    "X_trn, X_valid, y_trn, y_valid = train_test_split(X_trn, y_trn, test_size=0.1, random_state=0)"
   ]
  },
  {
   "cell_type": "code",
   "execution_count": null,
   "id": "otherwise-brown",
   "metadata": {},
   "outputs": [],
   "source": [
    "from sklearn.linear_model import LinearRegression\n",
    "reg = LinearRegression().fit(X_trn, y_trn)\n",
    "ols_pred = reg.predict(X_valid)\n",
    "\n",
    "rmse = np.sqrt(mean_squared_error(y_valid, ols_pred))\n",
    "r2 = r2_score(y_valid, ols_pred)\n",
    "\n",
    "print(\"RMSE: {}, r2: {}\".format(rmse,r2))\n",
    "\n",
    "print('Coefficients: \\n', reg.coef_)\n",
    "# The mean squared error\n",
    "print('Mean squared error: %.2f'% np.sqrt(mean_squared_error(y_valid, ols_pred)))\n",
    "# The coefficient of determination: 1 is perfect prediction\n",
    "print('Coefficient of determination: %.2f'\n",
    "      % r2_score(y_valid, ols_pred))\n",
    "\n"
   ]
  },
  {
   "cell_type": "code",
   "execution_count": null,
   "id": "adequate-studio",
   "metadata": {},
   "outputs": [],
   "source": [
    "regr = RandomForestRegressor(random_state=0)\n",
    "regr.fit(X_trn, y_trn)\n",
    "y_pred = regr.predict(X_valid)"
   ]
  },
  {
   "cell_type": "code",
   "execution_count": null,
   "id": "naval-invite",
   "metadata": {
    "scrolled": false
   },
   "outputs": [],
   "source": [
    "rmse = np.sqrt(mean_squared_error(y_valid, y_pred))\n",
    "r2 = r2_score(y_valid, y_pred)\n",
    "print(\"\\nRandom Forest Validation: \\nRMSE: {}, r2: {}\".format(rmse,r2))\n",
    "plt.plot(y_valid,y_pred,'o', color = \"blue\")\n",
    "plt.plot(y_valid,y_valid,'k-')\n",
    "plt.title(\"Random Forest Model (Growth in Economic Income)\")\n",
    "plt.xlabel(\"Actual Change in Income\")\n",
    "plt.ylabel(\"Predicted Change in Income\")"
   ]
  },
  {
   "cell_type": "code",
   "execution_count": null,
   "id": "supported-ranch",
   "metadata": {},
   "outputs": [],
   "source": [
    "random_grid = {'n_estimators': [100],\n",
    "               'max_depth': [100],\n",
    "               'bootstrap': [True,False]}\n",
    "\n",
    "rf = RandomForestRegressor(random_state = 30)\n",
    "rf_random = RandomizedSearchCV(rf,random_grid,n_iter=20,n_jobs=-1,random_state=30)\n",
    "\n",
    "rf_random.fit(X_trn,y_trn)"
   ]
  },
  {
   "cell_type": "code",
   "execution_count": null,
   "id": "meaning-developer",
   "metadata": {},
   "outputs": [],
   "source": [
    "y_pred = rf_random.predict(X_valid)\n",
    "\n",
    "rmse = np.sqrt(mean_squared_error(y_valid, y_pred))\n",
    "r2 = r2_score(y_valid, y_pred)\n",
    "print(\"\\nRandom Forest Validation: \\nRMSE: {}, r2: {}\".format(rmse,r2))\n",
    "plt.plot(y_valid,y_pred,'o', color = \"blue\")\n",
    "plt.plot(y_valid,y_valid,'k-')\n",
    "plt.title(\"Random Forest Model (Growth in Economic Income)\")\n",
    "plt.xlabel(\"Actual Change in Income\")\n",
    "plt.ylabel(\"Predicted Change in Income\")"
   ]
  },
  {
   "cell_type": "markdown",
   "id": "approximate-alias",
   "metadata": {},
   "source": [
    "## LASSO"
   ]
  },
  {
   "cell_type": "code",
   "execution_count": null,
   "id": "constant-shower",
   "metadata": {},
   "outputs": [],
   "source": [
    "output_wide, colnames_wide = interaction_terms(Data_x)\n",
    "Data_x_int = pd.DataFrame(output_wide, columns= colnames_wide)\n",
    "\n",
    "X_int = StandardScaler().fit_transform(Data_x_int)\n",
    "\n",
    "# Split sample into training, validation, testing:\n",
    "X_trn, X_tst, y_trn, y_tst = train_test_split(X_int, y_, test_size=0.1, random_state=0)\n",
    "# Create a validation set (to use test for later)\n",
    "X_train, X_valid, y_train, y_valid = train_test_split(X_trn, y_trn, test_size=0.1, random_state=0)"
   ]
  },
  {
   "cell_type": "code",
   "execution_count": null,
   "id": "seventh-noise",
   "metadata": {},
   "outputs": [],
   "source": [
    "from sklearn.linear_model import LinearRegression\n",
    "reg = LinearRegression().fit(X_train, y_train)\n",
    "ols_pred = reg.predict(X_valid)\n",
    "\n",
    "rmse = np.sqrt(mean_squared_error(y_valid, ols_pred))\n",
    "r2 = r2_score(y_valid, ols_pred)\n",
    "\n",
    "print(\"RMSE: {}, r2: {}\".format(rmse,r2))\n"
   ]
  },
  {
   "cell_type": "code",
   "execution_count": null,
   "id": "military-moment",
   "metadata": {},
   "outputs": [],
   "source": [
    "A = np.arange(.01,0.5,.1)\n",
    "lasso_model = LassoCV(alphas=A,cv=10)\n",
    "lasso_model = lasso_model.fit(X_train,y_train)\n",
    "print(\"Most optimal value for alpha parameter is:\",lasso_model.alpha_)"
   ]
  },
  {
   "cell_type": "code",
   "execution_count": null,
   "id": "regulation-charm",
   "metadata": {},
   "outputs": [],
   "source": [
    "bool_ = lasso_model.coef_!=0\n",
    "\n",
    "print(\"Number of features fed into model: {}\".format(len(lasso_model.coef_)))\n",
    "print(\"Number of features that are non zero:\",sum(bool_))\n",
    "print(\"\\nFeatures that are non zero:\\n\",Data_x_int.iloc[:,bool_].columns.tolist())\n",
    "\n",
    "y_pred = lasso_model.predict(X_valid)\n",
    "rmse = np.sqrt(mean_squared_error(y_valid, y_pred))\n",
    "r2 = r2_score(y_valid, y_pred)\n",
    "\n",
    "print(\"\\nLasso Cross Validation - interaction terms: \\nRMSE: {}, r2: {}\".format(rmse,r2))\n",
    "plt.plot(y_valid,y_pred,'o', color = \"blue\")\n",
    "plt.plot(y_valid,y_valid,'k-')\n",
    "plt.xlabel(\"Actual Income\")\n",
    "plt.ylabel(\"Predicted Income\")\n",
    "plt.title(\"Lasso Model (Wide)\")\n"
   ]
  },
  {
   "cell_type": "code",
   "execution_count": null,
   "id": "center-bottom",
   "metadata": {},
   "outputs": [],
   "source": [
    "Data_x_int"
   ]
  },
  {
   "cell_type": "code",
   "execution_count": null,
   "id": "bearing-trustee",
   "metadata": {},
   "outputs": [],
   "source": []
  }
 ],
 "metadata": {
  "kernelspec": {
   "display_name": "Python 3",
   "language": "python",
   "name": "python3"
  },
  "language_info": {
   "codemirror_mode": {
    "name": "ipython",
    "version": 3
   },
   "file_extension": ".py",
   "mimetype": "text/x-python",
   "name": "python",
   "nbconvert_exporter": "python",
   "pygments_lexer": "ipython3",
   "version": "3.8.5"
  }
 },
 "nbformat": 4,
 "nbformat_minor": 5
}
