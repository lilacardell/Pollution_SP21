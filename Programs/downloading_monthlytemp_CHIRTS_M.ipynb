{
 "cells": [
  {
   "cell_type": "code",
   "execution_count": 1,
   "id": "designing-doctrine",
   "metadata": {},
   "outputs": [],
   "source": [
    "import os\n",
    "from netrc import netrc\n",
    "from subprocess import Popen\n",
    "from getpass import getpass\n",
    "import os\n",
    "import urllib\n",
    "import urllib3\n",
    "import requests\n",
    "from bs4 import BeautifulSoup\n",
    "urllib3.disable_warnings()"
   ]
  },
  {
   "cell_type": "code",
   "execution_count": 2,
   "id": "unlikely-ready",
   "metadata": {},
   "outputs": [],
   "source": [
    "def extracturl(url):\n",
    "    # Retreive links in tahe URL path\n",
    "    urlpath = urllib.request.urlopen(url)\n",
    "    html_doc = urlpath.read().decode('utf-8')\n",
    "    \n",
    "    # BeautifulSoup object\n",
    "    soup = BeautifulSoup(html_doc, 'html.parser')\n",
    "    \n",
    "    # Make a list of hyerlinks\n",
    "    links = []\n",
    "    for link in soup.find_all('a'):\n",
    "        links.append(link.get('href'))\n",
    "    \n",
    "    # Remove the parent link        \n",
    "    links.pop(0)     \n",
    "    return links"
   ]
  },
  {
   "cell_type": "code",
   "execution_count": 3,
   "id": "broad-grenada",
   "metadata": {},
   "outputs": [
    {
     "data": {
      "text/plain": [
       "'C:\\\\Users\\\\ck24\\\\ACE_592\\\\Pollution_Sp21\\\\Data\\\\temp_month'"
      ]
     },
     "execution_count": 3,
     "metadata": {},
     "output_type": "execute_result"
    }
   ],
   "source": [
    "#set saveDir\n",
    "saveDir = os.getcwd()[:-8]+r'Data\\temp_month'\n",
    "saveDir"
   ]
  },
  {
   "cell_type": "code",
   "execution_count": 4,
   "id": "suitable-costa",
   "metadata": {},
   "outputs": [
    {
     "data": {
      "text/plain": [
       "['?C=M;O=A',\n",
       " '?C=S;O=A',\n",
       " '?C=D;O=A',\n",
       " '/products/',\n",
       " 'CHIRTSmax.CDR/',\n",
       " 'CHIRTmax.CDR/',\n",
       " 'CHTSmax.CDR/',\n",
       " 'CHTclim-v1/',\n",
       " 'aaa.readme.txt',\n",
       " 'jcli-d-18-0698.1.pdf',\n",
       " 'netcdf/']"
      ]
     },
     "execution_count": 4,
     "metadata": {},
     "output_type": "execute_result"
    }
   ],
   "source": [
    "# Sub directories\n",
    "url = 'http://data.chc.ucsb.edu/products/CHIRTSmonthly/'\n",
    "url_sub = extracturl(url)\n",
    "#url_sub = [t for t in url_sub if 'CHIRTmax' in t]\n",
    "# URL format\n",
    "#url_sub = [url+t for t in url_sub]\n",
    "url_sub"
   ]
  },
  {
   "cell_type": "code",
   "execution_count": 6,
   "id": "automated-extension",
   "metadata": {},
   "outputs": [],
   "source": [
    "for sub in url_sub:\n",
    "    if not os.path.exists(saveDir):\n",
    "        os.makedirs(saveDir)\n",
    "        \n",
    "    # extract only 2004 / 2009 / 2014\n",
    "    fn_tif = [t for t in extracturl(sub) if ('2004' in t) | ('2009' in t) |('2014' in t)]\n",
    "    # Continue if no tif file\n",
    "    if len(fn_tif) == 0: continue\n",
    "    file=[]\n",
    "    saveName=[]\n",
    "    for i in fn_tif:\n",
    "        file.append(sub + i)\n",
    "        for j in file:\n",
    "            saveName.append(os.path.join(saveDir, j.split('/')[-1].strip()))\n",
    "            saveName = list(dict.fromkeys(saveName))"
   ]
  },
  {
   "cell_type": "code",
   "execution_count": 11,
   "id": "assured-eligibility",
   "metadata": {
    "scrolled": true
   },
   "outputs": [
    {
     "name": "stdout",
     "output_type": "stream",
     "text": [
      "Downloaded file: C:\\Users\\ck24\\ACE_592\\Pollution_Sp21\\Data\\temp_month\\CHIRTmax.2004.01.tif\n",
      "Downloaded file: C:\\Users\\ck24\\ACE_592\\Pollution_Sp21\\Data\\temp_month\\CHIRTmax.2004.02.tif\n",
      "Downloaded file: C:\\Users\\ck24\\ACE_592\\Pollution_Sp21\\Data\\temp_month\\CHIRTmax.2004.03.tif\n",
      "Downloaded file: C:\\Users\\ck24\\ACE_592\\Pollution_Sp21\\Data\\temp_month\\CHIRTmax.2004.04.tif\n",
      "Downloaded file: C:\\Users\\ck24\\ACE_592\\Pollution_Sp21\\Data\\temp_month\\CHIRTmax.2004.05.tif\n",
      "Downloaded file: C:\\Users\\ck24\\ACE_592\\Pollution_Sp21\\Data\\temp_month\\CHIRTmax.2004.06.tif\n",
      "Downloaded file: C:\\Users\\ck24\\ACE_592\\Pollution_Sp21\\Data\\temp_month\\CHIRTmax.2004.07.tif\n",
      "Downloaded file: C:\\Users\\ck24\\ACE_592\\Pollution_Sp21\\Data\\temp_month\\CHIRTmax.2004.08.tif\n",
      "Downloaded file: C:\\Users\\ck24\\ACE_592\\Pollution_Sp21\\Data\\temp_month\\CHIRTmax.2004.09.tif\n",
      "Downloaded file: C:\\Users\\ck24\\ACE_592\\Pollution_Sp21\\Data\\temp_month\\CHIRTmax.2004.10.tif\n",
      "Downloaded file: C:\\Users\\ck24\\ACE_592\\Pollution_Sp21\\Data\\temp_month\\CHIRTmax.2004.11.tif\n",
      "Downloaded file: C:\\Users\\ck24\\ACE_592\\Pollution_Sp21\\Data\\temp_month\\CHIRTmax.2004.12.tif\n",
      "Downloaded file: C:\\Users\\ck24\\ACE_592\\Pollution_Sp21\\Data\\temp_month\\CHIRTmax.2009.01.tif\n",
      "Downloaded file: C:\\Users\\ck24\\ACE_592\\Pollution_Sp21\\Data\\temp_month\\CHIRTmax.2009.02.tif\n",
      "Downloaded file: C:\\Users\\ck24\\ACE_592\\Pollution_Sp21\\Data\\temp_month\\CHIRTmax.2009.03.tif\n",
      "Downloaded file: C:\\Users\\ck24\\ACE_592\\Pollution_Sp21\\Data\\temp_month\\CHIRTmax.2009.04.tif\n",
      "Downloaded file: C:\\Users\\ck24\\ACE_592\\Pollution_Sp21\\Data\\temp_month\\CHIRTmax.2009.05.tif\n",
      "Downloaded file: C:\\Users\\ck24\\ACE_592\\Pollution_Sp21\\Data\\temp_month\\CHIRTmax.2009.06.tif\n",
      "Downloaded file: C:\\Users\\ck24\\ACE_592\\Pollution_Sp21\\Data\\temp_month\\CHIRTmax.2009.07.tif\n",
      "Downloaded file: C:\\Users\\ck24\\ACE_592\\Pollution_Sp21\\Data\\temp_month\\CHIRTmax.2009.08.tif\n",
      "Downloaded file: C:\\Users\\ck24\\ACE_592\\Pollution_Sp21\\Data\\temp_month\\CHIRTmax.2009.09.tif\n",
      "Downloaded file: C:\\Users\\ck24\\ACE_592\\Pollution_Sp21\\Data\\temp_month\\CHIRTmax.2009.10.tif\n",
      "Downloaded file: C:\\Users\\ck24\\ACE_592\\Pollution_Sp21\\Data\\temp_month\\CHIRTmax.2009.11.tif\n",
      "Downloaded file: C:\\Users\\ck24\\ACE_592\\Pollution_Sp21\\Data\\temp_month\\CHIRTmax.2009.12.tif\n",
      "Downloaded file: C:\\Users\\ck24\\ACE_592\\Pollution_Sp21\\Data\\temp_month\\CHIRTmax.2014.01.tif\n",
      "Downloaded file: C:\\Users\\ck24\\ACE_592\\Pollution_Sp21\\Data\\temp_month\\CHIRTmax.2014.02.tif\n",
      "Downloaded file: C:\\Users\\ck24\\ACE_592\\Pollution_Sp21\\Data\\temp_month\\CHIRTmax.2014.03.tif\n",
      "Downloaded file: C:\\Users\\ck24\\ACE_592\\Pollution_Sp21\\Data\\temp_month\\CHIRTmax.2014.04.tif\n",
      "Downloaded file: C:\\Users\\ck24\\ACE_592\\Pollution_Sp21\\Data\\temp_month\\CHIRTmax.2014.05.tif\n",
      "Downloaded file: C:\\Users\\ck24\\ACE_592\\Pollution_Sp21\\Data\\temp_month\\CHIRTmax.2014.06.tif\n",
      "Downloaded file: C:\\Users\\ck24\\ACE_592\\Pollution_Sp21\\Data\\temp_month\\CHIRTmax.2014.07.tif\n",
      "Downloaded file: C:\\Users\\ck24\\ACE_592\\Pollution_Sp21\\Data\\temp_month\\CHIRTmax.2014.08.tif\n",
      "Downloaded file: C:\\Users\\ck24\\ACE_592\\Pollution_Sp21\\Data\\temp_month\\CHIRTmax.2014.09.tif\n",
      "Downloaded file: C:\\Users\\ck24\\ACE_592\\Pollution_Sp21\\Data\\temp_month\\CHIRTmax.2014.10.tif\n",
      "Downloaded file: C:\\Users\\ck24\\ACE_592\\Pollution_Sp21\\Data\\temp_month\\CHIRTmax.2014.11.tif\n",
      "Downloaded file: C:\\Users\\ck24\\ACE_592\\Pollution_Sp21\\Data\\temp_month\\CHIRTmax.2014.12.tif\n"
     ]
    }
   ],
   "source": [
    "# This cell will download & save every files to 'saveDir'\n",
    "\n",
    "for i,f in enumerate(file):\n",
    "    with requests.get(f.strip()) as response:\n",
    "        if response.status_code != 200:\n",
    "            print(\"cannot downloaded\")\n",
    "        else:\n",
    "            response.raw.decode_content = True\n",
    "            content = response.raw\n",
    "            with open(saveName[i], 'wb') as d:\n",
    "                #if os.path.exists(saveName[i]):\n",
    "                #    pass\n",
    "                #else:\n",
    "                    d.write(response.content)\n",
    "            print('Downloaded file: {}'.format(saveName[i]))"
   ]
  },
  {
   "cell_type": "code",
   "execution_count": null,
   "id": "inside-bloom",
   "metadata": {},
   "outputs": [],
   "source": []
  }
 ],
 "metadata": {
  "kernelspec": {
   "display_name": "Python 3",
   "language": "python",
   "name": "python3"
  },
  "language_info": {
   "codemirror_mode": {
    "name": "ipython",
    "version": 3
   },
   "file_extension": ".py",
   "mimetype": "text/x-python",
   "name": "python",
   "nbconvert_exporter": "python",
   "pygments_lexer": "ipython3",
   "version": "3.8.5"
  }
 },
 "nbformat": 4,
 "nbformat_minor": 5
}
