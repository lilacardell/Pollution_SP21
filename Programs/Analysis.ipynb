{
 "cells": [
  {
   "cell_type": "markdown",
   "id": "fossil-raise",
   "metadata": {},
   "source": [
    "# Imports"
   ]
  },
  {
   "cell_type": "code",
   "execution_count": 1,
   "id": "viral-gamma",
   "metadata": {},
   "outputs": [],
   "source": [
    "import pandas as pd\n",
    "import numpy as np\n",
    "from sklearn.preprocessing import PolynomialFeatures\n",
    "from sklearn.preprocessing import StandardScaler\n",
    "import matplotlib.pyplot as plt\n",
    "\n",
    "from sklearn.model_selection import train_test_split\n",
    "from sklearn.linear_model import Lasso\n",
    "from sklearn.linear_model import LassoCV\n",
    "\n",
    "from sklearn.ensemble import RandomForestRegressor\n",
    "from sklearn.model_selection import RandomizedSearchCV\n",
    "from sklearn.metrics import mean_squared_error\n",
    "from sklearn.metrics import r2_score\n"
   ]
  },
  {
   "cell_type": "code",
   "execution_count": 2,
   "id": "filled-serve",
   "metadata": {},
   "outputs": [
    {
     "data": {
      "text/plain": [
       "'C:\\\\Users\\\\ck24\\\\ACE_592\\\\Pollution_Sp21\\\\Data'"
      ]
     },
     "execution_count": 2,
     "metadata": {},
     "output_type": "execute_result"
    }
   ],
   "source": [
    "import os\n",
    "data_path = os.getcwd()[:-8]+r'Data'\n",
    "data_path"
   ]
  },
  {
   "cell_type": "code",
   "execution_count": 3,
   "id": "level-agent",
   "metadata": {
    "scrolled": true
   },
   "outputs": [],
   "source": [
    "#data_path = r\"C:\\Users\\gv4\\Box\\2. Research\\Air Pollution and Prediction\\Git_Pollution\\Pollution_Sp21\\Output\"\n",
    "\n",
    "data_path = r\"C:\\Users\\ck24\\Box\\Pollution_Sp21\\Output\"\n",
    "\n",
    "data_wide = pd.read_csv(data_path+\"\\Data_Final_wide.csv\")\n",
    "data_long = pd.read_csv(data_path+\"\\Data_Final_long.csv\")\n"
   ]
  },
  {
   "cell_type": "markdown",
   "id": "nervous-stations",
   "metadata": {},
   "source": [
    "## Long Data"
   ]
  },
  {
   "cell_type": "code",
   "execution_count": 4,
   "id": "monthly-alarm",
   "metadata": {},
   "outputs": [],
   "source": [
    "data_x = data_long.drop(columns = [\"year\",\"gva_r\"])\n",
    "data_y = data_long[[\"gva_r\"]]"
   ]
  },
  {
   "cell_type": "code",
   "execution_count": 5,
   "id": "contained-weekly",
   "metadata": {},
   "outputs": [],
   "source": [
    "# Creating a function for interaction terms for Lasso using Polynomial Features\n",
    "def interaction_terms(data):\n",
    "    interaction = PolynomialFeatures(2, interaction_only=True, include_bias=False)\n",
    "    output = interaction.fit_transform(data)\n",
    "    c_names = interaction.get_feature_names(data.columns)\n",
    "    return output,c_names\n",
    "\n",
    "output, colnames = interaction_terms(data_x)"
   ]
  },
  {
   "cell_type": "code",
   "execution_count": 6,
   "id": "classical-verse",
   "metadata": {},
   "outputs": [],
   "source": [
    "data_X = pd.DataFrame(output, columns= colnames)\n",
    "data_y = data_long[[\"gva_r\"]]"
   ]
  },
  {
   "cell_type": "code",
   "execution_count": 49,
   "id": "editorial-southeast",
   "metadata": {},
   "outputs": [
    {
     "data": {
      "text/html": [
       "<div>\n",
       "<style scoped>\n",
       "    .dataframe tbody tr th:only-of-type {\n",
       "        vertical-align: middle;\n",
       "    }\n",
       "\n",
       "    .dataframe tbody tr th {\n",
       "        vertical-align: top;\n",
       "    }\n",
       "\n",
       "    .dataframe thead th {\n",
       "        text-align: right;\n",
       "    }\n",
       "</style>\n",
       "<table border=\"1\" class=\"dataframe\">\n",
       "  <thead>\n",
       "    <tr style=\"text-align: right;\">\n",
       "      <th></th>\n",
       "      <th>index</th>\n",
       "      <th>Shape_Area</th>\n",
       "      <th>poll_min</th>\n",
       "      <th>poll_max</th>\n",
       "      <th>poll_mean</th>\n",
       "      <th>poll_std</th>\n",
       "      <th>year</th>\n",
       "      <th>night_min</th>\n",
       "      <th>night_max</th>\n",
       "      <th>night_mean</th>\n",
       "      <th>...</th>\n",
       "      <th>std_tmax_06</th>\n",
       "      <th>std_tmax_07</th>\n",
       "      <th>std_tmax_08</th>\n",
       "      <th>std_tmax_09</th>\n",
       "      <th>std_tmax_10</th>\n",
       "      <th>std_tmax_11</th>\n",
       "      <th>std_tmax_12</th>\n",
       "      <th>sqkms</th>\n",
       "      <th>tpop</th>\n",
       "      <th>gva_r</th>\n",
       "    </tr>\n",
       "  </thead>\n",
       "  <tbody>\n",
       "    <tr>\n",
       "      <th>0</th>\n",
       "      <td>0</td>\n",
       "      <td>0.102900</td>\n",
       "      <td>7.9</td>\n",
       "      <td>12.4</td>\n",
       "      <td>9.569089</td>\n",
       "      <td>0.696506</td>\n",
       "      <td>2009</td>\n",
       "      <td>0.0</td>\n",
       "      <td>59.0</td>\n",
       "      <td>20.200537</td>\n",
       "      <td>...</td>\n",
       "      <td>0.2476</td>\n",
       "      <td>0.3503</td>\n",
       "      <td>0.3047</td>\n",
       "      <td>0.3052</td>\n",
       "      <td>0.2808</td>\n",
       "      <td>0.3306</td>\n",
       "      <td>0.4480</td>\n",
       "      <td>1805.399048</td>\n",
       "      <td>851607.0</td>\n",
       "      <td>4.802176e+07</td>\n",
       "    </tr>\n",
       "    <tr>\n",
       "      <th>1</th>\n",
       "      <td>1</td>\n",
       "      <td>0.102900</td>\n",
       "      <td>6.9</td>\n",
       "      <td>11.3</td>\n",
       "      <td>8.319476</td>\n",
       "      <td>0.720867</td>\n",
       "      <td>2014</td>\n",
       "      <td>6.0</td>\n",
       "      <td>63.0</td>\n",
       "      <td>23.087162</td>\n",
       "      <td>...</td>\n",
       "      <td>0.2522</td>\n",
       "      <td>0.2996</td>\n",
       "      <td>0.3215</td>\n",
       "      <td>0.2499</td>\n",
       "      <td>0.2510</td>\n",
       "      <td>0.2174</td>\n",
       "      <td>0.2423</td>\n",
       "      <td>1805.399048</td>\n",
       "      <td>851607.0</td>\n",
       "      <td>3.902378e+07</td>\n",
       "    </tr>\n",
       "    <tr>\n",
       "      <th>2</th>\n",
       "      <td>2</td>\n",
       "      <td>0.048057</td>\n",
       "      <td>7.6</td>\n",
       "      <td>10.1</td>\n",
       "      <td>8.709792</td>\n",
       "      <td>0.524214</td>\n",
       "      <td>2009</td>\n",
       "      <td>0.0</td>\n",
       "      <td>32.0</td>\n",
       "      <td>9.172662</td>\n",
       "      <td>...</td>\n",
       "      <td>0.1974</td>\n",
       "      <td>0.2284</td>\n",
       "      <td>0.3830</td>\n",
       "      <td>0.2456</td>\n",
       "      <td>0.2393</td>\n",
       "      <td>0.2468</td>\n",
       "      <td>0.1841</td>\n",
       "      <td>541.353821</td>\n",
       "      <td>45492.0</td>\n",
       "      <td>6.141719e+04</td>\n",
       "    </tr>\n",
       "    <tr>\n",
       "      <th>3</th>\n",
       "      <td>3</td>\n",
       "      <td>0.048057</td>\n",
       "      <td>6.4</td>\n",
       "      <td>8.6</td>\n",
       "      <td>7.404792</td>\n",
       "      <td>0.424360</td>\n",
       "      <td>2014</td>\n",
       "      <td>6.0</td>\n",
       "      <td>36.0</td>\n",
       "      <td>9.604076</td>\n",
       "      <td>...</td>\n",
       "      <td>0.2148</td>\n",
       "      <td>0.2405</td>\n",
       "      <td>0.2676</td>\n",
       "      <td>0.2754</td>\n",
       "      <td>0.2294</td>\n",
       "      <td>0.2260</td>\n",
       "      <td>0.2566</td>\n",
       "      <td>541.353821</td>\n",
       "      <td>45492.0</td>\n",
       "      <td>5.684490e+05</td>\n",
       "    </tr>\n",
       "    <tr>\n",
       "      <th>4</th>\n",
       "      <td>4</td>\n",
       "      <td>0.081518</td>\n",
       "      <td>6.7</td>\n",
       "      <td>9.1</td>\n",
       "      <td>7.951542</td>\n",
       "      <td>0.487634</td>\n",
       "      <td>2009</td>\n",
       "      <td>0.0</td>\n",
       "      <td>51.0</td>\n",
       "      <td>4.073316</td>\n",
       "      <td>...</td>\n",
       "      <td>0.9336</td>\n",
       "      <td>0.9800</td>\n",
       "      <td>1.0040</td>\n",
       "      <td>0.9170</td>\n",
       "      <td>0.8364</td>\n",
       "      <td>0.7476</td>\n",
       "      <td>0.6960</td>\n",
       "      <td>947.802124</td>\n",
       "      <td>54136.0</td>\n",
       "      <td>4.301065e+05</td>\n",
       "    </tr>\n",
       "    <tr>\n",
       "      <th>...</th>\n",
       "      <td>...</td>\n",
       "      <td>...</td>\n",
       "      <td>...</td>\n",
       "      <td>...</td>\n",
       "      <td>...</td>\n",
       "      <td>...</td>\n",
       "      <td>...</td>\n",
       "      <td>...</td>\n",
       "      <td>...</td>\n",
       "      <td>...</td>\n",
       "      <td>...</td>\n",
       "      <td>...</td>\n",
       "      <td>...</td>\n",
       "      <td>...</td>\n",
       "      <td>...</td>\n",
       "      <td>...</td>\n",
       "      <td>...</td>\n",
       "      <td>...</td>\n",
       "      <td>...</td>\n",
       "      <td>...</td>\n",
       "      <td>...</td>\n",
       "    </tr>\n",
       "    <tr>\n",
       "      <th>4361</th>\n",
       "      <td>4361</td>\n",
       "      <td>0.032921</td>\n",
       "      <td>4.8</td>\n",
       "      <td>8.0</td>\n",
       "      <td>6.820732</td>\n",
       "      <td>0.559886</td>\n",
       "      <td>2014</td>\n",
       "      <td>0.0</td>\n",
       "      <td>23.0</td>\n",
       "      <td>7.791845</td>\n",
       "      <td>...</td>\n",
       "      <td>0.3467</td>\n",
       "      <td>0.3574</td>\n",
       "      <td>0.3447</td>\n",
       "      <td>0.3645</td>\n",
       "      <td>0.2352</td>\n",
       "      <td>0.2429</td>\n",
       "      <td>0.1802</td>\n",
       "      <td>382.672913</td>\n",
       "      <td>18490.0</td>\n",
       "      <td>6.218300e+04</td>\n",
       "    </tr>\n",
       "    <tr>\n",
       "      <th>4362</th>\n",
       "      <td>4362</td>\n",
       "      <td>0.190977</td>\n",
       "      <td>4.7</td>\n",
       "      <td>8.6</td>\n",
       "      <td>7.185063</td>\n",
       "      <td>0.433699</td>\n",
       "      <td>2009</td>\n",
       "      <td>0.0</td>\n",
       "      <td>44.0</td>\n",
       "      <td>1.737645</td>\n",
       "      <td>...</td>\n",
       "      <td>0.5050</td>\n",
       "      <td>0.5605</td>\n",
       "      <td>0.6540</td>\n",
       "      <td>0.5140</td>\n",
       "      <td>0.5770</td>\n",
       "      <td>0.5580</td>\n",
       "      <td>0.5000</td>\n",
       "      <td>2202.593018</td>\n",
       "      <td>29395.0</td>\n",
       "      <td>1.244241e+05</td>\n",
       "    </tr>\n",
       "    <tr>\n",
       "      <th>4363</th>\n",
       "      <td>4363</td>\n",
       "      <td>0.190977</td>\n",
       "      <td>3.8</td>\n",
       "      <td>7.2</td>\n",
       "      <td>6.116510</td>\n",
       "      <td>0.415798</td>\n",
       "      <td>2014</td>\n",
       "      <td>0.0</td>\n",
       "      <td>37.0</td>\n",
       "      <td>5.369858</td>\n",
       "      <td>...</td>\n",
       "      <td>0.5825</td>\n",
       "      <td>0.6562</td>\n",
       "      <td>0.6520</td>\n",
       "      <td>0.6100</td>\n",
       "      <td>0.4500</td>\n",
       "      <td>0.4658</td>\n",
       "      <td>0.5757</td>\n",
       "      <td>2202.593018</td>\n",
       "      <td>29395.0</td>\n",
       "      <td>1.390050e+05</td>\n",
       "    </tr>\n",
       "    <tr>\n",
       "      <th>4364</th>\n",
       "      <td>4364</td>\n",
       "      <td>0.038812</td>\n",
       "      <td>5.2</td>\n",
       "      <td>8.1</td>\n",
       "      <td>6.780315</td>\n",
       "      <td>0.417159</td>\n",
       "      <td>2009</td>\n",
       "      <td>0.0</td>\n",
       "      <td>59.0</td>\n",
       "      <td>13.702317</td>\n",
       "      <td>...</td>\n",
       "      <td>0.1841</td>\n",
       "      <td>0.3100</td>\n",
       "      <td>0.4973</td>\n",
       "      <td>0.2550</td>\n",
       "      <td>0.2345</td>\n",
       "      <td>0.2163</td>\n",
       "      <td>0.1267</td>\n",
       "      <td>446.231598</td>\n",
       "      <td>138176.0</td>\n",
       "      <td>3.004499e+06</td>\n",
       "    </tr>\n",
       "    <tr>\n",
       "      <th>4365</th>\n",
       "      <td>4365</td>\n",
       "      <td>0.038812</td>\n",
       "      <td>4.2</td>\n",
       "      <td>6.5</td>\n",
       "      <td>5.495538</td>\n",
       "      <td>0.310543</td>\n",
       "      <td>2014</td>\n",
       "      <td>0.0</td>\n",
       "      <td>63.0</td>\n",
       "      <td>17.148214</td>\n",
       "      <td>...</td>\n",
       "      <td>0.2820</td>\n",
       "      <td>0.3435</td>\n",
       "      <td>0.3223</td>\n",
       "      <td>0.2878</td>\n",
       "      <td>0.2499</td>\n",
       "      <td>0.2020</td>\n",
       "      <td>0.2161</td>\n",
       "      <td>446.231598</td>\n",
       "      <td>138176.0</td>\n",
       "      <td>5.149583e+06</td>\n",
       "    </tr>\n",
       "  </tbody>\n",
       "</table>\n",
       "<p>4366 rows × 110 columns</p>\n",
       "</div>"
      ],
      "text/plain": [
       "      index  Shape_Area  poll_min  poll_max  poll_mean  poll_std  year  \\\n",
       "0         0    0.102900       7.9      12.4   9.569089  0.696506  2009   \n",
       "1         1    0.102900       6.9      11.3   8.319476  0.720867  2014   \n",
       "2         2    0.048057       7.6      10.1   8.709792  0.524214  2009   \n",
       "3         3    0.048057       6.4       8.6   7.404792  0.424360  2014   \n",
       "4         4    0.081518       6.7       9.1   7.951542  0.487634  2009   \n",
       "...     ...         ...       ...       ...        ...       ...   ...   \n",
       "4361   4361    0.032921       4.8       8.0   6.820732  0.559886  2014   \n",
       "4362   4362    0.190977       4.7       8.6   7.185063  0.433699  2009   \n",
       "4363   4363    0.190977       3.8       7.2   6.116510  0.415798  2014   \n",
       "4364   4364    0.038812       5.2       8.1   6.780315  0.417159  2009   \n",
       "4365   4365    0.038812       4.2       6.5   5.495538  0.310543  2014   \n",
       "\n",
       "      night_min  night_max  night_mean  ...  std_tmax_06  std_tmax_07  \\\n",
       "0           0.0       59.0   20.200537  ...       0.2476       0.3503   \n",
       "1           6.0       63.0   23.087162  ...       0.2522       0.2996   \n",
       "2           0.0       32.0    9.172662  ...       0.1974       0.2284   \n",
       "3           6.0       36.0    9.604076  ...       0.2148       0.2405   \n",
       "4           0.0       51.0    4.073316  ...       0.9336       0.9800   \n",
       "...         ...        ...         ...  ...          ...          ...   \n",
       "4361        0.0       23.0    7.791845  ...       0.3467       0.3574   \n",
       "4362        0.0       44.0    1.737645  ...       0.5050       0.5605   \n",
       "4363        0.0       37.0    5.369858  ...       0.5825       0.6562   \n",
       "4364        0.0       59.0   13.702317  ...       0.1841       0.3100   \n",
       "4365        0.0       63.0   17.148214  ...       0.2820       0.3435   \n",
       "\n",
       "      std_tmax_08  std_tmax_09  std_tmax_10  std_tmax_11  std_tmax_12  \\\n",
       "0          0.3047       0.3052       0.2808       0.3306       0.4480   \n",
       "1          0.3215       0.2499       0.2510       0.2174       0.2423   \n",
       "2          0.3830       0.2456       0.2393       0.2468       0.1841   \n",
       "3          0.2676       0.2754       0.2294       0.2260       0.2566   \n",
       "4          1.0040       0.9170       0.8364       0.7476       0.6960   \n",
       "...           ...          ...          ...          ...          ...   \n",
       "4361       0.3447       0.3645       0.2352       0.2429       0.1802   \n",
       "4362       0.6540       0.5140       0.5770       0.5580       0.5000   \n",
       "4363       0.6520       0.6100       0.4500       0.4658       0.5757   \n",
       "4364       0.4973       0.2550       0.2345       0.2163       0.1267   \n",
       "4365       0.3223       0.2878       0.2499       0.2020       0.2161   \n",
       "\n",
       "            sqkms      tpop         gva_r  \n",
       "0     1805.399048  851607.0  4.802176e+07  \n",
       "1     1805.399048  851607.0  3.902378e+07  \n",
       "2      541.353821   45492.0  6.141719e+04  \n",
       "3      541.353821   45492.0  5.684490e+05  \n",
       "4      947.802124   54136.0  4.301065e+05  \n",
       "...           ...       ...           ...  \n",
       "4361   382.672913   18490.0  6.218300e+04  \n",
       "4362  2202.593018   29395.0  1.244241e+05  \n",
       "4363  2202.593018   29395.0  1.390050e+05  \n",
       "4364   446.231598  138176.0  3.004499e+06  \n",
       "4365   446.231598  138176.0  5.149583e+06  \n",
       "\n",
       "[4366 rows x 110 columns]"
      ]
     },
     "execution_count": 49,
     "metadata": {},
     "output_type": "execute_result"
    }
   ],
   "source": [
    "data_long.dropreset_index()"
   ]
  },
  {
   "cell_type": "markdown",
   "id": "distributed-symbol",
   "metadata": {},
   "source": [
    "## Lasso with Interaction Terms:"
   ]
  },
  {
   "cell_type": "code",
   "execution_count": 7,
   "id": "integral-dance",
   "metadata": {},
   "outputs": [],
   "source": [
    "# Normalizing data with StandardScaler()\n",
    "X = StandardScaler().fit_transform(data_X)\n",
    "y = StandardScaler().fit_transform(data_y)"
   ]
  },
  {
   "cell_type": "code",
   "execution_count": 20,
   "id": "bacterial-impossible",
   "metadata": {},
   "outputs": [],
   "source": [
    "X_keep = pd.DataFrame(X, columns= data_X.columns).reset_index()\n",
    "y_keep = pd.DataFrame(y, columns= data_y.columns).reset_index()"
   ]
  },
  {
   "cell_type": "code",
   "execution_count": 23,
   "id": "marine-vietnamese",
   "metadata": {},
   "outputs": [],
   "source": [
    "# Split sample into training, validation, testing:\n",
    "X_train, X_test, y_train, y_test = train_test_split(X, y, test_size=0.1, random_state=0)\n",
    "# Create a validation set (to use untouched test data for later)\n",
    "X_train, X_val, y_train, y_val = train_test_split(X_train, y_train, test_size=0.1, random_state=0)"
   ]
  },
  {
   "cell_type": "code",
   "execution_count": 21,
   "id": "moved-hydrogen",
   "metadata": {},
   "outputs": [],
   "source": [
    "X_train_k, X_test_k, y_train_k, y_test_k = train_test_split(X_keep, y_keep, test_size=0.1, random_state=0)"
   ]
  },
  {
   "cell_type": "code",
   "execution_count": 44,
   "id": "revised-technician",
   "metadata": {},
   "outputs": [
    {
     "name": "stdout",
     "output_type": "stream",
     "text": [
      "414\n",
      "437\n"
     ]
    },
    {
     "data": {
      "text/html": [
       "<div>\n",
       "<style scoped>\n",
       "    .dataframe tbody tr th:only-of-type {\n",
       "        vertical-align: middle;\n",
       "    }\n",
       "\n",
       "    .dataframe tbody tr th {\n",
       "        vertical-align: top;\n",
       "    }\n",
       "\n",
       "    .dataframe thead th {\n",
       "        text-align: right;\n",
       "    }\n",
       "</style>\n",
       "<table border=\"1\" class=\"dataframe\">\n",
       "  <thead>\n",
       "    <tr style=\"text-align: right;\">\n",
       "      <th></th>\n",
       "      <th>index</th>\n",
       "      <th>Shape_Area</th>\n",
       "      <th>poll_min</th>\n",
       "      <th>poll_max</th>\n",
       "      <th>poll_mean</th>\n",
       "      <th>poll_std</th>\n",
       "      <th>night_min</th>\n",
       "      <th>night_max</th>\n",
       "      <th>night_mean</th>\n",
       "      <th>night_std</th>\n",
       "      <th>...</th>\n",
       "      <th>std_tmax_10 std_tmax_11</th>\n",
       "      <th>std_tmax_10 std_tmax_12</th>\n",
       "      <th>std_tmax_10 sqkms</th>\n",
       "      <th>std_tmax_10 tpop</th>\n",
       "      <th>std_tmax_11 std_tmax_12</th>\n",
       "      <th>std_tmax_11 sqkms</th>\n",
       "      <th>std_tmax_11 tpop</th>\n",
       "      <th>std_tmax_12 sqkms</th>\n",
       "      <th>std_tmax_12 tpop</th>\n",
       "      <th>sqkms tpop</th>\n",
       "    </tr>\n",
       "  </thead>\n",
       "  <tbody>\n",
       "    <tr>\n",
       "      <th>3630</th>\n",
       "      <td>3630</td>\n",
       "      <td>-0.404531</td>\n",
       "      <td>0.107633</td>\n",
       "      <td>1.798731</td>\n",
       "      <td>0.069806</td>\n",
       "      <td>-0.091485</td>\n",
       "      <td>-0.356225</td>\n",
       "      <td>-0.195048</td>\n",
       "      <td>0.076490</td>\n",
       "      <td>0.104418</td>\n",
       "      <td>...</td>\n",
       "      <td>-0.367295</td>\n",
       "      <td>-0.395542</td>\n",
       "      <td>-0.320573</td>\n",
       "      <td>-0.255333</td>\n",
       "      <td>-0.189901</td>\n",
       "      <td>-0.293346</td>\n",
       "      <td>-0.170225</td>\n",
       "      <td>-0.290271</td>\n",
       "      <td>-0.190187</td>\n",
       "      <td>-0.167216</td>\n",
       "    </tr>\n",
       "    <tr>\n",
       "      <th>2945</th>\n",
       "      <td>2945</td>\n",
       "      <td>-0.271186</td>\n",
       "      <td>0.107633</td>\n",
       "      <td>0.453061</td>\n",
       "      <td>0.069806</td>\n",
       "      <td>-0.091485</td>\n",
       "      <td>-0.356225</td>\n",
       "      <td>-0.955566</td>\n",
       "      <td>-0.454808</td>\n",
       "      <td>-0.388245</td>\n",
       "      <td>...</td>\n",
       "      <td>-0.063251</td>\n",
       "      <td>-0.094817</td>\n",
       "      <td>-0.234498</td>\n",
       "      <td>-0.274900</td>\n",
       "      <td>-0.072747</td>\n",
       "      <td>-0.230828</td>\n",
       "      <td>-0.250754</td>\n",
       "      <td>-0.235484</td>\n",
       "      <td>-0.239468</td>\n",
       "      <td>-0.169923</td>\n",
       "    </tr>\n",
       "    <tr>\n",
       "      <th>2139</th>\n",
       "      <td>2139</td>\n",
       "      <td>-0.432565</td>\n",
       "      <td>0.107633</td>\n",
       "      <td>-0.671404</td>\n",
       "      <td>0.069806</td>\n",
       "      <td>-0.091485</td>\n",
       "      <td>-0.356225</td>\n",
       "      <td>-0.955566</td>\n",
       "      <td>-0.374753</td>\n",
       "      <td>-0.460672</td>\n",
       "      <td>...</td>\n",
       "      <td>-0.567334</td>\n",
       "      <td>-0.533895</td>\n",
       "      <td>-0.339602</td>\n",
       "      <td>-0.305075</td>\n",
       "      <td>-0.508022</td>\n",
       "      <td>-0.340550</td>\n",
       "      <td>-0.281392</td>\n",
       "      <td>-0.318965</td>\n",
       "      <td>-0.263045</td>\n",
       "      <td>-0.173362</td>\n",
       "    </tr>\n",
       "    <tr>\n",
       "      <th>2842</th>\n",
       "      <td>2842</td>\n",
       "      <td>-0.216919</td>\n",
       "      <td>0.107633</td>\n",
       "      <td>0.489928</td>\n",
       "      <td>0.069806</td>\n",
       "      <td>-0.091485</td>\n",
       "      <td>-0.356225</td>\n",
       "      <td>-1.056969</td>\n",
       "      <td>-0.749636</td>\n",
       "      <td>-0.905715</td>\n",
       "      <td>...</td>\n",
       "      <td>-0.197698</td>\n",
       "      <td>-0.266012</td>\n",
       "      <td>-0.232078</td>\n",
       "      <td>-0.281951</td>\n",
       "      <td>-0.095210</td>\n",
       "      <td>-0.167668</td>\n",
       "      <td>-0.244566</td>\n",
       "      <td>-0.208205</td>\n",
       "      <td>-0.239250</td>\n",
       "      <td>-0.167470</td>\n",
       "    </tr>\n",
       "    <tr>\n",
       "      <th>1109</th>\n",
       "      <td>1109</td>\n",
       "      <td>0.142007</td>\n",
       "      <td>0.107633</td>\n",
       "      <td>-0.450198</td>\n",
       "      <td>0.069806</td>\n",
       "      <td>-0.091485</td>\n",
       "      <td>-0.356225</td>\n",
       "      <td>1.173886</td>\n",
       "      <td>-0.084130</td>\n",
       "      <td>0.238013</td>\n",
       "      <td>...</td>\n",
       "      <td>-0.360784</td>\n",
       "      <td>-0.438046</td>\n",
       "      <td>-0.118673</td>\n",
       "      <td>-0.103355</td>\n",
       "      <td>-0.388534</td>\n",
       "      <td>-0.066096</td>\n",
       "      <td>-0.047893</td>\n",
       "      <td>-0.201661</td>\n",
       "      <td>-0.157717</td>\n",
       "      <td>-0.032920</td>\n",
       "    </tr>\n",
       "    <tr>\n",
       "      <th>...</th>\n",
       "      <td>...</td>\n",
       "      <td>...</td>\n",
       "      <td>...</td>\n",
       "      <td>...</td>\n",
       "      <td>...</td>\n",
       "      <td>...</td>\n",
       "      <td>...</td>\n",
       "      <td>...</td>\n",
       "      <td>...</td>\n",
       "      <td>...</td>\n",
       "      <td>...</td>\n",
       "      <td>...</td>\n",
       "      <td>...</td>\n",
       "      <td>...</td>\n",
       "      <td>...</td>\n",
       "      <td>...</td>\n",
       "      <td>...</td>\n",
       "      <td>...</td>\n",
       "      <td>...</td>\n",
       "      <td>...</td>\n",
       "      <td>...</td>\n",
       "    </tr>\n",
       "    <tr>\n",
       "      <th>1191</th>\n",
       "      <td>1191</td>\n",
       "      <td>-0.419627</td>\n",
       "      <td>0.107633</td>\n",
       "      <td>1.761864</td>\n",
       "      <td>0.069806</td>\n",
       "      <td>-0.091485</td>\n",
       "      <td>0.670192</td>\n",
       "      <td>1.528794</td>\n",
       "      <td>2.075866</td>\n",
       "      <td>2.482376</td>\n",
       "      <td>...</td>\n",
       "      <td>-0.459054</td>\n",
       "      <td>-0.401317</td>\n",
       "      <td>-0.324091</td>\n",
       "      <td>-0.181842</td>\n",
       "      <td>-0.401754</td>\n",
       "      <td>-0.326980</td>\n",
       "      <td>-0.187518</td>\n",
       "      <td>-0.304847</td>\n",
       "      <td>-0.153281</td>\n",
       "      <td>-0.165383</td>\n",
       "    </tr>\n",
       "    <tr>\n",
       "      <th>3841</th>\n",
       "      <td>3841</td>\n",
       "      <td>-0.383552</td>\n",
       "      <td>0.107633</td>\n",
       "      <td>0.010648</td>\n",
       "      <td>0.069806</td>\n",
       "      <td>-0.091485</td>\n",
       "      <td>0.413588</td>\n",
       "      <td>-0.195048</td>\n",
       "      <td>0.001386</td>\n",
       "      <td>-0.428611</td>\n",
       "      <td>...</td>\n",
       "      <td>-0.542091</td>\n",
       "      <td>-0.508080</td>\n",
       "      <td>-0.323688</td>\n",
       "      <td>-0.277161</td>\n",
       "      <td>-0.493712</td>\n",
       "      <td>-0.332385</td>\n",
       "      <td>-0.268281</td>\n",
       "      <td>-0.311007</td>\n",
       "      <td>-0.249156</td>\n",
       "      <td>-0.168560</td>\n",
       "    </tr>\n",
       "    <tr>\n",
       "      <th>2088</th>\n",
       "      <td>2088</td>\n",
       "      <td>-0.445917</td>\n",
       "      <td>0.107633</td>\n",
       "      <td>-0.210558</td>\n",
       "      <td>0.069806</td>\n",
       "      <td>-0.091485</td>\n",
       "      <td>-0.356225</td>\n",
       "      <td>-1.310475</td>\n",
       "      <td>-0.762323</td>\n",
       "      <td>-1.077777</td>\n",
       "      <td>...</td>\n",
       "      <td>-0.567609</td>\n",
       "      <td>-0.540319</td>\n",
       "      <td>-0.340945</td>\n",
       "      <td>-0.306956</td>\n",
       "      <td>-0.508267</td>\n",
       "      <td>-0.340604</td>\n",
       "      <td>-0.281463</td>\n",
       "      <td>-0.320064</td>\n",
       "      <td>-0.264560</td>\n",
       "      <td>-0.173494</td>\n",
       "    </tr>\n",
       "    <tr>\n",
       "      <th>381</th>\n",
       "      <td>381</td>\n",
       "      <td>3.020298</td>\n",
       "      <td>0.107633</td>\n",
       "      <td>-0.542367</td>\n",
       "      <td>0.069806</td>\n",
       "      <td>-0.091485</td>\n",
       "      <td>-0.356225</td>\n",
       "      <td>-0.904865</td>\n",
       "      <td>-0.726438</td>\n",
       "      <td>-0.740977</td>\n",
       "      <td>...</td>\n",
       "      <td>2.166348</td>\n",
       "      <td>1.671613</td>\n",
       "      <td>4.764798</td>\n",
       "      <td>-0.269560</td>\n",
       "      <td>1.108683</td>\n",
       "      <td>3.596704</td>\n",
       "      <td>-0.254675</td>\n",
       "      <td>2.458543</td>\n",
       "      <td>-0.244511</td>\n",
       "      <td>-0.145526</td>\n",
       "    </tr>\n",
       "    <tr>\n",
       "      <th>3476</th>\n",
       "      <td>3476</td>\n",
       "      <td>0.163533</td>\n",
       "      <td>0.107633</td>\n",
       "      <td>-1.574663</td>\n",
       "      <td>0.069806</td>\n",
       "      <td>-0.091485</td>\n",
       "      <td>-0.356225</td>\n",
       "      <td>-0.854164</td>\n",
       "      <td>-0.747908</td>\n",
       "      <td>-0.860137</td>\n",
       "      <td>...</td>\n",
       "      <td>-0.235257</td>\n",
       "      <td>-0.200846</td>\n",
       "      <td>-0.054033</td>\n",
       "      <td>-0.298717</td>\n",
       "      <td>-0.203621</td>\n",
       "      <td>-0.068988</td>\n",
       "      <td>-0.274217</td>\n",
       "      <td>-0.078067</td>\n",
       "      <td>-0.257714</td>\n",
       "      <td>-0.170050</td>\n",
       "    </tr>\n",
       "  </tbody>\n",
       "</table>\n",
       "<p>437 rows × 5779 columns</p>\n",
       "</div>"
      ],
      "text/plain": [
       "      index  Shape_Area  poll_min  poll_max  poll_mean  poll_std  night_min  \\\n",
       "3630   3630   -0.404531  0.107633  1.798731   0.069806 -0.091485  -0.356225   \n",
       "2945   2945   -0.271186  0.107633  0.453061   0.069806 -0.091485  -0.356225   \n",
       "2139   2139   -0.432565  0.107633 -0.671404   0.069806 -0.091485  -0.356225   \n",
       "2842   2842   -0.216919  0.107633  0.489928   0.069806 -0.091485  -0.356225   \n",
       "1109   1109    0.142007  0.107633 -0.450198   0.069806 -0.091485  -0.356225   \n",
       "...     ...         ...       ...       ...        ...       ...        ...   \n",
       "1191   1191   -0.419627  0.107633  1.761864   0.069806 -0.091485   0.670192   \n",
       "3841   3841   -0.383552  0.107633  0.010648   0.069806 -0.091485   0.413588   \n",
       "2088   2088   -0.445917  0.107633 -0.210558   0.069806 -0.091485  -0.356225   \n",
       "381     381    3.020298  0.107633 -0.542367   0.069806 -0.091485  -0.356225   \n",
       "3476   3476    0.163533  0.107633 -1.574663   0.069806 -0.091485  -0.356225   \n",
       "\n",
       "      night_max  night_mean  night_std  ...  std_tmax_10 std_tmax_11  \\\n",
       "3630  -0.195048    0.076490   0.104418  ...                -0.367295   \n",
       "2945  -0.955566   -0.454808  -0.388245  ...                -0.063251   \n",
       "2139  -0.955566   -0.374753  -0.460672  ...                -0.567334   \n",
       "2842  -1.056969   -0.749636  -0.905715  ...                -0.197698   \n",
       "1109   1.173886   -0.084130   0.238013  ...                -0.360784   \n",
       "...         ...         ...        ...  ...                      ...   \n",
       "1191   1.528794    2.075866   2.482376  ...                -0.459054   \n",
       "3841  -0.195048    0.001386  -0.428611  ...                -0.542091   \n",
       "2088  -1.310475   -0.762323  -1.077777  ...                -0.567609   \n",
       "381   -0.904865   -0.726438  -0.740977  ...                 2.166348   \n",
       "3476  -0.854164   -0.747908  -0.860137  ...                -0.235257   \n",
       "\n",
       "      std_tmax_10 std_tmax_12  std_tmax_10 sqkms  std_tmax_10 tpop  \\\n",
       "3630                -0.395542          -0.320573         -0.255333   \n",
       "2945                -0.094817          -0.234498         -0.274900   \n",
       "2139                -0.533895          -0.339602         -0.305075   \n",
       "2842                -0.266012          -0.232078         -0.281951   \n",
       "1109                -0.438046          -0.118673         -0.103355   \n",
       "...                       ...                ...               ...   \n",
       "1191                -0.401317          -0.324091         -0.181842   \n",
       "3841                -0.508080          -0.323688         -0.277161   \n",
       "2088                -0.540319          -0.340945         -0.306956   \n",
       "381                  1.671613           4.764798         -0.269560   \n",
       "3476                -0.200846          -0.054033         -0.298717   \n",
       "\n",
       "      std_tmax_11 std_tmax_12  std_tmax_11 sqkms  std_tmax_11 tpop  \\\n",
       "3630                -0.189901          -0.293346         -0.170225   \n",
       "2945                -0.072747          -0.230828         -0.250754   \n",
       "2139                -0.508022          -0.340550         -0.281392   \n",
       "2842                -0.095210          -0.167668         -0.244566   \n",
       "1109                -0.388534          -0.066096         -0.047893   \n",
       "...                       ...                ...               ...   \n",
       "1191                -0.401754          -0.326980         -0.187518   \n",
       "3841                -0.493712          -0.332385         -0.268281   \n",
       "2088                -0.508267          -0.340604         -0.281463   \n",
       "381                  1.108683           3.596704         -0.254675   \n",
       "3476                -0.203621          -0.068988         -0.274217   \n",
       "\n",
       "      std_tmax_12 sqkms  std_tmax_12 tpop  sqkms tpop  \n",
       "3630          -0.290271         -0.190187   -0.167216  \n",
       "2945          -0.235484         -0.239468   -0.169923  \n",
       "2139          -0.318965         -0.263045   -0.173362  \n",
       "2842          -0.208205         -0.239250   -0.167470  \n",
       "1109          -0.201661         -0.157717   -0.032920  \n",
       "...                 ...               ...         ...  \n",
       "1191          -0.304847         -0.153281   -0.165383  \n",
       "3841          -0.311007         -0.249156   -0.168560  \n",
       "2088          -0.320064         -0.264560   -0.173494  \n",
       "381            2.458543         -0.244511   -0.145526  \n",
       "3476          -0.078067         -0.257714   -0.170050  \n",
       "\n",
       "[437 rows x 5779 columns]"
      ]
     },
     "execution_count": 44,
     "metadata": {},
     "output_type": "execute_result"
    }
   ],
   "source": [
    "print(X_test_k.Shape_Area.nunique())\n",
    "\n",
    "print(len(X_test_k))\n",
    "X_test_k"
   ]
  },
  {
   "cell_type": "code",
   "execution_count": 34,
   "id": "directed-enterprise",
   "metadata": {},
   "outputs": [
    {
     "data": {
      "text/html": [
       "<div>\n",
       "<style scoped>\n",
       "    .dataframe tbody tr th:only-of-type {\n",
       "        vertical-align: middle;\n",
       "    }\n",
       "\n",
       "    .dataframe tbody tr th {\n",
       "        vertical-align: top;\n",
       "    }\n",
       "\n",
       "    .dataframe thead th {\n",
       "        text-align: right;\n",
       "    }\n",
       "</style>\n",
       "<table border=\"1\" class=\"dataframe\">\n",
       "  <thead>\n",
       "    <tr style=\"text-align: right;\">\n",
       "      <th></th>\n",
       "      <th>index</th>\n",
       "      <th>gva_r</th>\n",
       "    </tr>\n",
       "  </thead>\n",
       "  <tbody>\n",
       "    <tr>\n",
       "      <th>3630</th>\n",
       "      <td>3630</td>\n",
       "      <td>-0.146721</td>\n",
       "    </tr>\n",
       "    <tr>\n",
       "      <th>2945</th>\n",
       "      <td>2945</td>\n",
       "      <td>-0.147755</td>\n",
       "    </tr>\n",
       "    <tr>\n",
       "      <th>2139</th>\n",
       "      <td>2139</td>\n",
       "      <td>-0.147914</td>\n",
       "    </tr>\n",
       "    <tr>\n",
       "      <th>2842</th>\n",
       "      <td>2842</td>\n",
       "      <td>-0.147943</td>\n",
       "    </tr>\n",
       "    <tr>\n",
       "      <th>1109</th>\n",
       "      <td>1109</td>\n",
       "      <td>-0.129688</td>\n",
       "    </tr>\n",
       "    <tr>\n",
       "      <th>...</th>\n",
       "      <td>...</td>\n",
       "      <td>...</td>\n",
       "    </tr>\n",
       "    <tr>\n",
       "      <th>1191</th>\n",
       "      <td>1191</td>\n",
       "      <td>-0.084027</td>\n",
       "    </tr>\n",
       "    <tr>\n",
       "      <th>3841</th>\n",
       "      <td>3841</td>\n",
       "      <td>-0.144523</td>\n",
       "    </tr>\n",
       "    <tr>\n",
       "      <th>2088</th>\n",
       "      <td>2088</td>\n",
       "      <td>-0.147865</td>\n",
       "    </tr>\n",
       "    <tr>\n",
       "      <th>381</th>\n",
       "      <td>381</td>\n",
       "      <td>-0.147760</td>\n",
       "    </tr>\n",
       "    <tr>\n",
       "      <th>3476</th>\n",
       "      <td>3476</td>\n",
       "      <td>-0.147787</td>\n",
       "    </tr>\n",
       "  </tbody>\n",
       "</table>\n",
       "<p>437 rows × 2 columns</p>\n",
       "</div>"
      ],
      "text/plain": [
       "      index     gva_r\n",
       "3630   3630 -0.146721\n",
       "2945   2945 -0.147755\n",
       "2139   2139 -0.147914\n",
       "2842   2842 -0.147943\n",
       "1109   1109 -0.129688\n",
       "...     ...       ...\n",
       "1191   1191 -0.084027\n",
       "3841   3841 -0.144523\n",
       "2088   2088 -0.147865\n",
       "381     381 -0.147760\n",
       "3476   3476 -0.147787\n",
       "\n",
       "[437 rows x 2 columns]"
      ]
     },
     "execution_count": 34,
     "metadata": {},
     "output_type": "execute_result"
    }
   ],
   "source": [
    "y_test_k"
   ]
  },
  {
   "cell_type": "code",
   "execution_count": null,
   "id": "approximate-hobby",
   "metadata": {},
   "outputs": [],
   "source": []
  },
  {
   "cell_type": "markdown",
   "id": "discrete-darwin",
   "metadata": {},
   "source": [
    "## Results with parameter $\\alpha$ = 0.05"
   ]
  },
  {
   "cell_type": "code",
   "execution_count": 35,
   "id": "novel-buyer",
   "metadata": {},
   "outputs": [
    {
     "name": "stdout",
     "output_type": "stream",
     "text": [
      "Number of features fed into model: 5778\n",
      "Number of features that are non zero: 19\n",
      "\n",
      "Features that are non zero:\n",
      " ['night_min night_std', 'night_min min_prec_02', 'night_min min_prec_07', 'night_min min_prec_11', 'night_min std_prec_04', 'night_min std_prec_05', 'night_min std_prec_07', 'night_min std_tmax_02', 'night_min std_tmax_03', 'night_std tpop', 'max_prec_01 max_prec_09', 'max_prec_03 max_prec_09', 'min_prec_02 tpop', 'min_prec_03 tpop', 'min_prec_04 tpop', 'min_prec_07 tpop', 'std_prec_09 tpop', 'mean_tmax_07 tpop', 'min_tmax_06 tpop']\n",
      "\n",
      "Lasso with interaction terms: \n",
      "RMSE: 0.3652930887086219, r2: 0.15092581967954788\n"
     ]
    }
   ],
   "source": [
    "# Start with random parameter:\n",
    "lasso_model =Lasso(alpha=.05)\n",
    "lasso_model = lasso_model.fit(y=y_train,X=X_train)\n",
    "bool_ = lasso_model.coef_!=0\n",
    "\n",
    "print(\"Number of features fed into model: {}\".format(len(lasso_model.coef_)))\n",
    "print(\"Number of features that are non zero:\",sum(bool_))\n",
    "print(\"\\nFeatures that are non zero:\\n\",data_X.iloc[:,bool_].columns.tolist())\n",
    "\n",
    "y_pred = lasso_model.predict(X_val)\n",
    "rmse = np.sqrt(mean_squared_error(y_val, y_pred))\n",
    "r2 = r2_score(y_val, y_pred)\n",
    "\n",
    "print(\"\\nLasso with interaction terms: \\nRMSE: {}, r2: {}\".format(rmse,r2))\n"
   ]
  },
  {
   "cell_type": "code",
   "execution_count": 40,
   "id": "broke-anderson",
   "metadata": {},
   "outputs": [
    {
     "data": {
      "text/plain": [
       "393"
      ]
     },
     "execution_count": 40,
     "metadata": {},
     "output_type": "execute_result"
    }
   ],
   "source": [
    "len(y_val)"
   ]
  },
  {
   "cell_type": "code",
   "execution_count": 36,
   "id": "communist-biotechnology",
   "metadata": {},
   "outputs": [
    {
     "ename": "TypeError",
     "evalue": "cannot concatenate object of type '<class 'numpy.ndarray'>'; only Series and DataFrame objs are valid",
     "output_type": "error",
     "traceback": [
      "\u001b[1;31m---------------------------------------------------------------------------\u001b[0m",
      "\u001b[1;31mTypeError\u001b[0m                                 Traceback (most recent call last)",
      "\u001b[1;32m<ipython-input-36-02118857cf1d>\u001b[0m in \u001b[0;36m<module>\u001b[1;34m\u001b[0m\n\u001b[1;32m----> 1\u001b[1;33m \u001b[0mpd\u001b[0m\u001b[1;33m.\u001b[0m\u001b[0mconcat\u001b[0m\u001b[1;33m(\u001b[0m\u001b[0my_val\u001b[0m\u001b[1;33m,\u001b[0m \u001b[0my_pred\u001b[0m\u001b[1;33m)\u001b[0m\u001b[1;33m\u001b[0m\u001b[1;33m\u001b[0m\u001b[0m\n\u001b[0m",
      "\u001b[1;32m~\\.conda\\envs\\ace592\\lib\\site-packages\\pandas\\core\\reshape\\concat.py\u001b[0m in \u001b[0;36mconcat\u001b[1;34m(objs, axis, join, ignore_index, keys, levels, names, verify_integrity, sort, copy)\u001b[0m\n\u001b[0;32m    272\u001b[0m     \u001b[0mValueError\u001b[0m\u001b[1;33m:\u001b[0m \u001b[0mIndexes\u001b[0m \u001b[0mhave\u001b[0m \u001b[0moverlapping\u001b[0m \u001b[0mvalues\u001b[0m\u001b[1;33m:\u001b[0m \u001b[1;33m[\u001b[0m\u001b[1;34m'a'\u001b[0m\u001b[1;33m]\u001b[0m\u001b[1;33m\u001b[0m\u001b[1;33m\u001b[0m\u001b[0m\n\u001b[0;32m    273\u001b[0m     \"\"\"\n\u001b[1;32m--> 274\u001b[1;33m     op = _Concatenator(\n\u001b[0m\u001b[0;32m    275\u001b[0m         \u001b[0mobjs\u001b[0m\u001b[1;33m,\u001b[0m\u001b[1;33m\u001b[0m\u001b[1;33m\u001b[0m\u001b[0m\n\u001b[0;32m    276\u001b[0m         \u001b[0maxis\u001b[0m\u001b[1;33m=\u001b[0m\u001b[0maxis\u001b[0m\u001b[1;33m,\u001b[0m\u001b[1;33m\u001b[0m\u001b[1;33m\u001b[0m\u001b[0m\n",
      "\u001b[1;32m~\\.conda\\envs\\ace592\\lib\\site-packages\\pandas\\core\\reshape\\concat.py\u001b[0m in \u001b[0;36m__init__\u001b[1;34m(self, objs, axis, join, keys, levels, names, ignore_index, verify_integrity, copy, sort)\u001b[0m\n\u001b[0;32m    357\u001b[0m                     \u001b[1;34m\"only Series and DataFrame objs are valid\"\u001b[0m\u001b[1;33m\u001b[0m\u001b[1;33m\u001b[0m\u001b[0m\n\u001b[0;32m    358\u001b[0m                 )\n\u001b[1;32m--> 359\u001b[1;33m                 \u001b[1;32mraise\u001b[0m \u001b[0mTypeError\u001b[0m\u001b[1;33m(\u001b[0m\u001b[0mmsg\u001b[0m\u001b[1;33m)\u001b[0m\u001b[1;33m\u001b[0m\u001b[1;33m\u001b[0m\u001b[0m\n\u001b[0m\u001b[0;32m    360\u001b[0m \u001b[1;33m\u001b[0m\u001b[0m\n\u001b[0;32m    361\u001b[0m             \u001b[1;31m# consolidate\u001b[0m\u001b[1;33m\u001b[0m\u001b[1;33m\u001b[0m\u001b[1;33m\u001b[0m\u001b[0m\n",
      "\u001b[1;31mTypeError\u001b[0m: cannot concatenate object of type '<class 'numpy.ndarray'>'; only Series and DataFrame objs are valid"
     ]
    }
   ],
   "source": [
    "pd.concat(y_val, y_pred)"
   ]
  },
  {
   "cell_type": "code",
   "execution_count": 17,
   "id": "retired-garlic",
   "metadata": {
    "scrolled": true
   },
   "outputs": [
    {
     "name": "stderr",
     "output_type": "stream",
     "text": [
      "<ipython-input-17-d5b0552af149>:4: UserWarning: With alpha=0, this algorithm does not converge well. You are advised to use the LinearRegression estimator\n",
      "  lasso_model = lasso_model.fit(y=y_train,X=X_train)\n",
      "C:\\Users\\ck24\\.conda\\envs\\ace592\\lib\\site-packages\\sklearn\\linear_model\\_coordinate_descent.py:529: UserWarning: Coordinate descent with no regularization may lead to unexpected results and is discouraged.\n",
      "  model = cd_fast.enet_coordinate_descent(\n",
      "C:\\Users\\ck24\\.conda\\envs\\ace592\\lib\\site-packages\\sklearn\\linear_model\\_coordinate_descent.py:529: ConvergenceWarning: Objective did not converge. You might want to increase the number of iterations. Duality gap: 324.9181592038857, tolerance: 0.3915875616921497\n",
      "  model = cd_fast.enet_coordinate_descent(\n",
      "ERROR:root:Internal Python error in the inspect module.\n",
      "Below is the traceback from this internal error.\n",
      "\n"
     ]
    },
    {
     "name": "stdout",
     "output_type": "stream",
     "text": [
      "Traceback (most recent call last):\n",
      "  File \"C:\\Users\\ck24\\.conda\\envs\\ace592\\lib\\site-packages\\IPython\\core\\interactiveshell.py\", line 3437, in run_code\n",
      "    exec(code_obj, self.user_global_ns, self.user_ns)\n",
      "  File \"<ipython-input-17-d5b0552af149>\", line 9, in <module>\n",
      "    coef_lists = [list(get_cols(a)) for a in Alpha]\n",
      "  File \"<ipython-input-17-d5b0552af149>\", line 9, in <listcomp>\n",
      "    coef_lists = [list(get_cols(a)) for a in Alpha]\n",
      "  File \"<ipython-input-17-d5b0552af149>\", line 4, in get_cols\n",
      "    lasso_model = lasso_model.fit(y=y_train,X=X_train)\n",
      "  File \"C:\\Users\\ck24\\.conda\\envs\\ace592\\lib\\site-packages\\sklearn\\linear_model\\_coordinate_descent.py\", line 832, in fit\n",
      "    self.path(X, y[:, k],\n",
      "  File \"C:\\Users\\ck24\\.conda\\envs\\ace592\\lib\\site-packages\\sklearn\\utils\\validation.py\", line 72, in inner_f\n",
      "    return f(**kwargs)\n",
      "  File \"C:\\Users\\ck24\\.conda\\envs\\ace592\\lib\\site-packages\\sklearn\\linear_model\\_coordinate_descent.py\", line 529, in enet_path\n",
      "    model = cd_fast.enet_coordinate_descent(\n",
      "KeyboardInterrupt\n",
      "\n",
      "During handling of the above exception, another exception occurred:\n",
      "\n",
      "Traceback (most recent call last):\n",
      "  File \"C:\\Users\\ck24\\.conda\\envs\\ace592\\lib\\site-packages\\IPython\\core\\interactiveshell.py\", line 2061, in showtraceback\n",
      "    stb = value._render_traceback_()\n",
      "AttributeError: 'KeyboardInterrupt' object has no attribute '_render_traceback_'\n",
      "\n",
      "During handling of the above exception, another exception occurred:\n",
      "\n",
      "Traceback (most recent call last):\n",
      "  File \"C:\\Users\\ck24\\.conda\\envs\\ace592\\lib\\genericpath.py\", line 19, in exists\n",
      "    os.stat(path)\n",
      "OSError: [WinError 123] The filename, directory name, or volume label syntax is incorrect: '<ipython-input-17-d5b0552af149>'\n",
      "\n",
      "During handling of the above exception, another exception occurred:\n",
      "\n",
      "Traceback (most recent call last):\n",
      "  File \"C:\\Users\\ck24\\.conda\\envs\\ace592\\lib\\site-packages\\IPython\\core\\ultratb.py\", line 1101, in get_records\n",
      "    return _fixed_getinnerframes(etb, number_of_lines_of_context, tb_offset)\n",
      "  File \"C:\\Users\\ck24\\.conda\\envs\\ace592\\lib\\site-packages\\IPython\\core\\ultratb.py\", line 248, in wrapped\n",
      "    return f(*args, **kwargs)\n",
      "  File \"C:\\Users\\ck24\\.conda\\envs\\ace592\\lib\\site-packages\\IPython\\core\\ultratb.py\", line 281, in _fixed_getinnerframes\n",
      "    records = fix_frame_records_filenames(inspect.getinnerframes(etb, context))\n",
      "  File \"C:\\Users\\ck24\\.conda\\envs\\ace592\\lib\\inspect.py\", line 1503, in getinnerframes\n",
      "    frameinfo = (tb.tb_frame,) + getframeinfo(tb, context)\n",
      "  File \"C:\\Users\\ck24\\.conda\\envs\\ace592\\lib\\inspect.py\", line 1461, in getframeinfo\n",
      "    filename = getsourcefile(frame) or getfile(frame)\n",
      "  File \"C:\\Users\\ck24\\.conda\\envs\\ace592\\lib\\inspect.py\", line 705, in getsourcefile\n",
      "    if os.path.exists(filename):\n",
      "  File \"C:\\Users\\ck24\\.conda\\envs\\ace592\\lib\\genericpath.py\", line 19, in exists\n",
      "    os.stat(path)\n",
      "KeyboardInterrupt\n"
     ]
    },
    {
     "ename": "TypeError",
     "evalue": "object of type 'NoneType' has no len()",
     "output_type": "error",
     "traceback": [
      "\u001b[1;31m---------------------------------------------------------------------------\u001b[0m",
      "\u001b[1;31mKeyboardInterrupt\u001b[0m                         Traceback (most recent call last)",
      "    \u001b[1;31m[... skipping hidden 1 frame]\u001b[0m\n",
      "\u001b[1;32m<ipython-input-17-d5b0552af149>\u001b[0m in \u001b[0;36m<module>\u001b[1;34m\u001b[0m\n\u001b[0;32m      8\u001b[0m \u001b[0mAlpha\u001b[0m \u001b[1;33m=\u001b[0m \u001b[0mnp\u001b[0m\u001b[1;33m.\u001b[0m\u001b[0marange\u001b[0m\u001b[1;33m(\u001b[0m\u001b[1;36m0\u001b[0m\u001b[1;33m,\u001b[0m\u001b[1;36m1\u001b[0m\u001b[1;33m,\u001b[0m\u001b[1;36m0.01\u001b[0m\u001b[1;33m)\u001b[0m\u001b[1;33m\u001b[0m\u001b[1;33m\u001b[0m\u001b[0m\n\u001b[1;32m----> 9\u001b[1;33m \u001b[0mcoef_lists\u001b[0m \u001b[1;33m=\u001b[0m \u001b[1;33m[\u001b[0m\u001b[0mlist\u001b[0m\u001b[1;33m(\u001b[0m\u001b[0mget_cols\u001b[0m\u001b[1;33m(\u001b[0m\u001b[0ma\u001b[0m\u001b[1;33m)\u001b[0m\u001b[1;33m)\u001b[0m \u001b[1;32mfor\u001b[0m \u001b[0ma\u001b[0m \u001b[1;32min\u001b[0m \u001b[0mAlpha\u001b[0m\u001b[1;33m]\u001b[0m\u001b[1;33m\u001b[0m\u001b[1;33m\u001b[0m\u001b[0m\n\u001b[0m",
      "\u001b[1;32m<ipython-input-17-d5b0552af149>\u001b[0m in \u001b[0;36m<listcomp>\u001b[1;34m(.0)\u001b[0m\n\u001b[0;32m      8\u001b[0m \u001b[0mAlpha\u001b[0m \u001b[1;33m=\u001b[0m \u001b[0mnp\u001b[0m\u001b[1;33m.\u001b[0m\u001b[0marange\u001b[0m\u001b[1;33m(\u001b[0m\u001b[1;36m0\u001b[0m\u001b[1;33m,\u001b[0m\u001b[1;36m1\u001b[0m\u001b[1;33m,\u001b[0m\u001b[1;36m0.01\u001b[0m\u001b[1;33m)\u001b[0m\u001b[1;33m\u001b[0m\u001b[1;33m\u001b[0m\u001b[0m\n\u001b[1;32m----> 9\u001b[1;33m \u001b[0mcoef_lists\u001b[0m \u001b[1;33m=\u001b[0m \u001b[1;33m[\u001b[0m\u001b[0mlist\u001b[0m\u001b[1;33m(\u001b[0m\u001b[0mget_cols\u001b[0m\u001b[1;33m(\u001b[0m\u001b[0ma\u001b[0m\u001b[1;33m)\u001b[0m\u001b[1;33m)\u001b[0m \u001b[1;32mfor\u001b[0m \u001b[0ma\u001b[0m \u001b[1;32min\u001b[0m \u001b[0mAlpha\u001b[0m\u001b[1;33m]\u001b[0m\u001b[1;33m\u001b[0m\u001b[1;33m\u001b[0m\u001b[0m\n\u001b[0m",
      "\u001b[1;32m<ipython-input-17-d5b0552af149>\u001b[0m in \u001b[0;36mget_cols\u001b[1;34m(alpha)\u001b[0m\n\u001b[0;32m      3\u001b[0m     \u001b[0mlasso_model\u001b[0m \u001b[1;33m=\u001b[0m\u001b[0mLasso\u001b[0m\u001b[1;33m(\u001b[0m\u001b[0malpha\u001b[0m\u001b[1;33m=\u001b[0m\u001b[0malpha\u001b[0m\u001b[1;33m)\u001b[0m\u001b[1;33m\u001b[0m\u001b[1;33m\u001b[0m\u001b[0m\n\u001b[1;32m----> 4\u001b[1;33m     \u001b[0mlasso_model\u001b[0m \u001b[1;33m=\u001b[0m \u001b[0mlasso_model\u001b[0m\u001b[1;33m.\u001b[0m\u001b[0mfit\u001b[0m\u001b[1;33m(\u001b[0m\u001b[0my\u001b[0m\u001b[1;33m=\u001b[0m\u001b[0my_train\u001b[0m\u001b[1;33m,\u001b[0m\u001b[0mX\u001b[0m\u001b[1;33m=\u001b[0m\u001b[0mX_train\u001b[0m\u001b[1;33m)\u001b[0m\u001b[1;33m\u001b[0m\u001b[1;33m\u001b[0m\u001b[0m\n\u001b[0m\u001b[0;32m      5\u001b[0m     \u001b[0mcoefs\u001b[0m \u001b[1;33m=\u001b[0m \u001b[0mlasso_model\u001b[0m\u001b[1;33m.\u001b[0m\u001b[0mcoef_\u001b[0m\u001b[1;33m\u001b[0m\u001b[1;33m\u001b[0m\u001b[0m\n",
      "\u001b[1;32m~\\.conda\\envs\\ace592\\lib\\site-packages\\sklearn\\linear_model\\_coordinate_descent.py\u001b[0m in \u001b[0;36mfit\u001b[1;34m(self, X, y, sample_weight, check_input)\u001b[0m\n\u001b[0;32m    831\u001b[0m             \u001b[0m_\u001b[0m\u001b[1;33m,\u001b[0m \u001b[0mthis_coef\u001b[0m\u001b[1;33m,\u001b[0m \u001b[0mthis_dual_gap\u001b[0m\u001b[1;33m,\u001b[0m \u001b[0mthis_iter\u001b[0m \u001b[1;33m=\u001b[0m\u001b[0;31m \u001b[0m\u001b[0;31m\\\u001b[0m\u001b[1;33m\u001b[0m\u001b[1;33m\u001b[0m\u001b[0m\n\u001b[1;32m--> 832\u001b[1;33m                 self.path(X, y[:, k],\n\u001b[0m\u001b[0;32m    833\u001b[0m                           \u001b[0ml1_ratio\u001b[0m\u001b[1;33m=\u001b[0m\u001b[0mself\u001b[0m\u001b[1;33m.\u001b[0m\u001b[0ml1_ratio\u001b[0m\u001b[1;33m,\u001b[0m \u001b[0meps\u001b[0m\u001b[1;33m=\u001b[0m\u001b[1;32mNone\u001b[0m\u001b[1;33m,\u001b[0m\u001b[1;33m\u001b[0m\u001b[1;33m\u001b[0m\u001b[0m\n",
      "\u001b[1;32m~\\.conda\\envs\\ace592\\lib\\site-packages\\sklearn\\utils\\validation.py\u001b[0m in \u001b[0;36minner_f\u001b[1;34m(*args, **kwargs)\u001b[0m\n\u001b[0;32m     71\u001b[0m         \u001b[0mkwargs\u001b[0m\u001b[1;33m.\u001b[0m\u001b[0mupdate\u001b[0m\u001b[1;33m(\u001b[0m\u001b[1;33m{\u001b[0m\u001b[0mk\u001b[0m\u001b[1;33m:\u001b[0m \u001b[0marg\u001b[0m \u001b[1;32mfor\u001b[0m \u001b[0mk\u001b[0m\u001b[1;33m,\u001b[0m \u001b[0marg\u001b[0m \u001b[1;32min\u001b[0m \u001b[0mzip\u001b[0m\u001b[1;33m(\u001b[0m\u001b[0msig\u001b[0m\u001b[1;33m.\u001b[0m\u001b[0mparameters\u001b[0m\u001b[1;33m,\u001b[0m \u001b[0margs\u001b[0m\u001b[1;33m)\u001b[0m\u001b[1;33m}\u001b[0m\u001b[1;33m)\u001b[0m\u001b[1;33m\u001b[0m\u001b[1;33m\u001b[0m\u001b[0m\n\u001b[1;32m---> 72\u001b[1;33m         \u001b[1;32mreturn\u001b[0m \u001b[0mf\u001b[0m\u001b[1;33m(\u001b[0m\u001b[1;33m**\u001b[0m\u001b[0mkwargs\u001b[0m\u001b[1;33m)\u001b[0m\u001b[1;33m\u001b[0m\u001b[1;33m\u001b[0m\u001b[0m\n\u001b[0m\u001b[0;32m     73\u001b[0m     \u001b[1;32mreturn\u001b[0m \u001b[0minner_f\u001b[0m\u001b[1;33m\u001b[0m\u001b[1;33m\u001b[0m\u001b[0m\n",
      "\u001b[1;32m~\\.conda\\envs\\ace592\\lib\\site-packages\\sklearn\\linear_model\\_coordinate_descent.py\u001b[0m in \u001b[0;36menet_path\u001b[1;34m(X, y, l1_ratio, eps, n_alphas, alphas, precompute, Xy, copy_X, coef_init, verbose, return_n_iter, positive, check_input, **params)\u001b[0m\n\u001b[0;32m    528\u001b[0m         \u001b[1;32melif\u001b[0m \u001b[0mprecompute\u001b[0m \u001b[1;32mis\u001b[0m \u001b[1;32mFalse\u001b[0m\u001b[1;33m:\u001b[0m\u001b[1;33m\u001b[0m\u001b[1;33m\u001b[0m\u001b[0m\n\u001b[1;32m--> 529\u001b[1;33m             model = cd_fast.enet_coordinate_descent(\n\u001b[0m\u001b[0;32m    530\u001b[0m                 \u001b[0mcoef_\u001b[0m\u001b[1;33m,\u001b[0m \u001b[0ml1_reg\u001b[0m\u001b[1;33m,\u001b[0m \u001b[0ml2_reg\u001b[0m\u001b[1;33m,\u001b[0m \u001b[0mX\u001b[0m\u001b[1;33m,\u001b[0m \u001b[0my\u001b[0m\u001b[1;33m,\u001b[0m \u001b[0mmax_iter\u001b[0m\u001b[1;33m,\u001b[0m \u001b[0mtol\u001b[0m\u001b[1;33m,\u001b[0m \u001b[0mrng\u001b[0m\u001b[1;33m,\u001b[0m \u001b[0mrandom\u001b[0m\u001b[1;33m,\u001b[0m\u001b[1;33m\u001b[0m\u001b[1;33m\u001b[0m\u001b[0m\n",
      "\u001b[1;31mKeyboardInterrupt\u001b[0m: ",
      "\nDuring handling of the above exception, another exception occurred:\n",
      "\u001b[1;31mAttributeError\u001b[0m                            Traceback (most recent call last)",
      "\u001b[1;32m~\\.conda\\envs\\ace592\\lib\\site-packages\\IPython\\core\\interactiveshell.py\u001b[0m in \u001b[0;36mshowtraceback\u001b[1;34m(self, exc_tuple, filename, tb_offset, exception_only, running_compiled_code)\u001b[0m\n\u001b[0;32m   2060\u001b[0m                         \u001b[1;31m# in the engines. This should return a list of strings.\u001b[0m\u001b[1;33m\u001b[0m\u001b[1;33m\u001b[0m\u001b[1;33m\u001b[0m\u001b[0m\n\u001b[1;32m-> 2061\u001b[1;33m                         \u001b[0mstb\u001b[0m \u001b[1;33m=\u001b[0m \u001b[0mvalue\u001b[0m\u001b[1;33m.\u001b[0m\u001b[0m_render_traceback_\u001b[0m\u001b[1;33m(\u001b[0m\u001b[1;33m)\u001b[0m\u001b[1;33m\u001b[0m\u001b[1;33m\u001b[0m\u001b[0m\n\u001b[0m\u001b[0;32m   2062\u001b[0m                     \u001b[1;32mexcept\u001b[0m \u001b[0mException\u001b[0m\u001b[1;33m:\u001b[0m\u001b[1;33m\u001b[0m\u001b[1;33m\u001b[0m\u001b[0m\n",
      "\u001b[1;31mAttributeError\u001b[0m: 'KeyboardInterrupt' object has no attribute '_render_traceback_'",
      "\nDuring handling of the above exception, another exception occurred:\n",
      "\u001b[1;31mTypeError\u001b[0m                                 Traceback (most recent call last)",
      "    \u001b[1;31m[... skipping hidden 1 frame]\u001b[0m\n",
      "\u001b[1;32m~\\.conda\\envs\\ace592\\lib\\site-packages\\IPython\\core\\interactiveshell.py\u001b[0m in \u001b[0;36mshowtraceback\u001b[1;34m(self, exc_tuple, filename, tb_offset, exception_only, running_compiled_code)\u001b[0m\n\u001b[0;32m   2061\u001b[0m                         \u001b[0mstb\u001b[0m \u001b[1;33m=\u001b[0m \u001b[0mvalue\u001b[0m\u001b[1;33m.\u001b[0m\u001b[0m_render_traceback_\u001b[0m\u001b[1;33m(\u001b[0m\u001b[1;33m)\u001b[0m\u001b[1;33m\u001b[0m\u001b[1;33m\u001b[0m\u001b[0m\n\u001b[0;32m   2062\u001b[0m                     \u001b[1;32mexcept\u001b[0m \u001b[0mException\u001b[0m\u001b[1;33m:\u001b[0m\u001b[1;33m\u001b[0m\u001b[1;33m\u001b[0m\u001b[0m\n\u001b[1;32m-> 2063\u001b[1;33m                         stb = self.InteractiveTB.structured_traceback(etype,\n\u001b[0m\u001b[0;32m   2064\u001b[0m                                             value, tb, tb_offset=tb_offset)\n\u001b[0;32m   2065\u001b[0m \u001b[1;33m\u001b[0m\u001b[0m\n",
      "\u001b[1;32m~\\.conda\\envs\\ace592\\lib\\site-packages\\IPython\\core\\ultratb.py\u001b[0m in \u001b[0;36mstructured_traceback\u001b[1;34m(self, etype, value, tb, tb_offset, number_of_lines_of_context)\u001b[0m\n\u001b[0;32m   1365\u001b[0m         \u001b[1;32melse\u001b[0m\u001b[1;33m:\u001b[0m\u001b[1;33m\u001b[0m\u001b[1;33m\u001b[0m\u001b[0m\n\u001b[0;32m   1366\u001b[0m             \u001b[0mself\u001b[0m\u001b[1;33m.\u001b[0m\u001b[0mtb\u001b[0m \u001b[1;33m=\u001b[0m \u001b[0mtb\u001b[0m\u001b[1;33m\u001b[0m\u001b[1;33m\u001b[0m\u001b[0m\n\u001b[1;32m-> 1367\u001b[1;33m         return FormattedTB.structured_traceback(\n\u001b[0m\u001b[0;32m   1368\u001b[0m             self, etype, value, tb, tb_offset, number_of_lines_of_context)\n\u001b[0;32m   1369\u001b[0m \u001b[1;33m\u001b[0m\u001b[0m\n",
      "\u001b[1;32m~\\.conda\\envs\\ace592\\lib\\site-packages\\IPython\\core\\ultratb.py\u001b[0m in \u001b[0;36mstructured_traceback\u001b[1;34m(self, etype, value, tb, tb_offset, number_of_lines_of_context)\u001b[0m\n\u001b[0;32m   1265\u001b[0m         \u001b[1;32mif\u001b[0m \u001b[0mmode\u001b[0m \u001b[1;32min\u001b[0m \u001b[0mself\u001b[0m\u001b[1;33m.\u001b[0m\u001b[0mverbose_modes\u001b[0m\u001b[1;33m:\u001b[0m\u001b[1;33m\u001b[0m\u001b[1;33m\u001b[0m\u001b[0m\n\u001b[0;32m   1266\u001b[0m             \u001b[1;31m# Verbose modes need a full traceback\u001b[0m\u001b[1;33m\u001b[0m\u001b[1;33m\u001b[0m\u001b[1;33m\u001b[0m\u001b[0m\n\u001b[1;32m-> 1267\u001b[1;33m             return VerboseTB.structured_traceback(\n\u001b[0m\u001b[0;32m   1268\u001b[0m                 \u001b[0mself\u001b[0m\u001b[1;33m,\u001b[0m \u001b[0metype\u001b[0m\u001b[1;33m,\u001b[0m \u001b[0mvalue\u001b[0m\u001b[1;33m,\u001b[0m \u001b[0mtb\u001b[0m\u001b[1;33m,\u001b[0m \u001b[0mtb_offset\u001b[0m\u001b[1;33m,\u001b[0m \u001b[0mnumber_of_lines_of_context\u001b[0m\u001b[1;33m\u001b[0m\u001b[1;33m\u001b[0m\u001b[0m\n\u001b[0;32m   1269\u001b[0m             )\n",
      "\u001b[1;32m~\\.conda\\envs\\ace592\\lib\\site-packages\\IPython\\core\\ultratb.py\u001b[0m in \u001b[0;36mstructured_traceback\u001b[1;34m(self, etype, evalue, etb, tb_offset, number_of_lines_of_context)\u001b[0m\n\u001b[0;32m   1122\u001b[0m         \u001b[1;34m\"\"\"Return a nice text document describing the traceback.\"\"\"\u001b[0m\u001b[1;33m\u001b[0m\u001b[1;33m\u001b[0m\u001b[0m\n\u001b[0;32m   1123\u001b[0m \u001b[1;33m\u001b[0m\u001b[0m\n\u001b[1;32m-> 1124\u001b[1;33m         formatted_exception = self.format_exception_as_a_whole(etype, evalue, etb, number_of_lines_of_context,\n\u001b[0m\u001b[0;32m   1125\u001b[0m                                                                tb_offset)\n\u001b[0;32m   1126\u001b[0m \u001b[1;33m\u001b[0m\u001b[0m\n",
      "\u001b[1;32m~\\.conda\\envs\\ace592\\lib\\site-packages\\IPython\\core\\ultratb.py\u001b[0m in \u001b[0;36mformat_exception_as_a_whole\u001b[1;34m(self, etype, evalue, etb, number_of_lines_of_context, tb_offset)\u001b[0m\n\u001b[0;32m   1080\u001b[0m \u001b[1;33m\u001b[0m\u001b[0m\n\u001b[0;32m   1081\u001b[0m \u001b[1;33m\u001b[0m\u001b[0m\n\u001b[1;32m-> 1082\u001b[1;33m         \u001b[0mlast_unique\u001b[0m\u001b[1;33m,\u001b[0m \u001b[0mrecursion_repeat\u001b[0m \u001b[1;33m=\u001b[0m \u001b[0mfind_recursion\u001b[0m\u001b[1;33m(\u001b[0m\u001b[0morig_etype\u001b[0m\u001b[1;33m,\u001b[0m \u001b[0mevalue\u001b[0m\u001b[1;33m,\u001b[0m \u001b[0mrecords\u001b[0m\u001b[1;33m)\u001b[0m\u001b[1;33m\u001b[0m\u001b[1;33m\u001b[0m\u001b[0m\n\u001b[0m\u001b[0;32m   1083\u001b[0m \u001b[1;33m\u001b[0m\u001b[0m\n\u001b[0;32m   1084\u001b[0m         \u001b[0mframes\u001b[0m \u001b[1;33m=\u001b[0m \u001b[0mself\u001b[0m\u001b[1;33m.\u001b[0m\u001b[0mformat_records\u001b[0m\u001b[1;33m(\u001b[0m\u001b[0mrecords\u001b[0m\u001b[1;33m,\u001b[0m \u001b[0mlast_unique\u001b[0m\u001b[1;33m,\u001b[0m \u001b[0mrecursion_repeat\u001b[0m\u001b[1;33m)\u001b[0m\u001b[1;33m\u001b[0m\u001b[1;33m\u001b[0m\u001b[0m\n",
      "\u001b[1;32m~\\.conda\\envs\\ace592\\lib\\site-packages\\IPython\\core\\ultratb.py\u001b[0m in \u001b[0;36mfind_recursion\u001b[1;34m(etype, value, records)\u001b[0m\n\u001b[0;32m    380\u001b[0m     \u001b[1;31m# first frame (from in to out) that looks different.\u001b[0m\u001b[1;33m\u001b[0m\u001b[1;33m\u001b[0m\u001b[1;33m\u001b[0m\u001b[0m\n\u001b[0;32m    381\u001b[0m     \u001b[1;32mif\u001b[0m \u001b[1;32mnot\u001b[0m \u001b[0mis_recursion_error\u001b[0m\u001b[1;33m(\u001b[0m\u001b[0metype\u001b[0m\u001b[1;33m,\u001b[0m \u001b[0mvalue\u001b[0m\u001b[1;33m,\u001b[0m \u001b[0mrecords\u001b[0m\u001b[1;33m)\u001b[0m\u001b[1;33m:\u001b[0m\u001b[1;33m\u001b[0m\u001b[1;33m\u001b[0m\u001b[0m\n\u001b[1;32m--> 382\u001b[1;33m         \u001b[1;32mreturn\u001b[0m \u001b[0mlen\u001b[0m\u001b[1;33m(\u001b[0m\u001b[0mrecords\u001b[0m\u001b[1;33m)\u001b[0m\u001b[1;33m,\u001b[0m \u001b[1;36m0\u001b[0m\u001b[1;33m\u001b[0m\u001b[1;33m\u001b[0m\u001b[0m\n\u001b[0m\u001b[0;32m    383\u001b[0m \u001b[1;33m\u001b[0m\u001b[0m\n\u001b[0;32m    384\u001b[0m     \u001b[1;31m# Select filename, lineno, func_name to track frames with\u001b[0m\u001b[1;33m\u001b[0m\u001b[1;33m\u001b[0m\u001b[1;33m\u001b[0m\u001b[0m\n",
      "\u001b[1;31mTypeError\u001b[0m: object of type 'NoneType' has no len()"
     ]
    }
   ],
   "source": [
    "# Lasso parameter tuning:\n",
    "def get_cols(alpha):\n",
    "    lasso_model =Lasso(alpha=alpha)\n",
    "    lasso_model = lasso_model.fit(y=y_train,X=X_train)   \n",
    "    coefs = lasso_model.coef_ \n",
    "    return coefs!=0\n",
    "\n",
    "Alpha = np.arange(0,1,0.01)\n",
    "coef_lists = [list(get_cols(a)) for a in Alpha]"
   ]
  },
  {
   "cell_type": "code",
   "execution_count": null,
   "id": "material-vietnam",
   "metadata": {
    "scrolled": true
   },
   "outputs": [],
   "source": [
    "plt.plot(Alpha,pd.DataFrame(coef_lists).sum(axis=1))\n",
    "plt.ylabel(\"No.of Features\")\n",
    "plt.xlabel(\"Values of Alpha\")\n",
    "plt.ylim(0,100)\n",
    "plt.xlim(0,1)"
   ]
  },
  {
   "cell_type": "code",
   "execution_count": null,
   "id": "accurate-offering",
   "metadata": {
    "scrolled": true
   },
   "outputs": [],
   "source": [
    "A = np.arange(.01,0.5,.01)\n",
    "lasso_model = LassoCV(alphas=A,cv=10)\n",
    "lasso_model = lasso_model.fit(X_train,y_train)\n",
    "print(\"Most optimal value for alpha parameter is:\",lasso_model.alpha_)"
   ]
  },
  {
   "cell_type": "code",
   "execution_count": null,
   "id": "approximate-jenny",
   "metadata": {},
   "outputs": [],
   "source": [
    "y_pred = lasso_model.predict(X_val)\n",
    "rmse = np.sqrt(mean_squared_error(y_val, y_pred))\n",
    "r2 = r2_score(y_val, y_pred)\n",
    "print(\"\\nLasso Cross Validation - interaction terms: \\nRMSE: {}, r2: {}\".format(rmse,r2))"
   ]
  },
  {
   "cell_type": "code",
   "execution_count": null,
   "id": "positive-dining",
   "metadata": {},
   "outputs": [],
   "source": []
  },
  {
   "cell_type": "markdown",
   "id": "major-ribbon",
   "metadata": {},
   "source": [
    "## Random Forest:"
   ]
  },
  {
   "cell_type": "code",
   "execution_count": 41,
   "id": "covered-validation",
   "metadata": {},
   "outputs": [],
   "source": [
    "data_x = data_long.drop(columns = [\"year\",\"gva_r\"])\n",
    "data_y = data_long[[\"gva_r\"]]\n"
   ]
  },
  {
   "cell_type": "code",
   "execution_count": 31,
   "id": "harmful-joseph",
   "metadata": {},
   "outputs": [],
   "source": [
    "# Normalizing data with StandardScaler()\n",
    "X = StandardScaler().fit_transform(data_x)\n",
    "y = StandardScaler().fit_transform(data_y)"
   ]
  },
  {
   "cell_type": "code",
   "execution_count": 32,
   "id": "noble-plaintiff",
   "metadata": {},
   "outputs": [
    {
     "data": {
      "text/plain": [
       "((4366, 107), (4366, 1))"
      ]
     },
     "execution_count": 32,
     "metadata": {},
     "output_type": "execute_result"
    }
   ],
   "source": [
    "X.shape, y.shape"
   ]
  },
  {
   "cell_type": "code",
   "execution_count": 33,
   "id": "fantastic-particular",
   "metadata": {},
   "outputs": [],
   "source": [
    "# Split sample into training, validation, testing:\n",
    "X_train, X_test, y_train, y_test = train_test_split(X, y, test_size=0.1, random_state=0)\n",
    "# Create a validation set (to use test for later)\n",
    "X_train, X_val, y_train, y_val = train_test_split(X_train, y_train, test_size=0.1, random_state=0)"
   ]
  },
  {
   "cell_type": "markdown",
   "id": "opposite-mortality",
   "metadata": {},
   "source": [
    "# Without Hyper-parameter tuning"
   ]
  },
  {
   "cell_type": "code",
   "execution_count": 34,
   "id": "fitting-citation",
   "metadata": {},
   "outputs": [
    {
     "name": "stderr",
     "output_type": "stream",
     "text": [
      "<ipython-input-34-6a24934fea6c>:2: DataConversionWarning: A column-vector y was passed when a 1d array was expected. Please change the shape of y to (n_samples,), for example using ravel().\n",
      "  regr.fit(X_train, y_train)\n"
     ]
    }
   ],
   "source": [
    "regr = RandomForestRegressor(random_state=0)\n",
    "regr.fit(X_train, y_train)\n",
    "y_pred_test_ran1 = regr.predict(X_val)\n"
   ]
  },
  {
   "cell_type": "code",
   "execution_count": 36,
   "id": "durable-moscow",
   "metadata": {},
   "outputs": [
    {
     "name": "stdout",
     "output_type": "stream",
     "text": [
      "\n",
      "Lasso Cross Validation - interaction terms: \n",
      "RMSE: 0.22020637038026142, r2: 0.691452181157513\n"
     ]
    },
    {
     "data": {
      "text/plain": [
       "[<matplotlib.lines.Line2D at 0x2920c58f160>]"
      ]
     },
     "execution_count": 36,
     "metadata": {},
     "output_type": "execute_result"
    },
    {
     "data": {
      "image/png": "[encoded data removed]",
      "text/plain": [
       "<Figure size 432x288 with 1 Axes>"
      ]
     },
     "metadata": {
      "needs_background": "light"
     },
     "output_type": "display_data"
    }
   ],
   "source": [
    "rmse_ran_1 = np.sqrt(mean_squared_error(y_val, y_pred_test_ran1))\n",
    "r2_ran_1 = r2_score(y_val, y_pred_test_ran1)\n",
    "print(\"\\nLasso Cross Validation - interaction terms: \\nRMSE: {}, r2: {}\".format(rmse_ran_1,r2_ran_1))\n",
    "plt.plot(y_val,y_pred_test_ran1,'o', color = \"blue\")\n",
    "plt.plot(y_val,y_val,'k-')\n",
    "# plt.xlabel(\"Normalized GDP\")\n",
    "# plt.ylabel(\"Predicted GDP\")\n",
    "# plt.title(\"Night Lights Model\")\n",
    "# plt.xlim(0,1)\n",
    "# plt.ylim(0,1)"
   ]
  },
  {
   "cell_type": "markdown",
   "id": "variable-steel",
   "metadata": {},
   "source": [
    "## Random Forest Cross Validation (n=5) with grid search "
   ]
  },
  {
   "cell_type": "code",
   "execution_count": 37,
   "id": "stuck-insight",
   "metadata": {},
   "outputs": [
    {
     "name": "stderr",
     "output_type": "stream",
     "text": [
      "C:\\Users\\gv4\\Anaconda3\\envs\\ace592\\lib\\site-packages\\sklearn\\model_selection\\_search.py:278: UserWarning: The total space of parameters 2 is smaller than n_iter=20. Running 2 iterations. For exhaustive searches, use GridSearchCV.\n",
      "  warnings.warn(\n",
      "C:\\Users\\gv4\\Anaconda3\\envs\\ace592\\lib\\site-packages\\sklearn\\model_selection\\_search.py:765: DataConversionWarning: A column-vector y was passed when a 1d array was expected. Please change the shape of y to (n_samples,), for example using ravel().\n",
      "  self.best_estimator_.fit(X, y, **fit_params)\n"
     ]
    },
    {
     "data": {
      "text/plain": [
       "RandomizedSearchCV(estimator=RandomForestRegressor(), n_iter=20, n_jobs=-1,\n",
       "                   param_distributions={'bootstrap': [True, False],\n",
       "                                        'max_depth': [100],\n",
       "                                        'n_estimators': [100]},\n",
       "                   random_state=40)"
      ]
     },
     "execution_count": 37,
     "metadata": {},
     "output_type": "execute_result"
    }
   ],
   "source": [
    "random_grid = {'n_estimators': [100],\n",
    "               'max_depth': [100],\n",
    "               'bootstrap': [True,False]}\n",
    "\n",
    "rf = RandomForestRegressor()\n",
    "rf_random = RandomizedSearchCV(rf,random_grid,n_iter=20,n_jobs=-1,random_state=40)\n",
    "\n",
    "rf_random.fit(X_train,y_train)"
   ]
  },
  {
   "cell_type": "code",
   "execution_count": 38,
   "id": "moral-country",
   "metadata": {},
   "outputs": [
    {
     "name": "stdout",
     "output_type": "stream",
     "text": [
      "\n",
      "Random Forest Validation: \n",
      "RMSE: 0.23096404449085753, r2: 0.6605690219213067\n"
     ]
    },
    {
     "data": {
      "text/plain": [
       "[<matplotlib.lines.Line2D at 0x2920c5eb9a0>]"
      ]
     },
     "execution_count": 38,
     "metadata": {},
     "output_type": "execute_result"
    },
    {
     "data": {
      "image/png": "[encoded data removed]",
      "text/plain": [
       "<Figure size 432x288 with 1 Axes>"
      ]
     },
     "metadata": {
      "needs_background": "light"
     },
     "output_type": "display_data"
    }
   ],
   "source": [
    "y_pred_rf = rf_random.predict(X_val)\n",
    "rmse = np.sqrt(mean_squared_error(y_val, y_pred_rf))\n",
    "r2 = r2_score(y_val, y_pred_rf)\n",
    "print(\"\\nRandom Forest Validation: \\nRMSE: {}, r2: {}\".format(rmse,r2))\n",
    "plt.plot(y_val,y_pred_rf,'o', color = \"blue\")\n",
    "plt.plot(y_val,y_val,'k-')\n"
   ]
  },
  {
   "cell_type": "markdown",
   "id": "novel-avenue",
   "metadata": {},
   "source": [
    "## Using Wide Data Format"
   ]
  },
  {
   "cell_type": "code",
   "execution_count": 50,
   "id": "anticipated-visit",
   "metadata": {},
   "outputs": [],
   "source": [
    "data_wide.dropna(inplace = True)"
   ]
  },
  {
   "cell_type": "code",
   "execution_count": 55,
   "id": "desperate-campus",
   "metadata": {},
   "outputs": [],
   "source": [
    "Data_x = data_wide.drop(columns = [\"ADM1_ES\",\"ADM2_ES\",\"ADM2_PCODE\",\"new_cod\",\"NOM_MUN\",\"gva_r09\",\"gva_r14\"])\n",
    "Data_y = data_wide[[\"gva_r14\"]]"
   ]
  },
  {
   "cell_type": "code",
   "execution_count": 52,
   "id": "compressed-thumb",
   "metadata": {},
   "outputs": [],
   "source": [
    "output_wide, colnames_wide = interaction_terms(Data_x)"
   ]
  },
  {
   "cell_type": "code",
   "execution_count": 53,
   "id": "gothic-hundred",
   "metadata": {},
   "outputs": [
    {
     "data": {
      "text/plain": [
       "((2183, 22366), (2183, 1))"
      ]
     },
     "execution_count": 53,
     "metadata": {},
     "output_type": "execute_result"
    }
   ],
   "source": [
    "Data_X = pd.DataFrame(output_wide, columns= colnames_wide)\n",
    "Data_y = data_wide[[\"gva_r14\"]]\n",
    "Data_X.shape, Data_y.shape"
   ]
  },
  {
   "cell_type": "code",
   "execution_count": 56,
   "id": "communist-august",
   "metadata": {},
   "outputs": [],
   "source": [
    "# Normalizing data with StandardScaler()\n",
    "X_ = StandardScaler().fit_transform(Data_X)\n",
    "y_ = StandardScaler().fit_transform(Data_y)"
   ]
  },
  {
   "cell_type": "code",
   "execution_count": 57,
   "id": "lucky-polls",
   "metadata": {},
   "outputs": [],
   "source": [
    "# Split sample into training, validation, testing:\n",
    "X_trn, X_tst, y_trn, y_tst = train_test_split(X_, y_, test_size=0.1, random_state=0)\n",
    "# Create a validation set (to use test for later)\n",
    "X_train, X_valid, y_train, y_valid = train_test_split(X_trn, y_trn, test_size=0.1, random_state=0)\n"
   ]
  },
  {
   "cell_type": "code",
   "execution_count": null,
   "id": "fuzzy-circulation",
   "metadata": {},
   "outputs": [
    {
     "name": "stderr",
     "output_type": "stream",
     "text": [
      "C:\\Users\\gv4\\Anaconda3\\envs\\ace592\\lib\\site-packages\\sklearn\\utils\\validation.py:72: DataConversionWarning: A column-vector y was passed when a 1d array was expected. Please change the shape of y to (n_samples, ), for example using ravel().\n",
      "  return f(**kwargs)\n"
     ]
    }
   ],
   "source": [
    "A = np.arange(.01,0.5,.1)\n",
    "lasso_model = LassoCV(alphas=A,cv=10)\n",
    "lasso_model = lasso_model.fit(X_train,y_train)\n",
    "print(\"Most optimal value for alpha parameter is:\",lasso_model.alpha_)"
   ]
  },
  {
   "cell_type": "code",
   "execution_count": 157,
   "id": "collectible-entry",
   "metadata": {},
   "outputs": [
    {
     "name": "stdout",
     "output_type": "stream",
     "text": [
      "\n",
      "Lasso Cross Validation - interaction terms: \n",
      "RMSE: 1.7891393861166298, r2: 0.09241185906821214\n"
     ]
    }
   ],
   "source": [
    "y_pred = lasso_model.predict(X_valid)\n",
    "rmse = np.sqrt(mean_squared_error(y_valid, y_pred))\n",
    "r2 = r2_score(y_valid, y_pred)\n",
    "print(\"\\nLasso Cross Validation - interaction terms: \\nRMSE: {}, r2: {}\".format(rmse,r2))"
   ]
  },
  {
   "cell_type": "markdown",
   "id": "tutorial-temperature",
   "metadata": {},
   "source": [
    "## Random Forest"
   ]
  },
  {
   "cell_type": "code",
   "execution_count": 158,
   "id": "streaming-mechanism",
   "metadata": {},
   "outputs": [],
   "source": [
    "Data_x = data_wide.drop(columns = [\"ADM1_ES\",\"ADM2_ES\",\"ADM2_PCODE\",\"new_cod\",\"NOM_MUN\",\"gva_r09\",\"gva_r14\"])\n",
    "Data_y = data_wide[[\"gva_r14\"]]"
   ]
  },
  {
   "cell_type": "code",
   "execution_count": 159,
   "id": "intelligent-registrar",
   "metadata": {},
   "outputs": [],
   "source": [
    "# Normalizing data with StandardScaler()\n",
    "X_ = StandardScaler().fit_transform(Data_x)\n",
    "y_ = StandardScaler().fit_transform(Data_y)"
   ]
  },
  {
   "cell_type": "code",
   "execution_count": 160,
   "id": "active-subscriber",
   "metadata": {},
   "outputs": [],
   "source": [
    "# Split sample into training, validation, testing:\n",
    "X_trn, X_tst, y_trn, y_tst = train_test_split(X_, y_, test_size=0.1, random_state=0)\n",
    "# Create a validation set (to use test for later)\n",
    "X_trn, X_valid, y_trn, y_valid = train_test_split(X_tr, y_trn, test_size=0.1, random_state=0)\n"
   ]
  },
  {
   "cell_type": "code",
   "execution_count": null,
   "id": "verbal-reconstruction",
   "metadata": {},
   "outputs": [],
   "source": [
    "number_trees = np.arange(200,2000,20)\n",
    "max_depth = np.arange(10,110,10)\n",
    "min_samples_leaf = [1, 2, 4]\n",
    "\n",
    "random_grid = {'n_estimators': number_trees,\n",
    "               'max_depth': max_depth,\n",
    "               'min_samples_leaf': min_samples_leaf,\n",
    "               'bootstrap': [True,False]}\n",
    "\n",
    "rf = RandomForestRegressor()\n",
    "rf_random = RandomizedSearchCV(rf,random_grid,n_iter=20,n_jobs=-1,random_state=40)\n",
    "\n",
    "rf_random.fit(X_trn,y_trn)"
   ]
  },
  {
   "cell_type": "code",
   "execution_count": null,
   "id": "killing-dominican",
   "metadata": {},
   "outputs": [],
   "source": []
  }
 ],
 "metadata": {
  "kernelspec": {
   "display_name": "Python 3",
   "language": "python",
   "name": "python3"
  },
  "language_info": {
   "codemirror_mode": {
    "name": "ipython",
    "version": 3
   },
   "file_extension": ".py",
   "mimetype": "text/x-python",
   "name": "python",
   "nbconvert_exporter": "python",
   "pygments_lexer": "ipython3",
   "version": "3.8.5"
  }
 },
 "nbformat": 4,
 "nbformat_minor": 5
}
