{
 "cells": [
  {
   "cell_type": "code",
   "execution_count": 1,
   "id": "generous-catch",
   "metadata": {},
   "outputs": [
    {
     "name": "stdout",
     "output_type": "stream",
     "text": [
      "Collecting xarray\n",
      "  Downloading xarray-0.17.0-py3-none-any.whl (759 kB)\n",
      "Requirement already satisfied: numpy>=1.15 in c:\\users\\pjordon2\\anaconda3\\envs\\ace592\\lib\\site-packages (from xarray) (1.20.0)\n",
      "Requirement already satisfied: pandas>=0.25 in c:\\users\\pjordon2\\anaconda3\\envs\\ace592\\lib\\site-packages (from xarray) (1.1.3)\n",
      "Requirement already satisfied: setuptools>=40.4 in c:\\users\\pjordon2\\anaconda3\\envs\\ace592\\lib\\site-packages (from xarray) (49.6.0.post20210108)\n",
      "Requirement already satisfied: python-dateutil>=2.7.3 in c:\\users\\pjordon2\\anaconda3\\envs\\ace592\\lib\\site-packages (from pandas>=0.25->xarray) (2.8.1)\n",
      "Requirement already satisfied: pytz>=2017.2 in c:\\users\\pjordon2\\anaconda3\\envs\\ace592\\lib\\site-packages (from pandas>=0.25->xarray) (2021.1)\n",
      "Requirement already satisfied: six>=1.5 in c:\\users\\pjordon2\\anaconda3\\envs\\ace592\\lib\\site-packages (from python-dateutil>=2.7.3->pandas>=0.25->xarray) (1.15.0)\n",
      "Installing collected packages: xarray\n",
      "Successfully installed xarray-0.17.0\n",
      "Collecting rioxarray\n",
      "  Downloading rioxarray-0.3.1.tar.gz (1.1 MB)\n",
      "  Installing build dependencies: started\n",
      "  Installing build dependencies: finished with status 'done'\n",
      "  Getting requirements to build wheel: started\n",
      "  Getting requirements to build wheel: finished with status 'done'\n",
      "    Preparing wheel metadata: started\n",
      "    Preparing wheel metadata: finished with status 'done'\n",
      "Requirement already satisfied: rasterio in c:\\users\\pjordon2\\anaconda3\\envs\\ace592\\lib\\site-packages (from rioxarray) (1.1.1)\n",
      "Requirement already satisfied: scipy in c:\\users\\pjordon2\\anaconda3\\envs\\ace592\\lib\\site-packages (from rioxarray) (1.5.0)\n",
      "Requirement already satisfied: pyproj>=2.2 in c:\\users\\pjordon2\\anaconda3\\envs\\ace592\\lib\\site-packages (from rioxarray) (2.6.1.post1)\n",
      "Requirement already satisfied: xarray in c:\\users\\pjordon2\\anaconda3\\envs\\ace592\\lib\\site-packages (from rioxarray) (0.17.0)\n",
      "Requirement already satisfied: affine in c:\\users\\pjordon2\\anaconda3\\envs\\ace592\\lib\\site-packages (from rasterio->rioxarray) (2.3.0)\n",
      "Requirement already satisfied: attrs in c:\\users\\pjordon2\\anaconda3\\envs\\ace592\\lib\\site-packages (from rasterio->rioxarray) (20.3.0)\n",
      "Requirement already satisfied: click<8,>=4.0 in c:\\users\\pjordon2\\anaconda3\\envs\\ace592\\lib\\site-packages (from rasterio->rioxarray) (7.1.2)\n",
      "Requirement already satisfied: cligj>=0.5 in c:\\users\\pjordon2\\anaconda3\\envs\\ace592\\lib\\site-packages (from rasterio->rioxarray) (0.7.1)\n",
      "Requirement already satisfied: numpy in c:\\users\\pjordon2\\anaconda3\\envs\\ace592\\lib\\site-packages (from rasterio->rioxarray) (1.20.0)\n",
      "Requirement already satisfied: snuggs>=1.4.1 in c:\\users\\pjordon2\\anaconda3\\envs\\ace592\\lib\\site-packages (from rasterio->rioxarray) (1.4.7)\n",
      "Requirement already satisfied: click-plugins in c:\\users\\pjordon2\\anaconda3\\envs\\ace592\\lib\\site-packages (from rasterio->rioxarray) (1.1.1)\n",
      "Requirement already satisfied: setuptools>=40.4 in c:\\users\\pjordon2\\anaconda3\\envs\\ace592\\lib\\site-packages (from xarray->rioxarray) (49.6.0.post20210108)\n",
      "Requirement already satisfied: pandas>=0.25 in c:\\users\\pjordon2\\anaconda3\\envs\\ace592\\lib\\site-packages (from xarray->rioxarray) (1.1.3)\n",
      "Requirement already satisfied: pyparsing>=2.1.6 in c:\\users\\pjordon2\\anaconda3\\envs\\ace592\\lib\\site-packages (from snuggs>=1.4.1->rasterio->rioxarray) (2.4.7)\n",
      "Requirement already satisfied: python-dateutil>=2.7.3 in c:\\users\\pjordon2\\anaconda3\\envs\\ace592\\lib\\site-packages (from pandas>=0.25->xarray->rioxarray) (2.8.1)\n",
      "Requirement already satisfied: pytz>=2017.2 in c:\\users\\pjordon2\\anaconda3\\envs\\ace592\\lib\\site-packages (from pandas>=0.25->xarray->rioxarray) (2021.1)\n",
      "Requirement already satisfied: six>=1.5 in c:\\users\\pjordon2\\anaconda3\\envs\\ace592\\lib\\site-packages (from python-dateutil>=2.7.3->pandas>=0.25->xarray->rioxarray) (1.15.0)\n",
      "Building wheels for collected packages: rioxarray\n",
      "  Building wheel for rioxarray (PEP 517): started\n",
      "  Building wheel for rioxarray (PEP 517): finished with status 'done'\n",
      "  Created wheel for rioxarray: filename=rioxarray-0.3.1-py3-none-any.whl size=49120 sha256=ab0b59acde4c36ed9ff33330a9696f7d8abbef4cf50d98974ea412acad67c672\n",
      "  Stored in directory: c:\\users\\pjordon2\\appdata\\local\\pip\\cache\\wheels\\19\\a8\\97\\d4e92b5e8de2c58927038ae4397b7c884989119f10097cef35\n",
      "Successfully built rioxarray\n",
      "Installing collected packages: rioxarray\n",
      "Successfully installed rioxarray-0.3.1\n"
     ]
    }
   ],
   "source": [
    "!pip install xarray\n",
    "!pip install rioxarray"
   ]
  },
  {
   "cell_type": "code",
   "execution_count": 1,
   "id": "front-ethiopia",
   "metadata": {},
   "outputs": [],
   "source": [
    "import rasterio, fiona\n",
    "from rasterio.plot import show\n",
    "import matplotlib.pyplot as plt\n",
    "import geopandas\n",
    "from rasterio.mask import mask\n",
    "import pandas as pd\n",
    "import numpy as np\n",
    "import json\n",
    "import matplotlib.patches as mpatches\n",
    "import matplotlib.colors\n",
    "from scipy.signal import medfilt2d\n",
    "from rasterstats import zonal_stats\n",
    "import rioxarray\n",
    "import xarray\n",
    "import glob"
   ]
  },
  {
   "cell_type": "code",
   "execution_count": 2,
   "id": "hazardous-payday",
   "metadata": {},
   "outputs": [
    {
     "data": {
      "text/html": [
       "<div>\n",
       "<style scoped>\n",
       "    .dataframe tbody tr th:only-of-type {\n",
       "        vertical-align: middle;\n",
       "    }\n",
       "\n",
       "    .dataframe tbody tr th {\n",
       "        vertical-align: top;\n",
       "    }\n",
       "\n",
       "    .dataframe thead th {\n",
       "        text-align: right;\n",
       "    }\n",
       "</style>\n",
       "<table border=\"1\" class=\"dataframe\">\n",
       "  <thead>\n",
       "    <tr style=\"text-align: right;\">\n",
       "      <th></th>\n",
       "      <th>Shape_Leng</th>\n",
       "      <th>Shape_Area</th>\n",
       "      <th>ADM0_ES</th>\n",
       "      <th>ADM0_PCODE</th>\n",
       "      <th>ADM0_REF</th>\n",
       "      <th>ADM0ALT1ES</th>\n",
       "      <th>ADM0ALT2ES</th>\n",
       "      <th>date</th>\n",
       "      <th>validOn</th>\n",
       "      <th>validTo</th>\n",
       "      <th>geometry</th>\n",
       "    </tr>\n",
       "  </thead>\n",
       "  <tbody>\n",
       "    <tr>\n",
       "      <th>0</th>\n",
       "      <td>354.605876</td>\n",
       "      <td>173.513956</td>\n",
       "      <td>México</td>\n",
       "      <td>MX</td>\n",
       "      <td>Mexico</td>\n",
       "      <td>None</td>\n",
       "      <td>None</td>\n",
       "      <td>2018-02-02</td>\n",
       "      <td>2020-06-18</td>\n",
       "      <td>None</td>\n",
       "      <td>MULTIPOLYGON (((-92.77034 15.15128, -92.77107 ...</td>\n",
       "    </tr>\n",
       "  </tbody>\n",
       "</table>\n",
       "</div>"
      ],
      "text/plain": [
       "   Shape_Leng  Shape_Area ADM0_ES ADM0_PCODE ADM0_REF ADM0ALT1ES ADM0ALT2ES  \\\n",
       "0  354.605876  173.513956  México         MX   Mexico       None       None   \n",
       "\n",
       "         date     validOn validTo  \\\n",
       "0  2018-02-02  2020-06-18    None   \n",
       "\n",
       "                                            geometry  \n",
       "0  MULTIPOLYGON (((-92.77034 15.15128, -92.77107 ...  "
      ]
     },
     "execution_count": 2,
     "metadata": {},
     "output_type": "execute_result"
    },
    {
     "data": {
      "image/png": "[encoded data removed]",
      "text/plain": [
       "<Figure size 432x288 with 1 Axes>"
      ]
     },
     "metadata": {
      "needs_background": "light"
     },
     "output_type": "display_data"
    }
   ],
   "source": [
    "#Getting shape file for mexico districts (municipalities)\n",
    "path_shape = r\"C:\\Users\\pjordon2\\Box\\UIUC\\6 year\\ACE_592_big_data\\Project\\Pollution_Sp21\\Data\\boundary_shp\"\n",
    "mex_district = geopandas.read_file(path_shape+\"/mex_admbnda_adm2_govmex_20200618.shp\") \n",
    "mexico = geopandas.read_file(path_shape+\"/mex_admbnda_adm0_govmex_20200618.shp\")\n",
    "mexico.plot()\n",
    "mexico"
   ]
  },
  {
   "cell_type": "code",
   "execution_count": 4,
   "id": "genuine-round",
   "metadata": {},
   "outputs": [
    {
     "name": "stdout",
     "output_type": "stream",
     "text": [
      "92\n"
     ]
    }
   ],
   "source": [
    "list_tif = glob.glob(r\"C:\\Users\\pjordon2\\Box\\UIUC\\6 year\\ACE_592_big_data\\Project\\Pollution_Sp21\\Data\\chirps\\*.tif\")\n",
    "index_ = list_tif[0].index(\"20\")\n",
    "print(index_)\n"
   ]
  },
  {
   "cell_type": "code",
   "execution_count": 6,
   "id": "destroyed-humidity",
   "metadata": {},
   "outputs": [
    {
     "data": {
      "text/plain": [
       "['C:\\\\Users\\\\pjordon2\\\\Box\\\\UIUC\\\\6 year\\\\ACE_592_big_data\\\\Project\\\\Pollution_Sp21\\\\Data\\\\chirps\\\\CHIRP.2009.01.tif',\n",
       " 'C:\\\\Users\\\\pjordon2\\\\Box\\\\UIUC\\\\6 year\\\\ACE_592_big_data\\\\Project\\\\Pollution_Sp21\\\\Data\\\\chirps\\\\CHIRP.2009.02.tif',\n",
       " 'C:\\\\Users\\\\pjordon2\\\\Box\\\\UIUC\\\\6 year\\\\ACE_592_big_data\\\\Project\\\\Pollution_Sp21\\\\Data\\\\chirps\\\\CHIRP.2009.03.tif',\n",
       " 'C:\\\\Users\\\\pjordon2\\\\Box\\\\UIUC\\\\6 year\\\\ACE_592_big_data\\\\Project\\\\Pollution_Sp21\\\\Data\\\\chirps\\\\CHIRP.2009.04.tif',\n",
       " 'C:\\\\Users\\\\pjordon2\\\\Box\\\\UIUC\\\\6 year\\\\ACE_592_big_data\\\\Project\\\\Pollution_Sp21\\\\Data\\\\chirps\\\\CHIRP.2009.05.tif',\n",
       " 'C:\\\\Users\\\\pjordon2\\\\Box\\\\UIUC\\\\6 year\\\\ACE_592_big_data\\\\Project\\\\Pollution_Sp21\\\\Data\\\\chirps\\\\CHIRP.2009.06.tif',\n",
       " 'C:\\\\Users\\\\pjordon2\\\\Box\\\\UIUC\\\\6 year\\\\ACE_592_big_data\\\\Project\\\\Pollution_Sp21\\\\Data\\\\chirps\\\\CHIRP.2009.07.tif',\n",
       " 'C:\\\\Users\\\\pjordon2\\\\Box\\\\UIUC\\\\6 year\\\\ACE_592_big_data\\\\Project\\\\Pollution_Sp21\\\\Data\\\\chirps\\\\CHIRP.2009.08.tif',\n",
       " 'C:\\\\Users\\\\pjordon2\\\\Box\\\\UIUC\\\\6 year\\\\ACE_592_big_data\\\\Project\\\\Pollution_Sp21\\\\Data\\\\chirps\\\\CHIRP.2009.09.tif',\n",
       " 'C:\\\\Users\\\\pjordon2\\\\Box\\\\UIUC\\\\6 year\\\\ACE_592_big_data\\\\Project\\\\Pollution_Sp21\\\\Data\\\\chirps\\\\CHIRP.2009.10.tif',\n",
       " 'C:\\\\Users\\\\pjordon2\\\\Box\\\\UIUC\\\\6 year\\\\ACE_592_big_data\\\\Project\\\\Pollution_Sp21\\\\Data\\\\chirps\\\\CHIRP.2009.11.tif',\n",
       " 'C:\\\\Users\\\\pjordon2\\\\Box\\\\UIUC\\\\6 year\\\\ACE_592_big_data\\\\Project\\\\Pollution_Sp21\\\\Data\\\\chirps\\\\CHIRP.2009.12.tif',\n",
       " 'C:\\\\Users\\\\pjordon2\\\\Box\\\\UIUC\\\\6 year\\\\ACE_592_big_data\\\\Project\\\\Pollution_Sp21\\\\Data\\\\chirps\\\\CHIRP.2014.01.tif',\n",
       " 'C:\\\\Users\\\\pjordon2\\\\Box\\\\UIUC\\\\6 year\\\\ACE_592_big_data\\\\Project\\\\Pollution_Sp21\\\\Data\\\\chirps\\\\CHIRP.2014.02.tif',\n",
       " 'C:\\\\Users\\\\pjordon2\\\\Box\\\\UIUC\\\\6 year\\\\ACE_592_big_data\\\\Project\\\\Pollution_Sp21\\\\Data\\\\chirps\\\\CHIRP.2014.03.tif',\n",
       " 'C:\\\\Users\\\\pjordon2\\\\Box\\\\UIUC\\\\6 year\\\\ACE_592_big_data\\\\Project\\\\Pollution_Sp21\\\\Data\\\\chirps\\\\CHIRP.2014.04.tif',\n",
       " 'C:\\\\Users\\\\pjordon2\\\\Box\\\\UIUC\\\\6 year\\\\ACE_592_big_data\\\\Project\\\\Pollution_Sp21\\\\Data\\\\chirps\\\\CHIRP.2014.05.tif',\n",
       " 'C:\\\\Users\\\\pjordon2\\\\Box\\\\UIUC\\\\6 year\\\\ACE_592_big_data\\\\Project\\\\Pollution_Sp21\\\\Data\\\\chirps\\\\CHIRP.2014.06.tif',\n",
       " 'C:\\\\Users\\\\pjordon2\\\\Box\\\\UIUC\\\\6 year\\\\ACE_592_big_data\\\\Project\\\\Pollution_Sp21\\\\Data\\\\chirps\\\\CHIRP.2014.07.tif',\n",
       " 'C:\\\\Users\\\\pjordon2\\\\Box\\\\UIUC\\\\6 year\\\\ACE_592_big_data\\\\Project\\\\Pollution_Sp21\\\\Data\\\\chirps\\\\CHIRP.2014.08.tif',\n",
       " 'C:\\\\Users\\\\pjordon2\\\\Box\\\\UIUC\\\\6 year\\\\ACE_592_big_data\\\\Project\\\\Pollution_Sp21\\\\Data\\\\chirps\\\\CHIRP.2014.09.tif',\n",
       " 'C:\\\\Users\\\\pjordon2\\\\Box\\\\UIUC\\\\6 year\\\\ACE_592_big_data\\\\Project\\\\Pollution_Sp21\\\\Data\\\\chirps\\\\CHIRP.2014.10.tif',\n",
       " 'C:\\\\Users\\\\pjordon2\\\\Box\\\\UIUC\\\\6 year\\\\ACE_592_big_data\\\\Project\\\\Pollution_Sp21\\\\Data\\\\chirps\\\\CHIRP.2014.11.tif',\n",
       " 'C:\\\\Users\\\\pjordon2\\\\Box\\\\UIUC\\\\6 year\\\\ACE_592_big_data\\\\Project\\\\Pollution_Sp21\\\\Data\\\\chirps\\\\CHIRP.2014.12.tif']"
      ]
     },
     "execution_count": 6,
     "metadata": {},
     "output_type": "execute_result"
    }
   ],
   "source": [
    "list_tif"
   ]
  }
 ],
 "metadata": {
  "kernelspec": {
   "display_name": "Python 3",
   "language": "python",
   "name": "python3"
  },
  "language_info": {
   "codemirror_mode": {
    "name": "ipython",
    "version": 3
   },
   "file_extension": ".py",
   "mimetype": "text/x-python",
   "name": "python",
   "nbconvert_exporter": "python",
   "pygments_lexer": "ipython3",
   "version": "3.8.5"
  }
 },
 "nbformat": 4,
 "nbformat_minor": 5
}
