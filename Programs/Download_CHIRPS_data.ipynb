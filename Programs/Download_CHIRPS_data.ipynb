{
 "cells": [
  {
   "cell_type": "code",
   "execution_count": 1,
   "id": "knowing-wagon",
   "metadata": {},
   "outputs": [],
   "source": [
    "import os\n",
    "from netrc import netrc\n",
    "from subprocess import Popen\n",
    "from getpass import getpass\n",
    "import os\n",
    "import urllib\n",
    "import urllib3\n",
    "import requests\n",
    "from bs4 import BeautifulSoup\n",
    "urllib3.disable_warnings()"
   ]
  },
  {
   "cell_type": "code",
   "execution_count": 2,
   "id": "extreme-functionality",
   "metadata": {},
   "outputs": [],
   "source": [
    "def extracturl(url):\n",
    "    # Retreive links in the URL path\n",
    "    urlpath = urllib.request.urlopen(url)\n",
    "    html_doc = urlpath.read().decode('utf-8')\n",
    "    \n",
    "    # BeautifulSoup object\n",
    "    soup = BeautifulSoup(html_doc, 'html.parser')\n",
    "    \n",
    "    # Make a list of hyerlinks\n",
    "    links = []\n",
    "    for link in soup.find_all('a'):\n",
    "        links.append(link.get('href'))\n",
    "    \n",
    "    # Remove the parent link        \n",
    "    links.pop(0)     \n",
    "    return links"
   ]
  },
  {
   "cell_type": "code",
   "execution_count": 3,
   "id": "regulation-strengthening",
   "metadata": {},
   "outputs": [
    {
     "data": {
      "text/plain": [
       "'C:\\\\Users\\\\pjordon2\\\\Box\\\\UIUC\\\\6 year\\\\ACE_592_big_data\\\\Project\\\\Pollution_Sp21\\\\Programs'"
      ]
     },
     "execution_count": 3,
     "metadata": {},
     "output_type": "execute_result"
    }
   ],
   "source": [
    "os.getcwd()"
   ]
  },
  {
   "cell_type": "code",
   "execution_count": 5,
   "id": "public-thirty",
   "metadata": {},
   "outputs": [
    {
     "data": {
      "text/plain": [
       "'C:\\\\Users\\\\pjordon2\\\\Box\\\\UIUC\\\\6 year\\\\ACE_592_big_data\\\\Project\\\\Pollution_Sp21\\\\Data\\\\chirps'"
      ]
     },
     "execution_count": 5,
     "metadata": {},
     "output_type": "execute_result"
    }
   ],
   "source": [
    "#set saveDir\n",
    "saveDir = 'C:\\\\Users\\\\pjordon2\\\\Box\\\\UIUC\\\\6 year\\\\ACE_592_big_data\\\\Project\\\\Pollution_Sp21'+'\\\\Data\\\\chirps'\n",
    "saveDir"
   ]
  },
  {
   "cell_type": "code",
   "execution_count": 27,
   "id": "amino-avatar",
   "metadata": {},
   "outputs": [
    {
     "data": {
      "text/plain": [
       "['http://data.chc.ucsb.edu/products/CHIRP/monthly/CHIRP.2009.01.tif',\n",
       " 'http://data.chc.ucsb.edu/products/CHIRP/monthly/CHIRP.2009.02.tif',\n",
       " 'http://data.chc.ucsb.edu/products/CHIRP/monthly/CHIRP.2009.03.tif',\n",
       " 'http://data.chc.ucsb.edu/products/CHIRP/monthly/CHIRP.2009.04.tif',\n",
       " 'http://data.chc.ucsb.edu/products/CHIRP/monthly/CHIRP.2009.05.tif',\n",
       " 'http://data.chc.ucsb.edu/products/CHIRP/monthly/CHIRP.2009.06.tif',\n",
       " 'http://data.chc.ucsb.edu/products/CHIRP/monthly/CHIRP.2009.07.tif',\n",
       " 'http://data.chc.ucsb.edu/products/CHIRP/monthly/CHIRP.2009.08.tif',\n",
       " 'http://data.chc.ucsb.edu/products/CHIRP/monthly/CHIRP.2009.09.tif',\n",
       " 'http://data.chc.ucsb.edu/products/CHIRP/monthly/CHIRP.2009.10.tif',\n",
       " 'http://data.chc.ucsb.edu/products/CHIRP/monthly/CHIRP.2009.11.tif',\n",
       " 'http://data.chc.ucsb.edu/products/CHIRP/monthly/CHIRP.2009.12.tif',\n",
       " 'http://data.chc.ucsb.edu/products/CHIRP/monthly/CHIRP.2014.01.tif',\n",
       " 'http://data.chc.ucsb.edu/products/CHIRP/monthly/CHIRP.2014.02.tif',\n",
       " 'http://data.chc.ucsb.edu/products/CHIRP/monthly/CHIRP.2014.03.tif',\n",
       " 'http://data.chc.ucsb.edu/products/CHIRP/monthly/CHIRP.2014.04.tif',\n",
       " 'http://data.chc.ucsb.edu/products/CHIRP/monthly/CHIRP.2014.05.tif',\n",
       " 'http://data.chc.ucsb.edu/products/CHIRP/monthly/CHIRP.2014.06.tif',\n",
       " 'http://data.chc.ucsb.edu/products/CHIRP/monthly/CHIRP.2014.07.tif',\n",
       " 'http://data.chc.ucsb.edu/products/CHIRP/monthly/CHIRP.2014.08.tif',\n",
       " 'http://data.chc.ucsb.edu/products/CHIRP/monthly/CHIRP.2014.09.tif',\n",
       " 'http://data.chc.ucsb.edu/products/CHIRP/monthly/CHIRP.2014.10.tif',\n",
       " 'http://data.chc.ucsb.edu/products/CHIRP/monthly/CHIRP.2014.11.tif',\n",
       " 'http://data.chc.ucsb.edu/products/CHIRP/monthly/CHIRP.2014.12.tif']"
      ]
     },
     "execution_count": 27,
     "metadata": {},
     "output_type": "execute_result"
    }
   ],
   "source": [
    "# Selecting only the URLs for a given year\n",
    "# Note: I tried to create a list of all the years we need and then do a forloop, \n",
    "# but I couldn't figure it out, so this is just the code for 2009 and 2014. \n",
    "\n",
    "url = 'http://data.chc.ucsb.edu/products/CHIRP/monthly/'\n",
    "url_sub = extracturl(url)\n",
    "\n",
    "year1 = \"2009\"\n",
    "year2 = \"2014\"\n",
    "       \n",
    "url_1 = [t for t in url_sub if year1 in t]\n",
    "url_2 = [t for t in url_sub if year2 in t]\n",
    "\n",
    "url_sub = [url+t for t in url_1] + [url+t for t in url_2]\n",
    "\n",
    "url_sub"
   ]
  },
  {
   "cell_type": "code",
   "execution_count": 33,
   "id": "covered-departure",
   "metadata": {},
   "outputs": [],
   "source": [
    "# Downloading the data: \n",
    "    # This ckecks that the file that it's going to be downloaded is not already in the firectory\n",
    "    # where the files will be downloaded to. \n",
    "\n",
    "# For every line in the file\n",
    "for w in url_sub:\n",
    "    # Split on the rightmost / and take everything on the right side of that\n",
    "    name = w.rsplit('/', 1)[-1]\n",
    "\n",
    "    # Combine the name and the downloads directory to get the local filename\n",
    "    filename = os.path.join(saveDir, name)\n",
    "\n",
    "    # Download the file if it does not exist\n",
    "    if not os.path.isfile(filename):\n",
    "        urllib.request.urlretrieve(w, filename)"
   ]
  }
 ],
 "metadata": {
  "kernelspec": {
   "display_name": "Python 3",
   "language": "python",
   "name": "python3"
  },
  "language_info": {
   "codemirror_mode": {
    "name": "ipython",
    "version": 3
   },
   "file_extension": ".py",
   "mimetype": "text/x-python",
   "name": "python",
   "nbconvert_exporter": "python",
   "pygments_lexer": "ipython3",
   "version": "3.8.5"
  }
 },
 "nbformat": 4,
 "nbformat_minor": 5
}
