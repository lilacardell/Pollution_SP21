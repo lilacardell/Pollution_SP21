{
  "nbformat": 4,
  "nbformat_minor": 0,
  "metadata": {
    "colab": {
      "name": "Calabria_Day1_solution",
      "provenance": [],
      "collapsed_sections": [],
      "include_colab_link": true
    },
    "kernelspec": {
      "name": "python3",
      "display_name": "Python 3"
    }
  },
  "cells": [
    {
      "cell_type": "markdown",
      "metadata": {
        "id": "view-in-github",
        "colab_type": "text"
      },
      "source": [
        "<a href=\"https://colab.research.google.com/github/bsrthyle/ML-Course-Calabria-2020/blob/master/lab/Calabria_Day1_solution.ipynb\" target=\"_parent\"><img src=\"https://colab.research.google.com/assets/colab-badge.svg\" alt=\"Open In Colab\"/></a>"
      ]
    },
    {
      "cell_type": "markdown",
      "metadata": {
        "id": "71QCGinKTAAf",
        "colab_type": "text"
      },
      "source": [
        "# Day 1 Lab"
      ]
    },
    {
      "cell_type": "markdown",
      "metadata": {
        "id": "Lkq_ugJnc0qD",
        "colab_type": "text"
      },
      "source": [
        "### Instruction for notebook usage...\n",
        "\n",
        "@Thomas TODO\n",
        "- [workflow in lab]\n",
        "- place you answers directly in this notebook. Make a copy of the notebook in drive. \n",
        "- Submitt your final notebook to..."
      ]
    },
    {
      "cell_type": "markdown",
      "metadata": {
        "id": "UBjm-4D-Tg-L",
        "colab_type": "text"
      },
      "source": [
        "# Code used during lecture\n",
        "\n"
      ]
    },
    {
      "cell_type": "code",
      "metadata": {
        "id": "xn9LO_jCSar8",
        "colab_type": "code",
        "colab": {
          "base_uri": "https://localhost:8080/",
          "height": 72
        },
        "outputId": "c9a5fb2c-b7e0-43f8-943b-823d7c383e83"
      },
      "source": [
        "# Import libaries that will be used in the notebook\n",
        "import matplotlib.pyplot as plt\n",
        "import numpy as np\n",
        "import pandas as pd\n",
        "from sklearn.metrics import mean_squared_error, r2_score\n",
        "from sklearn.preprocessing import PolynomialFeatures\n",
        "from sklearn.model_selection import train_test_split\n",
        "from sklearn.linear_model import LinearRegression, Lasso\n",
        "from sklearn.preprocessing import MinMaxScaler\n",
        "import seaborn as sns"
      ],
      "execution_count": 1,
      "outputs": [
        {
          "output_type": "stream",
          "text": [
            "/usr/local/lib/python3.6/dist-packages/statsmodels/tools/_testing.py:19: FutureWarning: pandas.util.testing is deprecated. Use the functions in the public API at pandas.testing instead.\n",
            "  import pandas.util.testing as tm\n"
          ],
          "name": "stderr"
        }
      ]
    },
    {
      "cell_type": "code",
      "metadata": {
        "id": "G0aKGu2ArXhh",
        "colab_type": "code",
        "colab": {
          "base_uri": "https://localhost:8080/",
          "height": 210
        },
        "outputId": "c3de28f3-e15c-4df6-dfb0-07d22d3ca3e6"
      },
      "source": [
        "# Download data\n",
        "!wget http://www.ilr.uni-bonn.de/agpo/courses/ml/brazil_all_data_v2.csv"
      ],
      "execution_count": 2,
      "outputs": [
        {
          "output_type": "stream",
          "text": [
            "--2020-07-10 15:59:42--  http://www.ilr.uni-bonn.de/agpo/courses/ml/brazil_all_data_v2.csv\n",
            "Resolving www.ilr.uni-bonn.de (www.ilr.uni-bonn.de)... 131.220.69.2\n",
            "Connecting to www.ilr.uni-bonn.de (www.ilr.uni-bonn.de)|131.220.69.2|:80... connected.\n",
            "HTTP request sent, awaiting response... 200 OK\n",
            "Length: 789226067 (753M) [application/octet-stream]\n",
            "Saving to: ‘brazil_all_data_v2.csv’\n",
            "\n",
            "brazil_all_data_v2. 100%[===================>] 752.66M  5.97MB/s    in 2m 29s  \n",
            "\n",
            "2020-07-10 16:02:12 (5.04 MB/s) - ‘brazil_all_data_v2.csv’ saved [789226067/789226067]\n",
            "\n"
          ],
          "name": "stdout"
        }
      ]
    },
    {
      "cell_type": "code",
      "metadata": {
        "id": "mystC39Lldkv",
        "colab_type": "code",
        "colab": {}
      },
      "source": [
        "# Load data with pandas into a dataframe \n",
        "df = pd.read_csv('brazil_all_data_v2.csv')"
      ],
      "execution_count": 3,
      "outputs": []
    },
    {
      "cell_type": "code",
      "metadata": {
        "id": "snUuhtBAmtnW",
        "colab_type": "code",
        "colab": {
          "base_uri": "https://localhost:8080/",
          "height": 266
        },
        "outputId": "87eed17b-c9fd-4448-fdd5-1cca38e5150f"
      },
      "source": [
        "# Have a look at the data\n",
        "print('Number of rows:', df.shape[0])\n",
        "df.head(5)"
      ],
      "execution_count": 4,
      "outputs": [
        {
          "output_type": "stream",
          "text": [
            "Number of rows: 249940\n"
          ],
          "name": "stdout"
        },
        {
          "output_type": "execute_result",
          "data": {
            "text/html": [
              "<div>\n",
              "<style scoped>\n",
              "    .dataframe tbody tr th:only-of-type {\n",
              "        vertical-align: middle;\n",
              "    }\n",
              "\n",
              "    .dataframe tbody tr th {\n",
              "        vertical-align: top;\n",
              "    }\n",
              "\n",
              "    .dataframe thead th {\n",
              "        text-align: right;\n",
              "    }\n",
              "</style>\n",
              "<table border=\"1\" class=\"dataframe\">\n",
              "  <thead>\n",
              "    <tr style=\"text-align: right;\">\n",
              "      <th></th>\n",
              "      <th>id</th>\n",
              "      <th>row</th>\n",
              "      <th>col</th>\n",
              "      <th>lon</th>\n",
              "      <th>lat</th>\n",
              "      <th>bean</th>\n",
              "      <th>carrot</th>\n",
              "      <th>cassava</th>\n",
              "      <th>chickpea</th>\n",
              "      <th>citrus</th>\n",
              "      <th>coffee</th>\n",
              "      <th>groundnut</th>\n",
              "      <th>maize</th>\n",
              "      <th>soy</th>\n",
              "      <th>sugarcane</th>\n",
              "      <th>tomato</th>\n",
              "      <th>wheat</th>\n",
              "      <th>perc_treecover</th>\n",
              "      <th>perm_water</th>\n",
              "      <th>travel_min</th>\n",
              "      <th>defor_2001</th>\n",
              "      <th>defor_2002</th>\n",
              "      <th>defor_2003</th>\n",
              "      <th>defor_2004</th>\n",
              "      <th>defor_2005</th>\n",
              "      <th>defor_2006</th>\n",
              "      <th>defor_2007</th>\n",
              "      <th>defor_2008</th>\n",
              "      <th>defor_2009</th>\n",
              "      <th>defor_2010</th>\n",
              "      <th>defor_2011</th>\n",
              "      <th>defor_2012</th>\n",
              "      <th>defor_2013</th>\n",
              "      <th>defor_2014</th>\n",
              "      <th>defor_2015</th>\n",
              "      <th>defor_2016</th>\n",
              "      <th>defor_2017</th>\n",
              "      <th>defor_2018</th>\n",
              "      <th>wdpa_1990</th>\n",
              "      <th>wdpa_1991</th>\n",
              "      <th>...</th>\n",
              "      <th>tot_defor_2016_lag_1st_order</th>\n",
              "      <th>tot_defor_2017_lag_1st_order</th>\n",
              "      <th>tot_defor_2018_lag_1st_order</th>\n",
              "      <th>tot_defor_2001_lag_2nd_order</th>\n",
              "      <th>tot_defor_2002_lag_2nd_order</th>\n",
              "      <th>tot_defor_2003_lag_2nd_order</th>\n",
              "      <th>tot_defor_2004_lag_2nd_order</th>\n",
              "      <th>tot_defor_2005_lag_2nd_order</th>\n",
              "      <th>tot_defor_2006_lag_2nd_order</th>\n",
              "      <th>tot_defor_2007_lag_2nd_order</th>\n",
              "      <th>tot_defor_2008_lag_2nd_order</th>\n",
              "      <th>tot_defor_2009_lag_2nd_order</th>\n",
              "      <th>tot_defor_2010_lag_2nd_order</th>\n",
              "      <th>tot_defor_2011_lag_2nd_order</th>\n",
              "      <th>tot_defor_2012_lag_2nd_order</th>\n",
              "      <th>tot_defor_2013_lag_2nd_order</th>\n",
              "      <th>tot_defor_2014_lag_2nd_order</th>\n",
              "      <th>tot_defor_2015_lag_2nd_order</th>\n",
              "      <th>tot_defor_2016_lag_2nd_order</th>\n",
              "      <th>tot_defor_2017_lag_2nd_order</th>\n",
              "      <th>tot_defor_2018_lag_2nd_order</th>\n",
              "      <th>tot_defor_2001_lag_3rd_order</th>\n",
              "      <th>tot_defor_2002_lag_3rd_order</th>\n",
              "      <th>tot_defor_2003_lag_3rd_order</th>\n",
              "      <th>tot_defor_2004_lag_3rd_order</th>\n",
              "      <th>tot_defor_2005_lag_3rd_order</th>\n",
              "      <th>tot_defor_2006_lag_3rd_order</th>\n",
              "      <th>tot_defor_2007_lag_3rd_order</th>\n",
              "      <th>tot_defor_2008_lag_3rd_order</th>\n",
              "      <th>tot_defor_2009_lag_3rd_order</th>\n",
              "      <th>tot_defor_2010_lag_3rd_order</th>\n",
              "      <th>tot_defor_2011_lag_3rd_order</th>\n",
              "      <th>tot_defor_2012_lag_3rd_order</th>\n",
              "      <th>tot_defor_2013_lag_3rd_order</th>\n",
              "      <th>tot_defor_2014_lag_3rd_order</th>\n",
              "      <th>tot_defor_2015_lag_3rd_order</th>\n",
              "      <th>tot_defor_2016_lag_3rd_order</th>\n",
              "      <th>tot_defor_2017_lag_3rd_order</th>\n",
              "      <th>tot_defor_2018_lag_3rd_order</th>\n",
              "      <th>s</th>\n",
              "    </tr>\n",
              "  </thead>\n",
              "  <tbody>\n",
              "    <tr>\n",
              "      <th>0</th>\n",
              "      <td>0</td>\n",
              "      <td>0</td>\n",
              "      <td>0</td>\n",
              "      <td>-59.989876</td>\n",
              "      <td>-10.010125</td>\n",
              "      <td>200.00000</td>\n",
              "      <td>335.00000</td>\n",
              "      <td>201.0</td>\n",
              "      <td>0.0</td>\n",
              "      <td>391.0</td>\n",
              "      <td>237.00000</td>\n",
              "      <td>115.0</td>\n",
              "      <td>461.00000</td>\n",
              "      <td>209.00000</td>\n",
              "      <td>1295.0000</td>\n",
              "      <td>357.00000</td>\n",
              "      <td>0.0</td>\n",
              "      <td>99.761093</td>\n",
              "      <td>1.0</td>\n",
              "      <td>2612.6440</td>\n",
              "      <td>0.0</td>\n",
              "      <td>0.0</td>\n",
              "      <td>0.000000</td>\n",
              "      <td>0.009531</td>\n",
              "      <td>0.000000</td>\n",
              "      <td>0.000000</td>\n",
              "      <td>0.000000</td>\n",
              "      <td>0.002500</td>\n",
              "      <td>0.000000</td>\n",
              "      <td>0.000312</td>\n",
              "      <td>0.000000</td>\n",
              "      <td>0.000625</td>\n",
              "      <td>0.000312</td>\n",
              "      <td>0.000000</td>\n",
              "      <td>0.000000</td>\n",
              "      <td>0.000000</td>\n",
              "      <td>0.009531</td>\n",
              "      <td>0.000000</td>\n",
              "      <td>0.0</td>\n",
              "      <td>0.0</td>\n",
              "      <td>...</td>\n",
              "      <td>9.866667</td>\n",
              "      <td>6.600000</td>\n",
              "      <td>0.800000</td>\n",
              "      <td>0.000000</td>\n",
              "      <td>0.000000</td>\n",
              "      <td>10.625000</td>\n",
              "      <td>26.499998</td>\n",
              "      <td>17.500000</td>\n",
              "      <td>2.625000</td>\n",
              "      <td>2.125000</td>\n",
              "      <td>37.375000</td>\n",
              "      <td>1.125000</td>\n",
              "      <td>2.500000</td>\n",
              "      <td>2.500000</td>\n",
              "      <td>11.625000</td>\n",
              "      <td>0.625000</td>\n",
              "      <td>4.125000</td>\n",
              "      <td>4.875000</td>\n",
              "      <td>4.250000</td>\n",
              "      <td>9.875000</td>\n",
              "      <td>1.125000</td>\n",
              "      <td>0.000000</td>\n",
              "      <td>0.000000</td>\n",
              "      <td>5.800000</td>\n",
              "      <td>14.333333</td>\n",
              "      <td>9.800000</td>\n",
              "      <td>1.533333</td>\n",
              "      <td>1.333333</td>\n",
              "      <td>20.000000</td>\n",
              "      <td>0.800000</td>\n",
              "      <td>1.800000</td>\n",
              "      <td>1.333333</td>\n",
              "      <td>6.866667</td>\n",
              "      <td>0.733333</td>\n",
              "      <td>2.200000</td>\n",
              "      <td>4.466667</td>\n",
              "      <td>9.866667</td>\n",
              "      <td>6.600000</td>\n",
              "      <td>0.800000</td>\n",
              "      <td>1</td>\n",
              "    </tr>\n",
              "    <tr>\n",
              "      <th>1</th>\n",
              "      <td>1</td>\n",
              "      <td>0</td>\n",
              "      <td>1</td>\n",
              "      <td>-59.969875</td>\n",
              "      <td>-10.010125</td>\n",
              "      <td>200.00000</td>\n",
              "      <td>335.00000</td>\n",
              "      <td>201.0</td>\n",
              "      <td>0.0</td>\n",
              "      <td>391.0</td>\n",
              "      <td>237.00000</td>\n",
              "      <td>115.0</td>\n",
              "      <td>461.00000</td>\n",
              "      <td>209.00000</td>\n",
              "      <td>1295.0000</td>\n",
              "      <td>357.00000</td>\n",
              "      <td>0.0</td>\n",
              "      <td>99.777657</td>\n",
              "      <td>1.0</td>\n",
              "      <td>2680.3191</td>\n",
              "      <td>0.0</td>\n",
              "      <td>0.0</td>\n",
              "      <td>0.013125</td>\n",
              "      <td>0.008437</td>\n",
              "      <td>0.011875</td>\n",
              "      <td>0.003125</td>\n",
              "      <td>0.000781</td>\n",
              "      <td>0.046719</td>\n",
              "      <td>0.001094</td>\n",
              "      <td>0.002812</td>\n",
              "      <td>0.000000</td>\n",
              "      <td>0.002188</td>\n",
              "      <td>0.000625</td>\n",
              "      <td>0.002344</td>\n",
              "      <td>0.006094</td>\n",
              "      <td>0.000937</td>\n",
              "      <td>0.006562</td>\n",
              "      <td>0.001406</td>\n",
              "      <td>0.0</td>\n",
              "      <td>0.0</td>\n",
              "      <td>...</td>\n",
              "      <td>9.473684</td>\n",
              "      <td>6.210527</td>\n",
              "      <td>2.000000</td>\n",
              "      <td>0.000000</td>\n",
              "      <td>0.000000</td>\n",
              "      <td>0.272727</td>\n",
              "      <td>19.999998</td>\n",
              "      <td>5.818181</td>\n",
              "      <td>0.272727</td>\n",
              "      <td>1.363636</td>\n",
              "      <td>1.545454</td>\n",
              "      <td>0.363636</td>\n",
              "      <td>0.363636</td>\n",
              "      <td>1.818182</td>\n",
              "      <td>7.909091</td>\n",
              "      <td>0.818182</td>\n",
              "      <td>1.636364</td>\n",
              "      <td>1.272727</td>\n",
              "      <td>12.909090</td>\n",
              "      <td>10.181818</td>\n",
              "      <td>0.000000</td>\n",
              "      <td>0.000000</td>\n",
              "      <td>0.000000</td>\n",
              "      <td>0.157895</td>\n",
              "      <td>12.052631</td>\n",
              "      <td>3.842105</td>\n",
              "      <td>0.157895</td>\n",
              "      <td>0.894737</td>\n",
              "      <td>0.894737</td>\n",
              "      <td>1.000000</td>\n",
              "      <td>1.052631</td>\n",
              "      <td>2.000000</td>\n",
              "      <td>5.105263</td>\n",
              "      <td>0.526316</td>\n",
              "      <td>0.947368</td>\n",
              "      <td>1.473684</td>\n",
              "      <td>9.473684</td>\n",
              "      <td>6.210527</td>\n",
              "      <td>2.000000</td>\n",
              "      <td>1</td>\n",
              "    </tr>\n",
              "    <tr>\n",
              "      <th>2</th>\n",
              "      <td>2</td>\n",
              "      <td>0</td>\n",
              "      <td>2</td>\n",
              "      <td>-59.949875</td>\n",
              "      <td>-10.010125</td>\n",
              "      <td>200.00000</td>\n",
              "      <td>335.00000</td>\n",
              "      <td>201.0</td>\n",
              "      <td>0.0</td>\n",
              "      <td>391.0</td>\n",
              "      <td>237.00000</td>\n",
              "      <td>115.0</td>\n",
              "      <td>461.00000</td>\n",
              "      <td>209.00000</td>\n",
              "      <td>1295.0000</td>\n",
              "      <td>357.00000</td>\n",
              "      <td>0.0</td>\n",
              "      <td>99.766403</td>\n",
              "      <td>1.0</td>\n",
              "      <td>2796.3284</td>\n",
              "      <td>0.0</td>\n",
              "      <td>0.0</td>\n",
              "      <td>0.000000</td>\n",
              "      <td>0.024531</td>\n",
              "      <td>0.009375</td>\n",
              "      <td>0.000000</td>\n",
              "      <td>0.000156</td>\n",
              "      <td>0.000000</td>\n",
              "      <td>0.000000</td>\n",
              "      <td>0.000000</td>\n",
              "      <td>0.000312</td>\n",
              "      <td>0.000156</td>\n",
              "      <td>0.000000</td>\n",
              "      <td>0.000000</td>\n",
              "      <td>0.000000</td>\n",
              "      <td>0.001719</td>\n",
              "      <td>0.005313</td>\n",
              "      <td>0.000000</td>\n",
              "      <td>0.0</td>\n",
              "      <td>0.0</td>\n",
              "      <td>...</td>\n",
              "      <td>8.695652</td>\n",
              "      <td>11.217392</td>\n",
              "      <td>5.173913</td>\n",
              "      <td>0.000000</td>\n",
              "      <td>0.000000</td>\n",
              "      <td>6.214286</td>\n",
              "      <td>8.785713</td>\n",
              "      <td>5.857143</td>\n",
              "      <td>1.642857</td>\n",
              "      <td>1.500000</td>\n",
              "      <td>22.571428</td>\n",
              "      <td>1.785714</td>\n",
              "      <td>2.214286</td>\n",
              "      <td>2.571429</td>\n",
              "      <td>7.142858</td>\n",
              "      <td>1.000000</td>\n",
              "      <td>2.357143</td>\n",
              "      <td>3.785714</td>\n",
              "      <td>12.500000</td>\n",
              "      <td>8.571429</td>\n",
              "      <td>3.142857</td>\n",
              "      <td>0.086957</td>\n",
              "      <td>1.826087</td>\n",
              "      <td>6.869565</td>\n",
              "      <td>7.086957</td>\n",
              "      <td>8.260869</td>\n",
              "      <td>1.782609</td>\n",
              "      <td>4.347826</td>\n",
              "      <td>18.043478</td>\n",
              "      <td>1.956522</td>\n",
              "      <td>3.652174</td>\n",
              "      <td>1.652174</td>\n",
              "      <td>5.913043</td>\n",
              "      <td>4.086957</td>\n",
              "      <td>4.521739</td>\n",
              "      <td>4.956522</td>\n",
              "      <td>8.695652</td>\n",
              "      <td>11.217392</td>\n",
              "      <td>5.173913</td>\n",
              "      <td>1</td>\n",
              "    </tr>\n",
              "    <tr>\n",
              "      <th>3</th>\n",
              "      <td>3</td>\n",
              "      <td>0</td>\n",
              "      <td>3</td>\n",
              "      <td>-59.929874</td>\n",
              "      <td>-10.010125</td>\n",
              "      <td>200.00000</td>\n",
              "      <td>335.00000</td>\n",
              "      <td>201.0</td>\n",
              "      <td>0.0</td>\n",
              "      <td>391.0</td>\n",
              "      <td>237.00000</td>\n",
              "      <td>115.0</td>\n",
              "      <td>461.00000</td>\n",
              "      <td>209.00000</td>\n",
              "      <td>1295.0000</td>\n",
              "      <td>357.00000</td>\n",
              "      <td>0.0</td>\n",
              "      <td>99.814842</td>\n",
              "      <td>1.0</td>\n",
              "      <td>2920.0164</td>\n",
              "      <td>0.0</td>\n",
              "      <td>0.0</td>\n",
              "      <td>0.000000</td>\n",
              "      <td>0.000000</td>\n",
              "      <td>0.000000</td>\n",
              "      <td>0.000000</td>\n",
              "      <td>0.000000</td>\n",
              "      <td>0.000156</td>\n",
              "      <td>0.000000</td>\n",
              "      <td>0.000000</td>\n",
              "      <td>0.000000</td>\n",
              "      <td>0.000469</td>\n",
              "      <td>0.000000</td>\n",
              "      <td>0.000000</td>\n",
              "      <td>0.002188</td>\n",
              "      <td>0.017812</td>\n",
              "      <td>0.000469</td>\n",
              "      <td>0.000000</td>\n",
              "      <td>0.0</td>\n",
              "      <td>0.0</td>\n",
              "      <td>...</td>\n",
              "      <td>5.888889</td>\n",
              "      <td>19.629629</td>\n",
              "      <td>6.518518</td>\n",
              "      <td>0.142857</td>\n",
              "      <td>2.928571</td>\n",
              "      <td>11.285714</td>\n",
              "      <td>18.214285</td>\n",
              "      <td>17.214285</td>\n",
              "      <td>2.928571</td>\n",
              "      <td>6.142857</td>\n",
              "      <td>28.428572</td>\n",
              "      <td>3.142857</td>\n",
              "      <td>5.357143</td>\n",
              "      <td>2.785714</td>\n",
              "      <td>8.428572</td>\n",
              "      <td>5.857142</td>\n",
              "      <td>7.214285</td>\n",
              "      <td>6.142857</td>\n",
              "      <td>6.785714</td>\n",
              "      <td>15.785715</td>\n",
              "      <td>8.214286</td>\n",
              "      <td>1.222222</td>\n",
              "      <td>2.777778</td>\n",
              "      <td>5.925926</td>\n",
              "      <td>12.185184</td>\n",
              "      <td>10.740741</td>\n",
              "      <td>2.074074</td>\n",
              "      <td>4.370370</td>\n",
              "      <td>15.555556</td>\n",
              "      <td>1.666667</td>\n",
              "      <td>3.814815</td>\n",
              "      <td>2.666667</td>\n",
              "      <td>5.407407</td>\n",
              "      <td>4.000000</td>\n",
              "      <td>3.925926</td>\n",
              "      <td>3.703704</td>\n",
              "      <td>5.888889</td>\n",
              "      <td>19.629629</td>\n",
              "      <td>6.518518</td>\n",
              "      <td>1</td>\n",
              "    </tr>\n",
              "    <tr>\n",
              "      <th>4</th>\n",
              "      <td>4</td>\n",
              "      <td>0</td>\n",
              "      <td>4</td>\n",
              "      <td>-59.909874</td>\n",
              "      <td>-10.010125</td>\n",
              "      <td>218.33334</td>\n",
              "      <td>435.83334</td>\n",
              "      <td>216.0</td>\n",
              "      <td>0.0</td>\n",
              "      <td>523.5</td>\n",
              "      <td>317.83331</td>\n",
              "      <td>117.5</td>\n",
              "      <td>522.66663</td>\n",
              "      <td>233.16666</td>\n",
              "      <td>1300.8334</td>\n",
              "      <td>482.83331</td>\n",
              "      <td>0.0</td>\n",
              "      <td>99.655937</td>\n",
              "      <td>1.0</td>\n",
              "      <td>2977.4216</td>\n",
              "      <td>0.0</td>\n",
              "      <td>0.0</td>\n",
              "      <td>0.000000</td>\n",
              "      <td>0.000469</td>\n",
              "      <td>0.000312</td>\n",
              "      <td>0.000000</td>\n",
              "      <td>0.000156</td>\n",
              "      <td>0.000000</td>\n",
              "      <td>0.000000</td>\n",
              "      <td>0.000000</td>\n",
              "      <td>0.000000</td>\n",
              "      <td>0.000000</td>\n",
              "      <td>0.000156</td>\n",
              "      <td>0.000000</td>\n",
              "      <td>0.000000</td>\n",
              "      <td>0.005625</td>\n",
              "      <td>0.000000</td>\n",
              "      <td>0.005469</td>\n",
              "      <td>0.0</td>\n",
              "      <td>0.0</td>\n",
              "      <td>...</td>\n",
              "      <td>8.888889</td>\n",
              "      <td>18.888889</td>\n",
              "      <td>5.222222</td>\n",
              "      <td>2.357143</td>\n",
              "      <td>5.285714</td>\n",
              "      <td>5.285714</td>\n",
              "      <td>14.785714</td>\n",
              "      <td>14.357142</td>\n",
              "      <td>2.571429</td>\n",
              "      <td>6.500000</td>\n",
              "      <td>7.571428</td>\n",
              "      <td>2.642857</td>\n",
              "      <td>5.285714</td>\n",
              "      <td>3.857143</td>\n",
              "      <td>3.642857</td>\n",
              "      <td>6.142857</td>\n",
              "      <td>5.000000</td>\n",
              "      <td>4.357143</td>\n",
              "      <td>15.285714</td>\n",
              "      <td>29.714287</td>\n",
              "      <td>9.142857</td>\n",
              "      <td>10.185184</td>\n",
              "      <td>3.111111</td>\n",
              "      <td>5.925926</td>\n",
              "      <td>9.777778</td>\n",
              "      <td>10.740741</td>\n",
              "      <td>2.148148</td>\n",
              "      <td>4.111111</td>\n",
              "      <td>15.000001</td>\n",
              "      <td>1.851852</td>\n",
              "      <td>8.296296</td>\n",
              "      <td>2.629630</td>\n",
              "      <td>5.222222</td>\n",
              "      <td>7.592592</td>\n",
              "      <td>5.370370</td>\n",
              "      <td>4.481482</td>\n",
              "      <td>8.888889</td>\n",
              "      <td>18.888889</td>\n",
              "      <td>5.222222</td>\n",
              "      <td>1</td>\n",
              "    </tr>\n",
              "  </tbody>\n",
              "</table>\n",
              "<p>5 rows × 426 columns</p>\n",
              "</div>"
            ],
            "text/plain": [
              "   id  row  col  ...  tot_defor_2017_lag_3rd_order  tot_defor_2018_lag_3rd_order  s\n",
              "0   0    0    0  ...                      6.600000                      0.800000  1\n",
              "1   1    0    1  ...                      6.210527                      2.000000  1\n",
              "2   2    0    2  ...                     11.217392                      5.173913  1\n",
              "3   3    0    3  ...                     19.629629                      6.518518  1\n",
              "4   4    0    4  ...                     18.888889                      5.222222  1\n",
              "\n",
              "[5 rows x 426 columns]"
            ]
          },
          "metadata": {
            "tags": []
          },
          "execution_count": 4
        }
      ]
    },
    {
      "cell_type": "code",
      "metadata": {
        "id": "z2ZGZoInoHAV",
        "colab_type": "code",
        "colab": {}
      },
      "source": [
        "# Define target (dependent) variable (% forest cover for 2018)\n",
        "strY = 'perc_treecover'\n",
        "\n",
        "\n",
        "# Define a list of features names (explantory variables)\n",
        "lstX = [\n",
        "  'wdpa_2017',\n",
        "  'population_2015',\n",
        "  'chirps_2017',\n",
        "  'maize',\n",
        "  'soy',\n",
        "  'sugarcane',\n",
        "  'perm_water',\n",
        "  'travel_min',\n",
        "  'cropland',\n",
        "  'mean_elev',\n",
        "  'sd_elev',\n",
        "  'near_road',\n",
        " ]\n",
        "\n"
      ],
      "execution_count": 5,
      "outputs": []
    },
    {
      "cell_type": "markdown",
      "metadata": {
        "id": "hRd3KIDXp152",
        "colab_type": "text"
      },
      "source": [
        "Run OLS on forest cover"
      ]
    },
    {
      "cell_type": "code",
      "metadata": {
        "id": "bkQjti6z028V",
        "colab_type": "code",
        "colab": {}
      },
      "source": [
        "# Get target variable and features\n",
        "Y_all = df[strY]\n",
        "X_all = df.loc[:,lstX]\n"
      ],
      "execution_count": 6,
      "outputs": []
    },
    {
      "cell_type": "code",
      "metadata": {
        "id": "dSjHfg6PmxDA",
        "colab_type": "code",
        "colab": {
          "base_uri": "https://localhost:8080/",
          "height": 34
        },
        "outputId": "b664493b-ef62-4669-dfdb-e43d9f73eed6"
      },
      "source": [
        "# Run OLS using sklearn\n",
        "# We run an regression using sklearn which is one of the most popular \n",
        "# libaries for machine learning \n",
        " \n",
        "# Define model (automatically add a constant and normalize the data) \n",
        "regOls = LinearRegression(fit_intercept=True, normalize=True)\n",
        "# Fit model\n",
        "regOls.fit(X_all, Y_all)\n"
      ],
      "execution_count": 7,
      "outputs": [
        {
          "output_type": "execute_result",
          "data": {
            "text/plain": [
              "LinearRegression(copy_X=True, fit_intercept=True, n_jobs=None, normalize=True)"
            ]
          },
          "metadata": {
            "tags": []
          },
          "execution_count": 7
        }
      ]
    },
    {
      "cell_type": "code",
      "metadata": {
        "id": "toJ0q4YvoEs9",
        "colab_type": "code",
        "colab": {
          "base_uri": "https://localhost:8080/",
          "height": 442
        },
        "outputId": "312d56cf-e158-4d42-8579-b3ee64588547"
      },
      "source": [
        "from scipy.stats import norm\n",
        "# View regression results\n",
        "# Note: Sklearn is not econometric package and does not provide our classical \n",
        "# regression table output. This is not what the machine learning community\n",
        "# looks at. However, we can calculate these things manually.\n",
        "\n",
        "# Get coef\n",
        "coefs = np.hstack((regOls.intercept_,regOls.coef_))\n",
        "\n",
        "N = Y_all.shape[0]\n",
        "K = coefs.shape[0]\n",
        "\n",
        "# Get predicted values y hat\n",
        "Y_hat = regOls.predict(X_all)\n",
        "# Get errors\n",
        "err = Y_all-Y_hat\n",
        "# Get standard error of regression\n",
        "sig2 = (err.transpose() @ err) / (N-K)\n",
        "sig2\n",
        "\n",
        "# Add constant to X_all (sklearn did this automatically)\n",
        "Xc_all = np.insert(np.array(X_all), 0, 1, axis = 1)\n",
        "\n",
        "# Covariance matrix for coef\n",
        "VarBeta = sig2 * np.linalg.inv(Xc_all.T @ Xc_all)\n",
        "# Standard error of coef\n",
        "se = np.sqrt(np.diag(VarBeta))\n",
        "# t-values\n",
        "t =  coefs/se\n",
        "# p-values  \n",
        "p = (1 - norm.cdf(abs(t))) * 2\n",
        "# Prepare df as output\n",
        "resOls = pd.DataFrame(coefs,index=['const']+lstX,columns=['beta'])\n",
        "resOls['SE'] = se\n",
        "resOls['t'] = t\n",
        "resOls['p-value'] = p\n",
        "resOls"
      ],
      "execution_count": 8,
      "outputs": [
        {
          "output_type": "execute_result",
          "data": {
            "text/html": [
              "<div>\n",
              "<style scoped>\n",
              "    .dataframe tbody tr th:only-of-type {\n",
              "        vertical-align: middle;\n",
              "    }\n",
              "\n",
              "    .dataframe tbody tr th {\n",
              "        vertical-align: top;\n",
              "    }\n",
              "\n",
              "    .dataframe thead th {\n",
              "        text-align: right;\n",
              "    }\n",
              "</style>\n",
              "<table border=\"1\" class=\"dataframe\">\n",
              "  <thead>\n",
              "    <tr style=\"text-align: right;\">\n",
              "      <th></th>\n",
              "      <th>beta</th>\n",
              "      <th>SE</th>\n",
              "      <th>t</th>\n",
              "      <th>p-value</th>\n",
              "    </tr>\n",
              "  </thead>\n",
              "  <tbody>\n",
              "    <tr>\n",
              "      <th>const</th>\n",
              "      <td>-5.831235</td>\n",
              "      <td>1.324112</td>\n",
              "      <td>-4.403882</td>\n",
              "      <td>0.000011</td>\n",
              "    </tr>\n",
              "    <tr>\n",
              "      <th>wdpa_2017</th>\n",
              "      <td>11.427969</td>\n",
              "      <td>0.156940</td>\n",
              "      <td>72.817276</td>\n",
              "      <td>0.000000</td>\n",
              "    </tr>\n",
              "    <tr>\n",
              "      <th>population_2015</th>\n",
              "      <td>-0.008522</td>\n",
              "      <td>0.000677</td>\n",
              "      <td>-12.595832</td>\n",
              "      <td>0.000000</td>\n",
              "    </tr>\n",
              "    <tr>\n",
              "      <th>chirps_2017</th>\n",
              "      <td>0.036649</td>\n",
              "      <td>0.000314</td>\n",
              "      <td>116.867636</td>\n",
              "      <td>0.000000</td>\n",
              "    </tr>\n",
              "    <tr>\n",
              "      <th>maize</th>\n",
              "      <td>0.019095</td>\n",
              "      <td>0.000159</td>\n",
              "      <td>120.445045</td>\n",
              "      <td>0.000000</td>\n",
              "    </tr>\n",
              "    <tr>\n",
              "      <th>soy</th>\n",
              "      <td>-0.030865</td>\n",
              "      <td>0.000407</td>\n",
              "      <td>-75.758273</td>\n",
              "      <td>0.000000</td>\n",
              "    </tr>\n",
              "    <tr>\n",
              "      <th>sugarcane</th>\n",
              "      <td>-0.003199</td>\n",
              "      <td>0.000141</td>\n",
              "      <td>-22.739455</td>\n",
              "      <td>0.000000</td>\n",
              "    </tr>\n",
              "    <tr>\n",
              "      <th>perm_water</th>\n",
              "      <td>-21.908606</td>\n",
              "      <td>1.184469</td>\n",
              "      <td>-18.496556</td>\n",
              "      <td>0.000000</td>\n",
              "    </tr>\n",
              "    <tr>\n",
              "      <th>travel_min</th>\n",
              "      <td>0.019945</td>\n",
              "      <td>0.000139</td>\n",
              "      <td>143.456389</td>\n",
              "      <td>0.000000</td>\n",
              "    </tr>\n",
              "    <tr>\n",
              "      <th>cropland</th>\n",
              "      <td>-1.174515</td>\n",
              "      <td>0.540421</td>\n",
              "      <td>-2.173335</td>\n",
              "      <td>0.029755</td>\n",
              "    </tr>\n",
              "    <tr>\n",
              "      <th>mean_elev</th>\n",
              "      <td>-0.023366</td>\n",
              "      <td>0.000449</td>\n",
              "      <td>-51.999590</td>\n",
              "      <td>0.000000</td>\n",
              "    </tr>\n",
              "    <tr>\n",
              "      <th>sd_elev</th>\n",
              "      <td>0.417715</td>\n",
              "      <td>0.004348</td>\n",
              "      <td>96.080777</td>\n",
              "      <td>0.000000</td>\n",
              "    </tr>\n",
              "    <tr>\n",
              "      <th>near_road</th>\n",
              "      <td>0.069442</td>\n",
              "      <td>0.001149</td>\n",
              "      <td>60.442058</td>\n",
              "      <td>0.000000</td>\n",
              "    </tr>\n",
              "  </tbody>\n",
              "</table>\n",
              "</div>"
            ],
            "text/plain": [
              "                      beta        SE           t   p-value\n",
              "const            -5.831235  1.324112   -4.403882  0.000011\n",
              "wdpa_2017        11.427969  0.156940   72.817276  0.000000\n",
              "population_2015  -0.008522  0.000677  -12.595832  0.000000\n",
              "chirps_2017       0.036649  0.000314  116.867636  0.000000\n",
              "maize             0.019095  0.000159  120.445045  0.000000\n",
              "soy              -0.030865  0.000407  -75.758273  0.000000\n",
              "sugarcane        -0.003199  0.000141  -22.739455  0.000000\n",
              "perm_water      -21.908606  1.184469  -18.496556  0.000000\n",
              "travel_min        0.019945  0.000139  143.456389  0.000000\n",
              "cropland         -1.174515  0.540421   -2.173335  0.029755\n",
              "mean_elev        -0.023366  0.000449  -51.999590  0.000000\n",
              "sd_elev           0.417715  0.004348   96.080777  0.000000\n",
              "near_road         0.069442  0.001149   60.442058  0.000000"
            ]
          },
          "metadata": {
            "tags": []
          },
          "execution_count": 8
        }
      ]
    },
    {
      "cell_type": "code",
      "metadata": {
        "id": "MUQqGRpAYG1p",
        "colab_type": "code",
        "colab": {
          "base_uri": "https://localhost:8080/",
          "height": 681
        },
        "outputId": "a30256d6-3b9c-4915-8424-3dc7f5e541b8"
      },
      "source": [
        "# To confirm the results we can use the OLS function in the statsmodel libary.\n",
        "# This is more a statistical libary, not typically used for machine learning, \n",
        "# but providing our typicall regression output\n",
        "\n",
        "import statsmodels.api as sm\n",
        "\n",
        "olsStats = sm.OLS(Y_all, np.insert(np.array(X_all), 0, 1, axis = 1))\n",
        "# Set the names of the explanatory variables\n",
        "olsStats.data.xnames = ['const']+lstX\n",
        "olsStats_result = olsStats.fit()\n",
        "olsStats_result.summary()"
      ],
      "execution_count": 9,
      "outputs": [
        {
          "output_type": "execute_result",
          "data": {
            "text/html": [
              "<table class=\"simpletable\">\n",
              "<caption>OLS Regression Results</caption>\n",
              "<tr>\n",
              "  <th>Dep. Variable:</th>     <td>perc_treecover</td>  <th>  R-squared:         </th>  <td>   0.448</td>  \n",
              "</tr>\n",
              "<tr>\n",
              "  <th>Model:</th>                   <td>OLS</td>       <th>  Adj. R-squared:    </th>  <td>   0.448</td>  \n",
              "</tr>\n",
              "<tr>\n",
              "  <th>Method:</th>             <td>Least Squares</td>  <th>  F-statistic:       </th>  <td>1.688e+04</td> \n",
              "</tr>\n",
              "<tr>\n",
              "  <th>Date:</th>             <td>Fri, 10 Jul 2020</td> <th>  Prob (F-statistic):</th>   <td>  0.00</td>   \n",
              "</tr>\n",
              "<tr>\n",
              "  <th>Time:</th>                 <td>16:02:29</td>     <th>  Log-Likelihood:    </th> <td>-1.1677e+06</td>\n",
              "</tr>\n",
              "<tr>\n",
              "  <th>No. Observations:</th>      <td>249940</td>      <th>  AIC:               </th>  <td>2.335e+06</td> \n",
              "</tr>\n",
              "<tr>\n",
              "  <th>Df Residuals:</th>          <td>249927</td>      <th>  BIC:               </th>  <td>2.336e+06</td> \n",
              "</tr>\n",
              "<tr>\n",
              "  <th>Df Model:</th>              <td>    12</td>      <th>                     </th>      <td> </td>     \n",
              "</tr>\n",
              "<tr>\n",
              "  <th>Covariance Type:</th>      <td>nonrobust</td>    <th>                     </th>      <td> </td>     \n",
              "</tr>\n",
              "</table>\n",
              "<table class=\"simpletable\">\n",
              "<tr>\n",
              "         <td></td>            <th>coef</th>     <th>std err</th>      <th>t</th>      <th>P>|t|</th>  <th>[0.025</th>    <th>0.975]</th>  \n",
              "</tr>\n",
              "<tr>\n",
              "  <th>const</th>           <td>   -5.8312</td> <td>    1.324</td> <td>   -4.404</td> <td> 0.000</td> <td>   -8.426</td> <td>   -3.236</td>\n",
              "</tr>\n",
              "<tr>\n",
              "  <th>wdpa_2017</th>       <td>   11.4280</td> <td>    0.157</td> <td>   72.817</td> <td> 0.000</td> <td>   11.120</td> <td>   11.736</td>\n",
              "</tr>\n",
              "<tr>\n",
              "  <th>population_2015</th> <td>   -0.0085</td> <td>    0.001</td> <td>  -12.596</td> <td> 0.000</td> <td>   -0.010</td> <td>   -0.007</td>\n",
              "</tr>\n",
              "<tr>\n",
              "  <th>chirps_2017</th>     <td>    0.0366</td> <td>    0.000</td> <td>  116.868</td> <td> 0.000</td> <td>    0.036</td> <td>    0.037</td>\n",
              "</tr>\n",
              "<tr>\n",
              "  <th>maize</th>           <td>    0.0191</td> <td>    0.000</td> <td>  120.445</td> <td> 0.000</td> <td>    0.019</td> <td>    0.019</td>\n",
              "</tr>\n",
              "<tr>\n",
              "  <th>soy</th>             <td>   -0.0309</td> <td>    0.000</td> <td>  -75.758</td> <td> 0.000</td> <td>   -0.032</td> <td>   -0.030</td>\n",
              "</tr>\n",
              "<tr>\n",
              "  <th>sugarcane</th>       <td>   -0.0032</td> <td>    0.000</td> <td>  -22.739</td> <td> 0.000</td> <td>   -0.003</td> <td>   -0.003</td>\n",
              "</tr>\n",
              "<tr>\n",
              "  <th>perm_water</th>      <td>  -21.9086</td> <td>    1.184</td> <td>  -18.497</td> <td> 0.000</td> <td>  -24.230</td> <td>  -19.587</td>\n",
              "</tr>\n",
              "<tr>\n",
              "  <th>travel_min</th>      <td>    0.0199</td> <td>    0.000</td> <td>  143.456</td> <td> 0.000</td> <td>    0.020</td> <td>    0.020</td>\n",
              "</tr>\n",
              "<tr>\n",
              "  <th>cropland</th>        <td>   -1.1745</td> <td>    0.540</td> <td>   -2.173</td> <td> 0.030</td> <td>   -2.234</td> <td>   -0.115</td>\n",
              "</tr>\n",
              "<tr>\n",
              "  <th>mean_elev</th>       <td>   -0.0234</td> <td>    0.000</td> <td>  -52.000</td> <td> 0.000</td> <td>   -0.024</td> <td>   -0.022</td>\n",
              "</tr>\n",
              "<tr>\n",
              "  <th>sd_elev</th>         <td>    0.4177</td> <td>    0.004</td> <td>   96.081</td> <td> 0.000</td> <td>    0.409</td> <td>    0.426</td>\n",
              "</tr>\n",
              "<tr>\n",
              "  <th>near_road</th>       <td>    0.0694</td> <td>    0.001</td> <td>   60.442</td> <td> 0.000</td> <td>    0.067</td> <td>    0.072</td>\n",
              "</tr>\n",
              "</table>\n",
              "<table class=\"simpletable\">\n",
              "<tr>\n",
              "  <th>Omnibus:</th>       <td>2376.776</td> <th>  Durbin-Watson:     </th> <td>   0.468</td>\n",
              "</tr>\n",
              "<tr>\n",
              "  <th>Prob(Omnibus):</th>  <td> 0.000</td>  <th>  Jarque-Bera (JB):  </th> <td>1780.521</td>\n",
              "</tr>\n",
              "<tr>\n",
              "  <th>Skew:</th>           <td> 0.113</td>  <th>  Prob(JB):          </th> <td>    0.00</td>\n",
              "</tr>\n",
              "<tr>\n",
              "  <th>Kurtosis:</th>       <td> 2.654</td>  <th>  Cond. No.          </th> <td>1.27e+05</td>\n",
              "</tr>\n",
              "</table><br/><br/>Warnings:<br/>[1] Standard Errors assume that the covariance matrix of the errors is correctly specified.<br/>[2] The condition number is large, 1.27e+05. This might indicate that there are<br/>strong multicollinearity or other numerical problems."
            ],
            "text/plain": [
              "<class 'statsmodels.iolib.summary.Summary'>\n",
              "\"\"\"\n",
              "                            OLS Regression Results                            \n",
              "==============================================================================\n",
              "Dep. Variable:         perc_treecover   R-squared:                       0.448\n",
              "Model:                            OLS   Adj. R-squared:                  0.448\n",
              "Method:                 Least Squares   F-statistic:                 1.688e+04\n",
              "Date:                Fri, 10 Jul 2020   Prob (F-statistic):               0.00\n",
              "Time:                        16:02:29   Log-Likelihood:            -1.1677e+06\n",
              "No. Observations:              249940   AIC:                         2.335e+06\n",
              "Df Residuals:                  249927   BIC:                         2.336e+06\n",
              "Df Model:                          12                                         \n",
              "Covariance Type:            nonrobust                                         \n",
              "===================================================================================\n",
              "                      coef    std err          t      P>|t|      [0.025      0.975]\n",
              "-----------------------------------------------------------------------------------\n",
              "const              -5.8312      1.324     -4.404      0.000      -8.426      -3.236\n",
              "wdpa_2017          11.4280      0.157     72.817      0.000      11.120      11.736\n",
              "population_2015    -0.0085      0.001    -12.596      0.000      -0.010      -0.007\n",
              "chirps_2017         0.0366      0.000    116.868      0.000       0.036       0.037\n",
              "maize               0.0191      0.000    120.445      0.000       0.019       0.019\n",
              "soy                -0.0309      0.000    -75.758      0.000      -0.032      -0.030\n",
              "sugarcane          -0.0032      0.000    -22.739      0.000      -0.003      -0.003\n",
              "perm_water        -21.9086      1.184    -18.497      0.000     -24.230     -19.587\n",
              "travel_min          0.0199      0.000    143.456      0.000       0.020       0.020\n",
              "cropland           -1.1745      0.540     -2.173      0.030      -2.234      -0.115\n",
              "mean_elev          -0.0234      0.000    -52.000      0.000      -0.024      -0.022\n",
              "sd_elev             0.4177      0.004     96.081      0.000       0.409       0.426\n",
              "near_road           0.0694      0.001     60.442      0.000       0.067       0.072\n",
              "==============================================================================\n",
              "Omnibus:                     2376.776   Durbin-Watson:                   0.468\n",
              "Prob(Omnibus):                  0.000   Jarque-Bera (JB):             1780.521\n",
              "Skew:                           0.113   Prob(JB):                         0.00\n",
              "Kurtosis:                       2.654   Cond. No.                     1.27e+05\n",
              "==============================================================================\n",
              "\n",
              "Warnings:\n",
              "[1] Standard Errors assume that the covariance matrix of the errors is correctly specified.\n",
              "[2] The condition number is large, 1.27e+05. This might indicate that there are\n",
              "strong multicollinearity or other numerical problems.\n",
              "\"\"\""
            ]
          },
          "metadata": {
            "tags": []
          },
          "execution_count": 9
        }
      ]
    },
    {
      "cell_type": "code",
      "metadata": {
        "id": "sQjoOnOt3_7p",
        "colab_type": "code",
        "colab": {
          "base_uri": "https://localhost:8080/",
          "height": 508
        },
        "outputId": "31bab05c-ccee-4f0a-f890-ed617b565fd0"
      },
      "source": [
        "# Now we want to see how good our OLS regression performs in sample\n",
        "# i.e. on the training data itself\n",
        "\n",
        "# Make predictions for the same dataset X_all\n",
        "Y_hat = regOls.predict(X_all)\n",
        "\n",
        "# The mean squared error\n",
        "mse_ols_sklearn  = mean_squared_error(Y_all,Y_hat)\n",
        "print('\\nMean squared error: ',mse_ols_sklearn)\n",
        "# The coefficient of determination: 1 is perfect prediction\n",
        "R2_ols_sklearn = r2_score(Y_all,Y_hat)\n",
        "print('Coefficient of determination: ',R2_ols_sklearn)\n",
        "\n",
        "# plot Y vs Y-hat\n",
        "h = sns.jointplot(Y_hat, Y_all, kind=\"hex\")\n",
        "h.set_axis_labels('Y predicted', 'Y true');"
      ],
      "execution_count": 10,
      "outputs": [
        {
          "output_type": "stream",
          "text": [
            "\n",
            "Mean squared error:  669.0920641940289\n",
            "Coefficient of determination:  0.44772019128724727\n"
          ],
          "name": "stdout"
        },
        {
          "output_type": "display_data",
          "data": {
            "image/png": "[encoded data removed]",
            "text/plain": [
              "<Figure size 432x432 with 3 Axes>"
            ]
          },
          "metadata": {
            "tags": [],
            "needs_background": "light"
          }
        }
      ]
    },
    {
      "cell_type": "markdown",
      "metadata": {
        "id": "bh5EZajJsA8N",
        "colab_type": "text"
      },
      "source": [
        "Now we explore what consequences it has if a model overfitts. For this we generate interaction and squared terms and compare model performance in a training and test set approach."
      ]
    },
    {
      "cell_type": "code",
      "metadata": {
        "id": "9MgnKOu0M5xH",
        "colab_type": "code",
        "colab": {}
      },
      "source": [
        "# Set a random number seed such that everybody has the same \"random\" split \n",
        "# of the data\n",
        "np.random.seed(111)\n",
        "# Split the data into train and test data using sklearn train_test_split object\n",
        "#   (see: https://scikit-learn.org/stable/modules/generated/sklearn.model_selection.train_test_split.html)\n",
        "\n",
        "#   Note: This randomly split the data in 80% train and 20% test data\n",
        "X_train, X_test, Y_train, Y_test = train_test_split(X_all, Y_all, test_size = 0.2)"
      ],
      "execution_count": 11,
      "outputs": []
    },
    {
      "cell_type": "code",
      "metadata": {
        "id": "oZ3is0GFj8k8",
        "colab_type": "code",
        "colab": {}
      },
      "source": [
        "# In order to better illustrate the overfitting effects we \n",
        "# artificially reduce the training data size.  Why do we do this, in general \n",
        "# a larger sample size helps to reduce overfitting problems. With a smaller \n",
        "# sample size polynomials of order 2 of our variables are sufficient to show \n",
        "# the effects. With the full sample size we would need to consider much higher \n",
        "# polynomials to show the same effects. \n",
        "N = 2000\n",
        "X_train = X_train.iloc[:N,:]\n",
        "Y_train = Y_train.iloc[:N]\n"
      ],
      "execution_count": 12,
      "outputs": []
    },
    {
      "cell_type": "code",
      "metadata": {
        "id": "RZpKA77RMr2u",
        "colab_type": "code",
        "colab": {
          "base_uri": "https://localhost:8080/",
          "height": 34
        },
        "outputId": "7fb73fa7-2c78-4baa-8c8c-ea044011973a"
      },
      "source": [
        "# Use an sklearn function to generate polynomials of order 2 \n",
        "# (square terms and interaction terms)\n",
        "# (see https://scikit-learn.org/stable/modules/generated/sklearn.preprocessing.PolynomialFeatures.html#sklearn.preprocessing.PolynomialFeatures.get_feature_names)\n",
        "poly = PolynomialFeatures(2)\n",
        "X_train_poly = poly.fit_transform(X_train)\n",
        "X_test_poly = poly.transform(X_test)\n",
        "print('Total number of avaliable features',X_train_poly.shape[1])\n",
        "lstFeatures = poly.get_feature_names()\n",
        "# Show feature names\n",
        "# list(lstFeatures)\n",
        "\n"
      ],
      "execution_count": 13,
      "outputs": [
        {
          "output_type": "stream",
          "text": [
            "Total number of avaliable features 91\n"
          ],
          "name": "stdout"
        }
      ]
    },
    {
      "cell_type": "code",
      "metadata": {
        "id": "3dKToEAbrNXk",
        "colab_type": "code",
        "colab": {
          "base_uri": "https://localhost:8080/",
          "height": 410
        },
        "outputId": "8b092403-1ed3-48a2-8270-fcf39bbeeb8c"
      },
      "source": [
        "# To explore overfitting we now run an small simulation...\n",
        "# For sequentially increase our model by adding on additional feature \n",
        "# to our model. In each case we estimate the model and obtain models stats\n",
        "# in the train and test set.\n",
        "\n",
        "# Prepare a dataframe to hold the results\n",
        "res = pd.DataFrame()\n",
        "\n",
        "# Each iteration add in one  additional variables\n",
        "for numVar in range(0,X_train_poly.shape[1]):\n",
        "\n",
        "  # Define the feature set for the iteration \n",
        "  X_train_subSet = X_train_poly[:,:numVar+1]\n",
        "  X_test_subSet = X_test_poly[:,:numVar+1]\n",
        "  \n",
        "  # Create linear regression object\n",
        "  regOls = LinearRegression(normalize=True)\n",
        "\n",
        "  # Train the model using the training sets\n",
        "  regOls.fit(X_train_subSet, Y_train)\n",
        "\n",
        "  # Get predicted values\n",
        "  Y_hat_train = regOls.predict(X_train_subSet)\n",
        "  Y_hat_test = regOls.predict(X_test_subSet)\n",
        "\n",
        "  # Store model stats \n",
        "  res.loc[f\"numVar_{numVar}\",'Number of X Variables'] = X_train_subSet.shape[1]\n",
        "  res.loc[f\"numVar_{numVar}\",'New Feature'] = lstFeatures[numVar]\n",
        "\n",
        "  # The mean squared error\n",
        "  res.loc[f\"numVar_{numVar}\",'MSE Train'] = mean_squared_error(Y_train,Y_hat_train)\n",
        "  res.loc[f\"numVar_{numVar}\",'MSE Test'] = mean_squared_error(Y_test,Y_hat_test)\n",
        "  # The coefficient of determination: 1 is perfect prediction\n",
        "  res.loc[f\"numVar_{numVar}\",'R2 train'] = r2_score(Y_train,Y_hat_train)\n",
        "  res.loc[f\"numVar_{numVar}\",'R2 test'] = r2_score(Y_test,Y_hat_test)\n",
        "\n",
        "\n",
        "# => The column \"New Feature\" says which feature was added in this iteration \n",
        "#    on top of all the other added before, starting with only a constant\n",
        "# => Have a look how R2 and MSE develops in the train and test set when \n",
        "#    increasing model complexity.\n",
        "res\n"
      ],
      "execution_count": 14,
      "outputs": [
        {
          "output_type": "execute_result",
          "data": {
            "text/html": [
              "<div>\n",
              "<style scoped>\n",
              "    .dataframe tbody tr th:only-of-type {\n",
              "        vertical-align: middle;\n",
              "    }\n",
              "\n",
              "    .dataframe tbody tr th {\n",
              "        vertical-align: top;\n",
              "    }\n",
              "\n",
              "    .dataframe thead th {\n",
              "        text-align: right;\n",
              "    }\n",
              "</style>\n",
              "<table border=\"1\" class=\"dataframe\">\n",
              "  <thead>\n",
              "    <tr style=\"text-align: right;\">\n",
              "      <th></th>\n",
              "      <th>Number of X Variables</th>\n",
              "      <th>New Feature</th>\n",
              "      <th>MSE Train</th>\n",
              "      <th>MSE Test</th>\n",
              "      <th>R2 train</th>\n",
              "      <th>R2 test</th>\n",
              "    </tr>\n",
              "  </thead>\n",
              "  <tbody>\n",
              "    <tr>\n",
              "      <th>numVar_0</th>\n",
              "      <td>1.0</td>\n",
              "      <td>1</td>\n",
              "      <td>1216.525636</td>\n",
              "      <td>1213.005815</td>\n",
              "      <td>0.000000</td>\n",
              "      <td>-0.000181</td>\n",
              "    </tr>\n",
              "    <tr>\n",
              "      <th>numVar_1</th>\n",
              "      <td>2.0</td>\n",
              "      <td>x0</td>\n",
              "      <td>1092.857849</td>\n",
              "      <td>1102.641178</td>\n",
              "      <td>0.101657</td>\n",
              "      <td>0.090820</td>\n",
              "    </tr>\n",
              "    <tr>\n",
              "      <th>numVar_2</th>\n",
              "      <td>3.0</td>\n",
              "      <td>x1</td>\n",
              "      <td>1091.452623</td>\n",
              "      <td>1101.598429</td>\n",
              "      <td>0.102812</td>\n",
              "      <td>0.091680</td>\n",
              "    </tr>\n",
              "    <tr>\n",
              "      <th>numVar_3</th>\n",
              "      <td>4.0</td>\n",
              "      <td>x2</td>\n",
              "      <td>956.060772</td>\n",
              "      <td>981.976805</td>\n",
              "      <td>0.214106</td>\n",
              "      <td>0.190314</td>\n",
              "    </tr>\n",
              "    <tr>\n",
              "      <th>numVar_4</th>\n",
              "      <td>5.0</td>\n",
              "      <td>x3</td>\n",
              "      <td>913.715950</td>\n",
              "      <td>929.376214</td>\n",
              "      <td>0.248914</td>\n",
              "      <td>0.233685</td>\n",
              "    </tr>\n",
              "    <tr>\n",
              "      <th>...</th>\n",
              "      <td>...</td>\n",
              "      <td>...</td>\n",
              "      <td>...</td>\n",
              "      <td>...</td>\n",
              "      <td>...</td>\n",
              "      <td>...</td>\n",
              "    </tr>\n",
              "    <tr>\n",
              "      <th>numVar_86</th>\n",
              "      <td>87.0</td>\n",
              "      <td>x9 x10</td>\n",
              "      <td>530.718203</td>\n",
              "      <td>42927.052274</td>\n",
              "      <td>0.563743</td>\n",
              "      <td>-34.395385</td>\n",
              "    </tr>\n",
              "    <tr>\n",
              "      <th>numVar_87</th>\n",
              "      <td>88.0</td>\n",
              "      <td>x9 x11</td>\n",
              "      <td>523.025791</td>\n",
              "      <td>43000.110736</td>\n",
              "      <td>0.570066</td>\n",
              "      <td>-34.455625</td>\n",
              "    </tr>\n",
              "    <tr>\n",
              "      <th>numVar_88</th>\n",
              "      <td>89.0</td>\n",
              "      <td>x10^2</td>\n",
              "      <td>518.977085</td>\n",
              "      <td>37915.027224</td>\n",
              "      <td>0.573394</td>\n",
              "      <td>-30.262733</td>\n",
              "    </tr>\n",
              "    <tr>\n",
              "      <th>numVar_89</th>\n",
              "      <td>90.0</td>\n",
              "      <td>x10 x11</td>\n",
              "      <td>517.769904</td>\n",
              "      <td>37210.556117</td>\n",
              "      <td>0.574386</td>\n",
              "      <td>-29.681864</td>\n",
              "    </tr>\n",
              "    <tr>\n",
              "      <th>numVar_90</th>\n",
              "      <td>91.0</td>\n",
              "      <td>x11^2</td>\n",
              "      <td>515.200839</td>\n",
              "      <td>40050.104395</td>\n",
              "      <td>0.576498</td>\n",
              "      <td>-32.023205</td>\n",
              "    </tr>\n",
              "  </tbody>\n",
              "</table>\n",
              "<p>91 rows × 6 columns</p>\n",
              "</div>"
            ],
            "text/plain": [
              "           Number of X Variables New Feature  ...  R2 train    R2 test\n",
              "numVar_0                     1.0           1  ...  0.000000  -0.000181\n",
              "numVar_1                     2.0          x0  ...  0.101657   0.090820\n",
              "numVar_2                     3.0          x1  ...  0.102812   0.091680\n",
              "numVar_3                     4.0          x2  ...  0.214106   0.190314\n",
              "numVar_4                     5.0          x3  ...  0.248914   0.233685\n",
              "...                          ...         ...  ...       ...        ...\n",
              "numVar_86                   87.0      x9 x10  ...  0.563743 -34.395385\n",
              "numVar_87                   88.0      x9 x11  ...  0.570066 -34.455625\n",
              "numVar_88                   89.0       x10^2  ...  0.573394 -30.262733\n",
              "numVar_89                   90.0     x10 x11  ...  0.574386 -29.681864\n",
              "numVar_90                   91.0       x11^2  ...  0.576498 -32.023205\n",
              "\n",
              "[91 rows x 6 columns]"
            ]
          },
          "metadata": {
            "tags": []
          },
          "execution_count": 14
        }
      ]
    },
    {
      "cell_type": "code",
      "metadata": {
        "id": "J13_mhypxJ25",
        "colab_type": "code",
        "colab": {
          "base_uri": "https://localhost:8080/",
          "height": 298
        },
        "outputId": "a6c4910c-8f4e-4955-e7d2-62758f3eea98"
      },
      "source": [
        "# Before we continue lets check if our simulation is correct, by comparing\n",
        "# row \"numVar_12\" from \"res\" with our statsmodel and sklearn that we \n",
        "# have use above\n",
        "print('Results from statsmodel:')\n",
        "print('R2',olsStats_result.rsquared)\n",
        "print('MSE',olsStats_result.mse_resid)\n",
        "\n",
        "print('\\nResults from sklearn:')\n",
        "print('Mean squared error: ',mse_ols_sklearn)\n",
        "print('Coefficient of determination: ',R2_ols_sklearn)\n",
        "\n",
        "# Check that the results match our \"res\" data frame in row \"numVar_12\" which is\n",
        "# a linear model with all explantory variables\n",
        "print('\\nResults from row \"numVar_12\" from the \"res\" dataframe')\n",
        "print(res.loc['numVar_12',:])\n",
        "\n",
        "# => Note that in the simulation our X_train is a much smaller subsample \n",
        "#    of the full data set. Hence, we have some small variation but overall \n",
        "#   the result is very comparable "
      ],
      "execution_count": 15,
      "outputs": [
        {
          "output_type": "stream",
          "text": [
            "Results from statsmodel:\n",
            "R2 0.44772019128724727\n",
            "MSE 669.1268671438283\n",
            "\n",
            "Results from sklearn:\n",
            "Mean squared error:  669.0920641940289\n",
            "Coefficient of determination:  0.44772019128724727\n",
            "\n",
            "Results from row \"numVar_12\" from the \"res\" dataframe\n",
            "Number of X Variables          13\n",
            "New Feature                   x11\n",
            "MSE Train                 655.299\n",
            "MSE Test                  672.795\n",
            "R2 train                 0.461336\n",
            "R2 test                  0.445248\n",
            "Name: numVar_12, dtype: object\n"
          ],
          "name": "stdout"
        }
      ]
    },
    {
      "cell_type": "code",
      "metadata": {
        "id": "fI2i8omgj82L",
        "colab_type": "code",
        "colab": {
          "base_uri": "https://localhost:8080/",
          "height": 283
        },
        "outputId": "c64fc06c-bb9f-403b-8cf1-180bc38efa9e"
      },
      "source": [
        "# Now back to our simulation results. To inspect the overfitting of the model\n",
        "# lets plot R2 and MSE against the number of variables in the model.\n",
        "\n",
        "# Start with R2\n",
        "fig, ax = plt.subplots()\n",
        "ax.plot(res['Number of X Variables'],res['R2 train'],label='train')\n",
        "ax.plot(res['Number of X Variables'],res['R2 test'],label='test')\n",
        "ax.set_ylabel('R2')\n",
        "ax.set_xlabel('number of variables')\n",
        "ax.set_ylim(0,1)\n",
        "ax.spines[\"top\"].set_visible(False)\n",
        "ax.spines[\"right\"].set_visible(False)\n",
        "ax.legend();\n",
        "\n",
        "# => Note that in same cases our R2 in the test set is negative, which means\n",
        "#    that our model is completely off..."
      ],
      "execution_count": 16,
      "outputs": [
        {
          "output_type": "display_data",
          "data": {
            "image/png": "[encoded data removed]",
            "text/plain": [
              "<Figure size 432x288 with 1 Axes>"
            ]
          },
          "metadata": {
            "tags": [],
            "needs_background": "light"
          }
        }
      ]
    },
    {
      "cell_type": "code",
      "metadata": {
        "id": "zpJGleUmtu-U",
        "colab_type": "code",
        "colab": {
          "base_uri": "https://localhost:8080/",
          "height": 279
        },
        "outputId": "40d28da7-23fa-416c-d0aa-3858bf379eb8"
      },
      "source": [
        "# ... and MSE\n",
        "fig, ax = plt.subplots()\n",
        "ax.plot(res['Number of X Variables'],res['MSE Train'],label='train')\n",
        "ax.plot(res['Number of X Variables'],res['MSE Test'],label='test')\n",
        "ax.set_ylabel('MSE')\n",
        "ax.set_xlabel('number of variables')\n",
        "ax.spines[\"top\"].set_visible(False)\n",
        "ax.spines[\"right\"].set_visible(False)\n",
        "ax.legend();"
      ],
      "execution_count": 17,
      "outputs": [
        {
          "output_type": "display_data",
          "data": {
            "image/png": "[encoded data removed]",
            "text/plain": [
              "<Figure size 432x288 with 1 Axes>"
            ]
          },
          "metadata": {
            "tags": [],
            "needs_background": "light"
          }
        }
      ]
    },
    {
      "cell_type": "code",
      "metadata": {
        "id": "8Z-gJtvIejP8",
        "colab_type": "code",
        "colab": {}
      },
      "source": [
        "# =====================================\n",
        "# Question to discuss in the group:\n",
        "# =====================================\n",
        "\n",
        "# What can you conclude from the plots?"
      ],
      "execution_count": null,
      "outputs": []
    },
    {
      "cell_type": "code",
      "metadata": {
        "id": "uX9o1ITDyx_s",
        "colab_type": "code",
        "colab": {
          "base_uri": "https://localhost:8080/",
          "height": 421
        },
        "outputId": "2cc50713-d2f3-4172-b4d7-760c5863d018"
      },
      "source": [
        "# Now, we can find the \"best\" specification from our simulation \n",
        "# by checking where R2 is highest in test set\n",
        "iRes = res.loc[res['R2 test']==res['R2 test'].max(),:]\n",
        "lstFeatures[:int(iRes['Number of X Variables'])]\n"
      ],
      "execution_count": 18,
      "outputs": [
        {
          "output_type": "execute_result",
          "data": {
            "text/plain": [
              "['1',\n",
              " 'x0',\n",
              " 'x1',\n",
              " 'x2',\n",
              " 'x3',\n",
              " 'x4',\n",
              " 'x5',\n",
              " 'x6',\n",
              " 'x7',\n",
              " 'x8',\n",
              " 'x9',\n",
              " 'x10',\n",
              " 'x11',\n",
              " 'x0^2',\n",
              " 'x0 x1',\n",
              " 'x0 x2',\n",
              " 'x0 x3',\n",
              " 'x0 x4',\n",
              " 'x0 x5',\n",
              " 'x0 x6',\n",
              " 'x0 x7',\n",
              " 'x0 x8',\n",
              " 'x0 x9']"
            ]
          },
          "metadata": {
            "tags": []
          },
          "execution_count": 18
        }
      ]
    },
    {
      "cell_type": "code",
      "metadata": {
        "id": "4cAlNildepgY",
        "colab_type": "code",
        "colab": {}
      },
      "source": [
        "# =====================================\n",
        "# Question to discuss in the group:\n",
        "# =====================================\n",
        "\n",
        "# Why might this model specification strategy not be ideal?"
      ],
      "execution_count": 27,
      "outputs": []
    },
    {
      "cell_type": "markdown",
      "metadata": {
        "id": "Xy4hWsgdQ6-f",
        "colab_type": "text"
      },
      "source": [
        "### Lets see how use Lasso could be used here"
      ]
    },
    {
      "cell_type": "code",
      "metadata": {
        "id": "qoVC3W4BRq-g",
        "colab_type": "code",
        "colab": {}
      },
      "source": [
        "# The idea is that instead of adding in one variable at a time, we use all\n",
        "# and let Lasso decide which ones to use. \n",
        "\n",
        "# It turns out that in order to get better results we need to make \n",
        "# the problem one step simpler for Lasso. If we use all polynomial terms \n",
        "# Lasso has convergence issues, at least with the restricted sample size \n",
        "# that we used above. Apparently the problem is that our variables are too \n",
        "# correlated. However, we can also illustrate the apporoach by using only linear \n",
        "# and square terms (excluding the interaction terms).  "
      ],
      "execution_count": 19,
      "outputs": []
    },
    {
      "cell_type": "code",
      "metadata": {
        "id": "GTWCqeowEQ36",
        "colab_type": "code",
        "colab": {}
      },
      "source": [
        "# Get only the linear and square terms from the polynomials\n",
        "idxSq = list(range(0,13))+[lstFeatures.index(c) for c in lstFeatures if '^2' in c]\n",
        "lstColNames = [lstFeatures[i] for i in idxSq]\n",
        "X_trainSq = X_train_poly[:,idxSq]\n",
        "X_testSq = X_test_poly[:,idxSq]\n",
        "\n"
      ],
      "execution_count": 28,
      "outputs": []
    },
    {
      "cell_type": "code",
      "metadata": {
        "id": "dgptOE8SvOs4",
        "colab_type": "code",
        "colab": {}
      },
      "source": [
        "# Get actuall names for features instead of x1,...,x11\n",
        "# this is required for a plot further down...\n",
        "sCols = pd.Series(lstColNames)\n",
        "sCols = sCols.replace({'\\^2':'_sq'},regex=True)\n",
        "sCols = sCols.replace({'1':'const'},regex=False)\n",
        "dctReplace = {f\"x{i}\":lstX[i] for i in range(10,len(lstX))}\n",
        "sCols = sCols.replace(dctReplace,regex=True)\n",
        "dctReplace = {f\"x{i}\":lstX[i] for i in range(0,10)}\n",
        "sCols = sCols.replace(dctReplace,regex=True)\n",
        "lstColNames = sCols\n"
      ],
      "execution_count": 29,
      "outputs": []
    },
    {
      "cell_type": "code",
      "metadata": {
        "id": "pMT0EcKm-49Y",
        "colab_type": "code",
        "colab": {
          "base_uri": "https://localhost:8080/",
          "height": 70
        },
        "outputId": "18d16a2f-520c-451b-99b8-ba5c62062a16"
      },
      "source": [
        "# Create a list with alpha values that we want to test for our Lasso estimation\n",
        "lstAlpha = np.logspace(-16, -9, num = 10, base = 2)\n",
        "lstAlpha"
      ],
      "execution_count": 30,
      "outputs": [
        {
          "output_type": "execute_result",
          "data": {
            "text/plain": [
              "array([1.52587891e-05, 2.61610102e-05, 4.48527372e-05, 7.68994781e-05,\n",
              "       1.31843230e-04, 2.26043631e-04, 3.87549085e-04, 6.64448242e-04,\n",
              "       1.13918852e-03, 1.95312500e-03])"
            ]
          },
          "metadata": {
            "tags": []
          },
          "execution_count": 30
        }
      ]
    },
    {
      "cell_type": "code",
      "metadata": {
        "id": "pqPfDYY-GtEi",
        "colab_type": "code",
        "colab": {
          "base_uri": "https://localhost:8080/",
          "height": 1000
        },
        "outputId": "9eb63319-ba51-4fe6-9e01-f43fa0177e2f"
      },
      "source": [
        "# Now loop over the alphas, run a Lasso estimation and get the model stats \n",
        "# Note the alphas here are just the same as the penalty (lambda)\n",
        "\n",
        "# Create a dataframe to hold model stats\n",
        "resLasso = pd.DataFrame()\n",
        "# Create a dataframe to hold coef\n",
        "resCoef = pd.DataFrame(columns=lstColNames)\n",
        "\n",
        "# Loop over a range of alpha value\n",
        "for alpha in lstAlpha:\n",
        "  print(alpha)\n",
        "  # Estimate Lasso\n",
        "  if alpha >0:\n",
        "    modLasso = Lasso(normalize=True, fit_intercept=True, alpha=alpha)\n",
        "  else:  \n",
        "    # in case of alpha = 0 use LinearRegression as recommended by sklearn\n",
        "    modLasso = LinearRegression(normalize=True, fit_intercept=True)\n",
        "  modLasso.fit(X_trainSq, Y_train)\n",
        "\n",
        "  # Get predicted values\n",
        "  Y_hat_train = modLasso.predict(X_trainSq)\n",
        "  Y_hat_test = modLasso.predict(X_testSq)\n",
        "\n",
        "  # Get model stats\n",
        "  resLasso.loc[f\"lasso_{alpha}\",'MSE Train'] = mean_squared_error(Y_train,Y_hat_train)\n",
        "  resLasso.loc[f\"lasso_{alpha}\",'MSE Test'] = mean_squared_error(Y_test,Y_hat_test)\n",
        "  # The coefficient of determination: 1 is perfect prediction\n",
        "  resLasso.loc[f\"lasso_{alpha}\",'R2 train'] = r2_score(Y_train,Y_hat_train)\n",
        "  resLasso.loc[f\"lasso_{alpha}\",'R2 test'] = r2_score(Y_test,Y_hat_test)\n",
        "  \n",
        "  resLasso.loc[f\"lasso_{alpha}\",'alpha'] = alpha\n",
        "\n",
        "  resCoef.loc[f'beta_hat_alpha{alpha}','alpha',] = alpha\n",
        "  resCoef.loc[f'beta_hat_alpha{alpha}',lstColNames] = modLasso.coef_.transpose()\n",
        "\n",
        "\n",
        "# => As you will see in the output, there are some value of alpha for which \n",
        "#   Lasso does not converge. This is not ideal but for our results we can \n",
        "#   ignore this for now.\n",
        "# => Again check how MSE and R2 developed for varying values of alpha\n",
        "\n",
        "resLasso"
      ],
      "execution_count": 31,
      "outputs": [
        {
          "output_type": "stream",
          "text": [
            "1.52587890625e-05\n",
            "2.6161010218904826e-05\n",
            "4.485273719102779e-05\n"
          ],
          "name": "stdout"
        },
        {
          "output_type": "stream",
          "text": [
            "/usr/local/lib/python3.6/dist-packages/sklearn/linear_model/_coordinate_descent.py:476: ConvergenceWarning:\n",
            "\n",
            "Objective did not converge. You might want to increase the number of iterations. Duality gap: 204792.61671928136, tolerance: 243.3051272034694\n",
            "\n",
            "/usr/local/lib/python3.6/dist-packages/sklearn/linear_model/_coordinate_descent.py:476: ConvergenceWarning:\n",
            "\n",
            "Objective did not converge. You might want to increase the number of iterations. Duality gap: 121472.55146182468, tolerance: 243.3051272034694\n",
            "\n",
            "/usr/local/lib/python3.6/dist-packages/sklearn/linear_model/_coordinate_descent.py:476: ConvergenceWarning:\n",
            "\n",
            "Objective did not converge. You might want to increase the number of iterations. Duality gap: 62065.61945965304, tolerance: 243.3051272034694\n",
            "\n"
          ],
          "name": "stderr"
        },
        {
          "output_type": "stream",
          "text": [
            "7.689947814299766e-05\n",
            "0.00013184322984525218\n",
            "0.00022604363092951433\n"
          ],
          "name": "stdout"
        },
        {
          "output_type": "stream",
          "text": [
            "/usr/local/lib/python3.6/dist-packages/sklearn/linear_model/_coordinate_descent.py:476: ConvergenceWarning:\n",
            "\n",
            "Objective did not converge. You might want to increase the number of iterations. Duality gap: 27643.18648493581, tolerance: 243.3051272034694\n",
            "\n",
            "/usr/local/lib/python3.6/dist-packages/sklearn/linear_model/_coordinate_descent.py:476: ConvergenceWarning:\n",
            "\n",
            "Objective did not converge. You might want to increase the number of iterations. Duality gap: 11016.104783599847, tolerance: 243.3051272034694\n",
            "\n",
            "/usr/local/lib/python3.6/dist-packages/sklearn/linear_model/_coordinate_descent.py:476: ConvergenceWarning:\n",
            "\n",
            "Objective did not converge. You might want to increase the number of iterations. Duality gap: 4064.455622448586, tolerance: 243.3051272034694\n",
            "\n"
          ],
          "name": "stderr"
        },
        {
          "output_type": "stream",
          "text": [
            "0.000387549084953174\n",
            "0.0006644482422726451\n",
            "0.0011391885152110507\n"
          ],
          "name": "stdout"
        },
        {
          "output_type": "stream",
          "text": [
            "/usr/local/lib/python3.6/dist-packages/sklearn/linear_model/_coordinate_descent.py:476: ConvergenceWarning:\n",
            "\n",
            "Objective did not converge. You might want to increase the number of iterations. Duality gap: 1452.1820482788607, tolerance: 243.3051272034694\n",
            "\n",
            "/usr/local/lib/python3.6/dist-packages/sklearn/linear_model/_coordinate_descent.py:476: ConvergenceWarning:\n",
            "\n",
            "Objective did not converge. You might want to increase the number of iterations. Duality gap: 684.3446799176745, tolerance: 243.3051272034694\n",
            "\n",
            "/usr/local/lib/python3.6/dist-packages/sklearn/linear_model/_coordinate_descent.py:476: ConvergenceWarning:\n",
            "\n",
            "Objective did not converge. You might want to increase the number of iterations. Duality gap: 264.6322461441159, tolerance: 243.3051272034694\n",
            "\n"
          ],
          "name": "stderr"
        },
        {
          "output_type": "stream",
          "text": [
            "0.001953125\n"
          ],
          "name": "stdout"
        },
        {
          "output_type": "execute_result",
          "data": {
            "text/html": [
              "<div>\n",
              "<style scoped>\n",
              "    .dataframe tbody tr th:only-of-type {\n",
              "        vertical-align: middle;\n",
              "    }\n",
              "\n",
              "    .dataframe tbody tr th {\n",
              "        vertical-align: top;\n",
              "    }\n",
              "\n",
              "    .dataframe thead th {\n",
              "        text-align: right;\n",
              "    }\n",
              "</style>\n",
              "<table border=\"1\" class=\"dataframe\">\n",
              "  <thead>\n",
              "    <tr style=\"text-align: right;\">\n",
              "      <th></th>\n",
              "      <th>MSE Train</th>\n",
              "      <th>MSE Test</th>\n",
              "      <th>R2 train</th>\n",
              "      <th>R2 test</th>\n",
              "      <th>alpha</th>\n",
              "    </tr>\n",
              "  </thead>\n",
              "  <tbody>\n",
              "    <tr>\n",
              "      <th>lasso_1.52587890625e-05</th>\n",
              "      <td>593.657261</td>\n",
              "      <td>627.688094</td>\n",
              "      <td>0.512006</td>\n",
              "      <td>0.482441</td>\n",
              "      <td>0.000015</td>\n",
              "    </tr>\n",
              "    <tr>\n",
              "      <th>lasso_2.6161010218904826e-05</th>\n",
              "      <td>593.660229</td>\n",
              "      <td>627.619396</td>\n",
              "      <td>0.512004</td>\n",
              "      <td>0.482498</td>\n",
              "      <td>0.000026</td>\n",
              "    </tr>\n",
              "    <tr>\n",
              "      <th>lasso_4.485273719102779e-05</th>\n",
              "      <td>593.668860</td>\n",
              "      <td>627.505851</td>\n",
              "      <td>0.511996</td>\n",
              "      <td>0.482592</td>\n",
              "      <td>0.000045</td>\n",
              "    </tr>\n",
              "    <tr>\n",
              "      <th>lasso_7.689947814299766e-05</th>\n",
              "      <td>593.694066</td>\n",
              "      <td>627.323643</td>\n",
              "      <td>0.511976</td>\n",
              "      <td>0.482742</td>\n",
              "      <td>0.000077</td>\n",
              "    </tr>\n",
              "    <tr>\n",
              "      <th>lasso_0.00013184322984525218</th>\n",
              "      <td>593.767876</td>\n",
              "      <td>627.047868</td>\n",
              "      <td>0.511915</td>\n",
              "      <td>0.482969</td>\n",
              "      <td>0.000132</td>\n",
              "    </tr>\n",
              "    <tr>\n",
              "      <th>lasso_0.00022604363092951433</th>\n",
              "      <td>593.984358</td>\n",
              "      <td>626.682714</td>\n",
              "      <td>0.511737</td>\n",
              "      <td>0.483270</td>\n",
              "      <td>0.000226</td>\n",
              "    </tr>\n",
              "    <tr>\n",
              "      <th>lasso_0.000387549084953174</th>\n",
              "      <td>594.619874</td>\n",
              "      <td>626.373121</td>\n",
              "      <td>0.511215</td>\n",
              "      <td>0.483526</td>\n",
              "      <td>0.000388</td>\n",
              "    </tr>\n",
              "    <tr>\n",
              "      <th>lasso_0.0006644482422726451</th>\n",
              "      <td>595.720439</td>\n",
              "      <td>625.881953</td>\n",
              "      <td>0.510310</td>\n",
              "      <td>0.483931</td>\n",
              "      <td>0.000664</td>\n",
              "    </tr>\n",
              "    <tr>\n",
              "      <th>lasso_0.0011391885152110507</th>\n",
              "      <td>598.108087</td>\n",
              "      <td>625.772255</td>\n",
              "      <td>0.508347</td>\n",
              "      <td>0.484021</td>\n",
              "      <td>0.001139</td>\n",
              "    </tr>\n",
              "    <tr>\n",
              "      <th>lasso_0.001953125</th>\n",
              "      <td>604.935875</td>\n",
              "      <td>629.384882</td>\n",
              "      <td>0.502735</td>\n",
              "      <td>0.481042</td>\n",
              "      <td>0.001953</td>\n",
              "    </tr>\n",
              "  </tbody>\n",
              "</table>\n",
              "</div>"
            ],
            "text/plain": [
              "                               MSE Train    MSE Test  ...   R2 test     alpha\n",
              "lasso_1.52587890625e-05       593.657261  627.688094  ...  0.482441  0.000015\n",
              "lasso_2.6161010218904826e-05  593.660229  627.619396  ...  0.482498  0.000026\n",
              "lasso_4.485273719102779e-05   593.668860  627.505851  ...  0.482592  0.000045\n",
              "lasso_7.689947814299766e-05   593.694066  627.323643  ...  0.482742  0.000077\n",
              "lasso_0.00013184322984525218  593.767876  627.047868  ...  0.482969  0.000132\n",
              "lasso_0.00022604363092951433  593.984358  626.682714  ...  0.483270  0.000226\n",
              "lasso_0.000387549084953174    594.619874  626.373121  ...  0.483526  0.000388\n",
              "lasso_0.0006644482422726451   595.720439  625.881953  ...  0.483931  0.000664\n",
              "lasso_0.0011391885152110507   598.108087  625.772255  ...  0.484021  0.001139\n",
              "lasso_0.001953125             604.935875  629.384882  ...  0.481042  0.001953\n",
              "\n",
              "[10 rows x 5 columns]"
            ]
          },
          "metadata": {
            "tags": []
          },
          "execution_count": 31
        }
      ]
    },
    {
      "cell_type": "code",
      "metadata": {
        "id": "P1XJUewDK9Z2",
        "colab_type": "code",
        "colab": {
          "base_uri": "https://localhost:8080/",
          "height": 34
        },
        "outputId": "94b97dc4-89e1-44a8-97a2-0c741d627b8b"
      },
      "source": [
        "# Get the \"best\" alpha by checking where MSE is lowest in test set \n",
        "# (or R2 is highest)\n",
        "iRes = resLasso.loc[resLasso['R2 test']==resLasso['R2 test'].max(),:]\n",
        "alphaBest = resLasso.loc[resLasso['R2 test']==resLasso['R2 test'].max(),'alpha'][0]\n",
        "print('The \"best\" (from those we tried in the simulations) is: ', alphaBest)"
      ],
      "execution_count": 32,
      "outputs": [
        {
          "output_type": "stream",
          "text": [
            "The \"best\" (from those we tried in the simulations) is:  0.0011391885152110507\n"
          ],
          "name": "stdout"
        }
      ]
    },
    {
      "cell_type": "code",
      "metadata": {
        "id": "kEqYSwBvIDqD",
        "colab_type": "code",
        "colab": {
          "base_uri": "https://localhost:8080/",
          "height": 284
        },
        "outputId": "8e4438d9-8e0d-4a94-cf27-f7924caa49eb"
      },
      "source": [
        "# Plot result\n",
        "\n",
        "# Define range of Y that should be shown in plot\n",
        "rangeYLow = resLasso['MSE Train'].min()*0.99\n",
        "rangeYHigh = resLasso['MSE Test'].max()*1.01\n",
        "\n",
        "fig, ax = plt.subplots()\n",
        "ax.plot(resLasso['alpha'],resLasso['MSE Train'],label='train')\n",
        "ax.plot(resLasso['alpha'],resLasso['MSE Test'],label='test')\n",
        "ax.plot([alphaBest,alphaBest],[rangeYLow,rangeYHigh],label='\"best\" alpha',linestyle=':',color='black')\n",
        "ax.set_ylabel('MSE')\n",
        "ax.set_xlabel('alpha')\n",
        "ax.spines[\"top\"].set_visible(False)\n",
        "ax.spines[\"right\"].set_visible(False)\n",
        "fig.autofmt_xdate(rotation=45)\n",
        "ax.set_ylim(rangeYLow,rangeYHigh)\n",
        "ax.legend();"
      ],
      "execution_count": 33,
      "outputs": [
        {
          "output_type": "display_data",
          "data": {
            "image/png": "[encoded data removed]",
            "text/plain": [
              "<Figure size 432x288 with 1 Axes>"
            ]
          },
          "metadata": {
            "tags": [],
            "needs_background": "light"
          }
        }
      ]
    },
    {
      "cell_type": "code",
      "metadata": {
        "id": "wVGZFxZfpG6x",
        "colab_type": "code",
        "colab": {
          "base_uri": "https://localhost:8080/",
          "height": 718
        },
        "outputId": "751b32a1-f855-4ecd-bc63-cffc0e81eba2"
      },
      "source": [
        "# Repeat the simulation with a slightly larger alpha range\n",
        "# in order to prepare a plot with the estimated coefficients against alpha \n",
        "# Df to hold coef\n",
        "resCoef = pd.DataFrame(columns=lstColNames)\n",
        "\n",
        "# Loop over a range of alpha value\n",
        "for alpha in np.logspace(-16, 0, num = 10, base = 2):\n",
        "  # Estimate Lasso\n",
        "  if alpha >0:\n",
        "    modLasso = Lasso(normalize=True, fit_intercept=True, alpha=alpha)\n",
        "  else:  \n",
        "    # in case of alpha = 0 use LinearRegression as recommended by sklearn\n",
        "    modLasso = LinearRegression(normalize=True, fit_intercept=True)\n",
        "  modLasso.fit(X_trainSq, Y_train)\n",
        "\n",
        "  resCoef.loc[f'beta_hat_alpha{alpha}','alpha',] = alpha\n",
        "  resCoef.loc[f'beta_hat_alpha{alpha}',lstColNames] = modLasso.coef_.transpose()\n",
        "\n",
        "\n",
        "import plotly.graph_objects as go\n",
        "# Create traces\n",
        "fig = go.Figure()\n",
        "\n",
        "for strBeta in resCoef.columns[1:]:\n",
        "  # ax.plot(resCoef['alpha'],resPlot[strBeta],label=strBeta)\n",
        "  fig.add_trace(go.Scatter(x=resCoef['alpha'], y=resCoef[strBeta],\n",
        "                      mode='lines',\n",
        "                      name=strBeta))\n",
        "\n",
        "rangeYLow = resCoef.min().min()*0.99\n",
        "rangeYHigh = resCoef.max().max()*1.01\n",
        "fig.add_trace(go.Scatter(x=[alphaBest,alphaBest], y=[rangeYLow,rangeYHigh],\n",
        "                    mode='lines',\n",
        "                    name='bestAlpha',line=dict(color='black', dash='dash')))\n",
        "\n",
        "fig.update_layout(\n",
        "    width=800,\n",
        "    height=400,\n",
        "    xaxis_type=\"log\",\n",
        "    xaxis = dict(\n",
        "       autorange='reversed'\n",
        "    ),\n",
        "    yaxis = dict(\n",
        "       range=[rangeYLow,rangeYHigh],\n",
        "    )\n",
        ")\n",
        "fig.show()"
      ],
      "execution_count": 34,
      "outputs": [
        {
          "output_type": "stream",
          "text": [
            "/usr/local/lib/python3.6/dist-packages/sklearn/linear_model/_coordinate_descent.py:476: ConvergenceWarning:\n",
            "\n",
            "Objective did not converge. You might want to increase the number of iterations. Duality gap: 204792.61671928136, tolerance: 243.3051272034694\n",
            "\n",
            "/usr/local/lib/python3.6/dist-packages/sklearn/linear_model/_coordinate_descent.py:476: ConvergenceWarning:\n",
            "\n",
            "Objective did not converge. You might want to increase the number of iterations. Duality gap: 49909.75446997769, tolerance: 243.3051272034694\n",
            "\n",
            "/usr/local/lib/python3.6/dist-packages/sklearn/linear_model/_coordinate_descent.py:476: ConvergenceWarning:\n",
            "\n",
            "Objective did not converge. You might want to increase the number of iterations. Duality gap: 6276.286142324097, tolerance: 243.3051272034694\n",
            "\n",
            "/usr/local/lib/python3.6/dist-packages/sklearn/linear_model/_coordinate_descent.py:476: ConvergenceWarning:\n",
            "\n",
            "Objective did not converge. You might want to increase the number of iterations. Duality gap: 776.0249039749615, tolerance: 243.3051272034694\n",
            "\n"
          ],
          "name": "stderr"
        },
        {
          "output_type": "display_data",
          "data": {
            "text/html": [
              "<html>\n",
              "<head><meta charset=\"utf-8\" /></head>\n",
              "<body>\n",
              "    <div>\n",
              "            <script src=\"https://cdnjs.cloudflare.com/ajax/libs/mathjax/2.7.5/MathJax.js?config=TeX-AMS-MML_SVG\"></script><script type=\"text/javascript\">if (window.MathJax) {MathJax.Hub.Config({SVG: {font: \"STIX-Web\"}});}</script>\n",
              "                <script type=\"text/javascript\">window.PlotlyConfig = {MathJaxConfig: 'local'};</script>\n",
              "        <script src=\"https://cdn.plot.ly/plotly-latest.min.js\"></script>    \n",
              "            <div id=\"54b55722-1685-4971-80fe-fad95ff1e057\" class=\"plotly-graph-div\" style=\"height:400px; width:800px;\"></div>\n",
              "            <script type=\"text/javascript\">\n",
              "                \n",
              "                    window.PLOTLYENV=window.PLOTLYENV || {};\n",
              "                    \n",
              "                if (document.getElementById(\"54b55722-1685-4971-80fe-fad95ff1e057\")) {\n",
              "                    Plotly.newPlot(\n",
              "                        '54b55722-1685-4971-80fe-fad95ff1e057',\n",
              "                        [{\"mode\": \"lines\", \"name\": \"wdpa_2017\", \"type\": \"scatter\", \"x\": [1.52587890625e-05, 5.232202043780965e-05, 0.00017941094876411116, 0.0006151958251439805, 0.002109491677524035, 0.0072333961897444584, 0.024803141437003108, 0.08504937501089847, 0.29163225989402897, 1.0], \"y\": [31.22604518134081, 29.745476121168657, 24.668678797573293, 12.624719723880242, 13.021626934805347, 12.964184697883196, 11.667998615732344, 6.597145278207727, 0.0, 0.0]}, {\"mode\": \"lines\", \"name\": \"population_2015\", \"type\": \"scatter\", \"x\": [1.52587890625e-05, 5.232202043780965e-05, 0.00017941094876411116, 0.0006151958251439805, 0.002109491677524035, 0.0072333961897444584, 0.024803141437003108, 0.08504937501089847, 0.29163225989402897, 1.0], \"y\": [-0.04732181683002465, -0.04676274120328726, -0.044845675932679185, -0.03834613364395247, -0.015454765014037985, -0.007430669726452077, -0.0, -0.0, -0.0, -0.0]}, {\"mode\": \"lines\", \"name\": \"chirps_2017\", \"type\": \"scatter\", \"x\": [1.52587890625e-05, 5.232202043780965e-05, 0.00017941094876411116, 0.0006151958251439805, 0.002109491677524035, 0.0072333961897444584, 0.024803141437003108, 0.08504937501089847, 0.29163225989402897, 1.0], \"y\": [-0.1318288828620249, -0.12995434279325044, -0.12352621414086566, -0.1020501974626119, -0.02773878976308644, 0.0, 0.0, 0.0, 0.0, 0.0]}, {\"mode\": \"lines\", \"name\": \"maize\", \"type\": \"scatter\", \"x\": [1.52587890625e-05, 5.232202043780965e-05, 0.00017941094876411116, 0.0006151958251439805, 0.002109491677524035, 0.0072333961897444584, 0.024803141437003108, 0.08504937501089847, 0.29163225989402897, 1.0], \"y\": [0.02319147179386627, 0.022959326924187895, 0.022163330843346034, 0.020072700359757664, 0.017136707927196824, 0.014628287556765344, 0.001821955987348106, 0.0, 0.0, 0.0]}, {\"mode\": \"lines\", \"name\": \"soy\", \"type\": \"scatter\", \"x\": [1.52587890625e-05, 5.232202043780965e-05, 0.00017941094876411116, 0.0006151958251439805, 0.002109491677524035, 0.0072333961897444584, 0.024803141437003108, 0.08504937501089847, 0.29163225989402897, 1.0], \"y\": [-0.05697437784562255, -0.05548954491275093, -0.05039819120774797, -0.03839041861036271, -0.015099844959635922, -0.006219961956626861, -0.0, -0.0, -0.0, -0.0]}, {\"mode\": \"lines\", \"name\": \"sugarcane\", \"type\": \"scatter\", \"x\": [1.52587890625e-05, 5.232202043780965e-05, 0.00017941094876411116, 0.0006151958251439805, 0.002109491677524035, 0.0072333961897444584, 0.024803141437003108, 0.08504937501089847, 0.29163225989402897, 1.0], \"y\": [0.017851690360472877, 0.017390994883524673, 0.015811317019272974, 0.011938856103373507, 0.0027324693823627512, -0.0, -0.0, 0.0, -0.0, -0.0]}, {\"mode\": \"lines\", \"name\": \"perm_water\", \"type\": \"scatter\", \"x\": [1.52587890625e-05, 5.232202043780965e-05, 0.00017941094876411116, 0.0006151958251439805, 0.002109491677524035, 0.0072333961897444584, 0.024803141437003108, 0.08504937501089847, 0.29163225989402897, 1.0], \"y\": [100.40374466131598, 95.68557844744055, 79.50702676276777, 19.898823979676052, -0.0, -0.0, -0.0, -0.0, -0.0, -0.0]}, {\"mode\": \"lines\", \"name\": \"travel_min\", \"type\": \"scatter\", \"x\": [1.52587890625e-05, 5.232202043780965e-05, 0.00017941094876411116, 0.0006151958251439805, 0.002109491677524035, 0.0072333961897444584, 0.024803141437003108, 0.08504937501089847, 0.29163225989402897, 1.0], \"y\": [0.032641901795068054, 0.03259520301377445, 0.032435074207208286, 0.03190948485553868, 0.0305761862838373, 0.0273110317014889, 0.020545937410058716, 0.02064183348407132, 0.010150134606621041, 0.0]}, {\"mode\": \"lines\", \"name\": \"cropland\", \"type\": \"scatter\", \"x\": [1.52587890625e-05, 5.232202043780965e-05, 0.00017941094876411116, 0.0006151958251439805, 0.002109491677524035, 0.0072333961897444584, 0.024803141437003108, 0.08504937501089847, 0.29163225989402897, 1.0], \"y\": [18.243985936056067, 18.157740891909654, 17.862024704278195, 16.879576993012552, 14.092242548306624, 0.0, 0.0, -0.0, -0.0, -0.0]}, {\"mode\": \"lines\", \"name\": \"mean_elev\", \"type\": \"scatter\", \"x\": [1.52587890625e-05, 5.232202043780965e-05, 0.00017941094876411116, 0.0006151958251439805, 0.002109491677524035, 0.0072333961897444584, 0.024803141437003108, 0.08504937501089847, 0.29163225989402897, 1.0], \"y\": [0.05962530134911117, 0.05853052728199347, 0.05477654461458513, 0.04237354837865389, 0.005257212340653487, -0.0, -0.0, -0.0, -0.0, -0.0]}, {\"mode\": \"lines\", \"name\": \"sd_elev\", \"type\": \"scatter\", \"x\": [1.52587890625e-05, 5.232202043780965e-05, 0.00017941094876411116, 0.0006151958251439805, 0.002109491677524035, 0.0072333961897444584, 0.024803141437003108, 0.08504937501089847, 0.29163225989402897, 1.0], \"y\": [0.8381434480170714, 0.8385123484081879, 0.839777128856819, 0.8403873374469283, 0.8178804349391146, 0.5969233763638849, 0.3111441348416714, 0.0, 0.0, 0.0]}, {\"mode\": \"lines\", \"name\": \"near_road\", \"type\": \"scatter\", \"x\": [1.52587890625e-05, 5.232202043780965e-05, 0.00017941094876411116, 0.0006151958251439805, 0.002109491677524035, 0.0072333961897444584, 0.024803141437003108, 0.08504937501089847, 0.29163225989402897, 1.0], \"y\": [0.2258116735804853, 0.22570360964229225, 0.22533324685029107, 0.22298844350165575, 0.2128609666472558, 0.14051223729265183, 0.09096755538461272, 0.09897798104104448, 0.015523316477161295, 0.0]}, {\"mode\": \"lines\", \"name\": \"wdpa_2017_sq\", \"type\": \"scatter\", \"x\": [1.52587890625e-05, 5.232202043780965e-05, 0.00017941094876411116, 0.0006151958251439805, 0.002109491677524035, 0.0072333961897444584, 0.024803141437003108, 0.08504937501089847, 0.29163225989402897, 1.0], \"y\": [-18.970690025326515, -17.461448889161204, -12.28633429423445, -0.0, 0.0, 0.0, 0.0, 0.0, 0.0, 0.0]}, {\"mode\": \"lines\", \"name\": \"population_2015_sq\", \"type\": \"scatter\", \"x\": [1.52587890625e-05, 5.232202043780965e-05, 0.00017941094876411116, 0.0006151958251439805, 0.002109491677524035, 0.0072333961897444584, 0.024803141437003108, 0.08504937501089847, 0.29163225989402897, 1.0], \"y\": [1.2463518086221867e-05, 1.2274425857375227e-05, 1.1626032195972391e-05, 9.445865910440878e-06, 1.6827445726406622e-06, -0.0, -0.0, -0.0, -0.0, -0.0]}, {\"mode\": \"lines\", \"name\": \"chirps_2017_sq\", \"type\": \"scatter\", \"x\": [1.52587890625e-05, 5.232202043780965e-05, 0.00017941094876411116, 0.0006151958251439805, 0.002109491677524035, 0.0072333961897444584, 0.024803141437003108, 0.08504937501089847, 0.29163225989402897, 1.0], \"y\": [4.435898123501382e-05, 4.384290328497056e-05, 4.207317660542628e-05, 3.61758580510419e-05, 1.579729936020062e-05, 7.728463906379217e-06, 4.956578307212968e-06, 8.04598137482021e-07, 0.0, 0.0]}, {\"mode\": \"lines\", \"name\": \"maize_sq\", \"type\": \"scatter\", \"x\": [1.52587890625e-05, 5.232202043780965e-05, 0.00017941094876411116, 0.0006151958251439805, 0.002109491677524035, 0.0072333961897444584, 0.024803141437003108, 0.08504937501089847, 0.29163225989402897, 1.0], \"y\": [-1.4702175561752925e-06, -1.4206120248398696e-06, -1.2505177291316136e-06, -8.004956137686288e-07, -0.0, 1.2316950218496746e-07, 8.579892900927294e-07, 0.0, 0.0, 0.0]}, {\"mode\": \"lines\", \"name\": \"soy_sq\", \"type\": \"scatter\", \"x\": [1.52587890625e-05, 5.232202043780965e-05, 0.00017941094876411116, 0.0006151958251439805, 0.002109491677524035, 0.0072333961897444584, 0.024803141437003108, 0.08504937501089847, 0.29163225989402897, 1.0], \"y\": [8.457309597023317e-06, 7.765913480718779e-06, 5.395176964122452e-06, -0.0, -1.0055856099305558e-05, -1.1255829553780398e-05, -4.863913460434204e-06, -0.0, -0.0, -0.0]}, {\"mode\": \"lines\", \"name\": \"sugarcane_sq\", \"type\": \"scatter\", \"x\": [1.52587890625e-05, 5.232202043780965e-05, 0.00017941094876411116, 0.0006151958251439805, 0.002109491677524035, 0.0072333961897444584, 0.024803141437003108, 0.08504937501089847, 0.29163225989402897, 1.0], \"y\": [-3.4554392027968154e-06, -3.3719063124465e-06, -3.08548157982687e-06, -2.3962188821852128e-06, -8.714604041341621e-07, -4.3096655342320296e-07, -0.0, -0.0, -0.0, -0.0]}, {\"mode\": \"lines\", \"name\": \"perm_water_sq\", \"type\": \"scatter\", \"x\": [1.52587890625e-05, 5.232202043780965e-05, 0.00017941094876411116, 0.0006151958251439805, 0.002109491677524035, 0.0072333961897444584, 0.024803141437003108, 0.08504937501089847, 0.29163225989402897, 1.0], \"y\": [-53.93566820295301, -52.06579643814488, -45.65401775391521, -22.27394081977099, -12.79247283965568, -9.692874684998914, -1.9536742764598982, -0.0, -0.0, -0.0]}, {\"mode\": \"lines\", \"name\": \"travel_min_sq\", \"type\": \"scatter\", \"x\": [1.52587890625e-05, 5.232202043780965e-05, 0.00017941094876411116, 0.0006151958251439805, 0.002109491677524035, 0.0072333961897444584, 0.024803141437003108, 0.08504937501089847, 0.29163225989402897, 1.0], \"y\": [-7.759143617466091e-06, -7.7314345615395e-06, -7.636420572384347e-06, -7.3165971900961905e-06, -6.326352519574492e-06, -3.970148343787536e-06, -0.0, 0.0, 0.0, 0.0]}, {\"mode\": \"lines\", \"name\": \"cropland_sq\", \"type\": \"scatter\", \"x\": [1.52587890625e-05, 5.232202043780965e-05, 0.00017941094876411116, 0.0006151958251439805, 0.002109491677524035, 0.0072333961897444584, 0.024803141437003108, 0.08504937501089847, 0.29163225989402897, 1.0], \"y\": [-27.632735277980835, -27.44470051094469, -26.79995342962131, -24.667688124712836, -18.230836569650073, -0.0, -0.0, -0.0, -0.0, -0.0]}, {\"mode\": \"lines\", \"name\": \"mean_elev_sq\", \"type\": \"scatter\", \"x\": [1.52587890625e-05, 5.232202043780965e-05, 0.00017941094876411116, 0.0006151958251439805, 0.002109491677524035, 0.0072333961897444584, 0.024803141437003108, 0.08504937501089847, 0.29163225989402897, 1.0], \"y\": [-9.083190743582094e-05, -8.983258000875641e-05, -8.640586778977581e-05, -7.479176680264115e-05, -3.760824190167257e-05, -3.204321019883024e-05, -3.7474927180846166e-05, -2.0033061299531182e-05, -0.0, -0.0]}, {\"mode\": \"lines\", \"name\": \"sd_elev_sq\", \"type\": \"scatter\", \"x\": [1.52587890625e-05, 5.232202043780965e-05, 0.00017941094876411116, 0.0006151958251439805, 0.002109491677524035, 0.0072333961897444584, 0.024803141437003108, 0.08504937501089847, 0.29163225989402897, 1.0], \"y\": [-0.004992665246227678, -0.004993185283094416, -0.004994966368329018, -0.004955876271185952, -0.004601747645375835, -0.0023598280256238737, 0.0, 0.0, 0.0, 0.0]}, {\"mode\": \"lines\", \"name\": \"near_road_sq\", \"type\": \"scatter\", \"x\": [1.52587890625e-05, 5.232202043780965e-05, 0.00017941094876411116, 0.0006151958251439805, 0.002109491677524035, 0.0072333961897444584, 0.024803141437003108, 0.08504937501089847, 0.29163225989402897, 1.0], \"y\": [-0.0007491110147649195, -0.0007463719583674089, -0.0007369803097338259, -0.0007053829616008242, -0.0005985626650614813, -0.000267670667439599, -0.0, 0.0, 0.0, 0.0]}, {\"mode\": \"lines\", \"name\": \"alpha\", \"type\": \"scatter\", \"x\": [1.52587890625e-05, 5.232202043780965e-05, 0.00017941094876411116, 0.0006151958251439805, 0.002109491677524035, 0.0072333961897444584, 0.024803141437003108, 0.08504937501089847, 0.29163225989402897, 1.0], \"y\": [1.52587890625e-05, 5.232202043780965e-05, 0.00017941094876411116, 0.0006151958251439805, 0.002109491677524035, 0.0072333961897444584, 0.024803141437003108, 0.08504937501089847, 0.29163225989402897, 1.0]}, {\"line\": {\"color\": \"black\", \"dash\": \"dash\"}, \"mode\": \"lines\", \"name\": \"bestAlpha\", \"type\": \"scatter\", \"x\": [0.0011391885152110507, 0.0011391885152110507], \"y\": [-53.39631152092348, 101.40778210792914]}],\n",
              "                        {\"height\": 400, \"template\": {\"data\": {\"bar\": [{\"error_x\": {\"color\": \"#2a3f5f\"}, \"error_y\": {\"color\": \"#2a3f5f\"}, \"marker\": {\"line\": {\"color\": \"#E5ECF6\", \"width\": 0.5}}, \"type\": \"bar\"}], \"barpolar\": [{\"marker\": {\"line\": {\"color\": \"#E5ECF6\", \"width\": 0.5}}, \"type\": \"barpolar\"}], \"carpet\": [{\"aaxis\": {\"endlinecolor\": \"#2a3f5f\", \"gridcolor\": \"white\", \"linecolor\": \"white\", \"minorgridcolor\": \"white\", \"startlinecolor\": \"#2a3f5f\"}, \"baxis\": {\"endlinecolor\": \"#2a3f5f\", \"gridcolor\": \"white\", \"linecolor\": \"white\", \"minorgridcolor\": \"white\", \"startlinecolor\": \"#2a3f5f\"}, \"type\": \"carpet\"}], \"choropleth\": [{\"colorbar\": {\"outlinewidth\": 0, \"ticks\": \"\"}, \"type\": \"choropleth\"}], \"contour\": [{\"colorbar\": {\"outlinewidth\": 0, \"ticks\": \"\"}, \"colorscale\": [[0.0, \"#0d0887\"], [0.1111111111111111, \"#46039f\"], [0.2222222222222222, \"#7201a8\"], [0.3333333333333333, \"#9c179e\"], [0.4444444444444444, \"#bd3786\"], [0.5555555555555556, \"#d8576b\"], [0.6666666666666666, \"#ed7953\"], [0.7777777777777778, \"#fb9f3a\"], [0.8888888888888888, \"#fdca26\"], [1.0, \"#f0f921\"]], \"type\": \"contour\"}], \"contourcarpet\": [{\"colorbar\": {\"outlinewidth\": 0, \"ticks\": \"\"}, \"type\": \"contourcarpet\"}], \"heatmap\": [{\"colorbar\": {\"outlinewidth\": 0, \"ticks\": \"\"}, \"colorscale\": [[0.0, \"#0d0887\"], [0.1111111111111111, \"#46039f\"], [0.2222222222222222, \"#7201a8\"], [0.3333333333333333, \"#9c179e\"], [0.4444444444444444, \"#bd3786\"], [0.5555555555555556, \"#d8576b\"], [0.6666666666666666, \"#ed7953\"], [0.7777777777777778, \"#fb9f3a\"], [0.8888888888888888, \"#fdca26\"], [1.0, \"#f0f921\"]], \"type\": \"heatmap\"}], \"heatmapgl\": [{\"colorbar\": {\"outlinewidth\": 0, \"ticks\": \"\"}, \"colorscale\": [[0.0, \"#0d0887\"], [0.1111111111111111, \"#46039f\"], [0.2222222222222222, \"#7201a8\"], [0.3333333333333333, \"#9c179e\"], [0.4444444444444444, \"#bd3786\"], [0.5555555555555556, \"#d8576b\"], [0.6666666666666666, \"#ed7953\"], [0.7777777777777778, \"#fb9f3a\"], [0.8888888888888888, \"#fdca26\"], [1.0, \"#f0f921\"]], \"type\": \"heatmapgl\"}], \"histogram\": [{\"marker\": {\"colorbar\": {\"outlinewidth\": 0, \"ticks\": \"\"}}, \"type\": \"histogram\"}], \"histogram2d\": [{\"colorbar\": {\"outlinewidth\": 0, \"ticks\": \"\"}, \"colorscale\": [[0.0, \"#0d0887\"], [0.1111111111111111, \"#46039f\"], [0.2222222222222222, \"#7201a8\"], [0.3333333333333333, \"#9c179e\"], [0.4444444444444444, \"#bd3786\"], [0.5555555555555556, \"#d8576b\"], [0.6666666666666666, \"#ed7953\"], [0.7777777777777778, \"#fb9f3a\"], [0.8888888888888888, \"#fdca26\"], [1.0, \"#f0f921\"]], \"type\": \"histogram2d\"}], \"histogram2dcontour\": [{\"colorbar\": {\"outlinewidth\": 0, \"ticks\": \"\"}, \"colorscale\": [[0.0, \"#0d0887\"], [0.1111111111111111, \"#46039f\"], [0.2222222222222222, \"#7201a8\"], [0.3333333333333333, \"#9c179e\"], [0.4444444444444444, \"#bd3786\"], [0.5555555555555556, \"#d8576b\"], [0.6666666666666666, \"#ed7953\"], [0.7777777777777778, \"#fb9f3a\"], [0.8888888888888888, \"#fdca26\"], [1.0, \"#f0f921\"]], \"type\": \"histogram2dcontour\"}], \"mesh3d\": [{\"colorbar\": {\"outlinewidth\": 0, \"ticks\": \"\"}, \"type\": \"mesh3d\"}], \"parcoords\": [{\"line\": {\"colorbar\": {\"outlinewidth\": 0, \"ticks\": \"\"}}, \"type\": \"parcoords\"}], \"pie\": [{\"automargin\": true, \"type\": \"pie\"}], \"scatter\": [{\"marker\": {\"colorbar\": {\"outlinewidth\": 0, \"ticks\": \"\"}}, \"type\": \"scatter\"}], \"scatter3d\": [{\"line\": {\"colorbar\": {\"outlinewidth\": 0, \"ticks\": \"\"}}, \"marker\": {\"colorbar\": {\"outlinewidth\": 0, \"ticks\": \"\"}}, \"type\": \"scatter3d\"}], \"scattercarpet\": [{\"marker\": {\"colorbar\": {\"outlinewidth\": 0, \"ticks\": \"\"}}, \"type\": \"scattercarpet\"}], \"scattergeo\": [{\"marker\": {\"colorbar\": {\"outlinewidth\": 0, \"ticks\": \"\"}}, \"type\": \"scattergeo\"}], \"scattergl\": [{\"marker\": {\"colorbar\": {\"outlinewidth\": 0, \"ticks\": \"\"}}, \"type\": \"scattergl\"}], \"scattermapbox\": [{\"marker\": {\"colorbar\": {\"outlinewidth\": 0, \"ticks\": \"\"}}, \"type\": \"scattermapbox\"}], \"scatterpolar\": [{\"marker\": {\"colorbar\": {\"outlinewidth\": 0, \"ticks\": \"\"}}, \"type\": \"scatterpolar\"}], \"scatterpolargl\": [{\"marker\": {\"colorbar\": {\"outlinewidth\": 0, \"ticks\": \"\"}}, \"type\": \"scatterpolargl\"}], \"scatterternary\": [{\"marker\": {\"colorbar\": {\"outlinewidth\": 0, \"ticks\": \"\"}}, \"type\": \"scatterternary\"}], \"surface\": [{\"colorbar\": {\"outlinewidth\": 0, \"ticks\": \"\"}, \"colorscale\": [[0.0, \"#0d0887\"], [0.1111111111111111, \"#46039f\"], [0.2222222222222222, \"#7201a8\"], [0.3333333333333333, \"#9c179e\"], [0.4444444444444444, \"#bd3786\"], [0.5555555555555556, \"#d8576b\"], [0.6666666666666666, \"#ed7953\"], [0.7777777777777778, \"#fb9f3a\"], [0.8888888888888888, \"#fdca26\"], [1.0, \"#f0f921\"]], \"type\": \"surface\"}], \"table\": [{\"cells\": {\"fill\": {\"color\": \"#EBF0F8\"}, \"line\": {\"color\": \"white\"}}, \"header\": {\"fill\": {\"color\": \"#C8D4E3\"}, \"line\": {\"color\": \"white\"}}, \"type\": \"table\"}]}, \"layout\": {\"annotationdefaults\": {\"arrowcolor\": \"#2a3f5f\", \"arrowhead\": 0, \"arrowwidth\": 1}, \"coloraxis\": {\"colorbar\": {\"outlinewidth\": 0, \"ticks\": \"\"}}, \"colorscale\": {\"diverging\": [[0, \"#8e0152\"], [0.1, \"#c51b7d\"], [0.2, \"#de77ae\"], [0.3, \"#f1b6da\"], [0.4, \"#fde0ef\"], [0.5, \"#f7f7f7\"], [0.6, \"#e6f5d0\"], [0.7, \"#b8e186\"], [0.8, \"#7fbc41\"], [0.9, \"#4d9221\"], [1, \"#276419\"]], \"sequential\": [[0.0, \"#0d0887\"], [0.1111111111111111, \"#46039f\"], [0.2222222222222222, \"#7201a8\"], [0.3333333333333333, \"#9c179e\"], [0.4444444444444444, \"#bd3786\"], [0.5555555555555556, \"#d8576b\"], [0.6666666666666666, \"#ed7953\"], [0.7777777777777778, \"#fb9f3a\"], [0.8888888888888888, \"#fdca26\"], [1.0, \"#f0f921\"]], \"sequentialminus\": [[0.0, \"#0d0887\"], [0.1111111111111111, \"#46039f\"], [0.2222222222222222, \"#7201a8\"], [0.3333333333333333, \"#9c179e\"], [0.4444444444444444, \"#bd3786\"], [0.5555555555555556, \"#d8576b\"], [0.6666666666666666, \"#ed7953\"], [0.7777777777777778, \"#fb9f3a\"], [0.8888888888888888, \"#fdca26\"], [1.0, \"#f0f921\"]]}, \"colorway\": [\"#636efa\", \"#EF553B\", \"#00cc96\", \"#ab63fa\", \"#FFA15A\", \"#19d3f3\", \"#FF6692\", \"#B6E880\", \"#FF97FF\", \"#FECB52\"], \"font\": {\"color\": \"#2a3f5f\"}, \"geo\": {\"bgcolor\": \"white\", \"lakecolor\": \"white\", \"landcolor\": \"#E5ECF6\", \"showlakes\": true, \"showland\": true, \"subunitcolor\": \"white\"}, \"hoverlabel\": {\"align\": \"left\"}, \"hovermode\": \"closest\", \"mapbox\": {\"style\": \"light\"}, \"paper_bgcolor\": \"white\", \"plot_bgcolor\": \"#E5ECF6\", \"polar\": {\"angularaxis\": {\"gridcolor\": \"white\", \"linecolor\": \"white\", \"ticks\": \"\"}, \"bgcolor\": \"#E5ECF6\", \"radialaxis\": {\"gridcolor\": \"white\", \"linecolor\": \"white\", \"ticks\": \"\"}}, \"scene\": {\"xaxis\": {\"backgroundcolor\": \"#E5ECF6\", \"gridcolor\": \"white\", \"gridwidth\": 2, \"linecolor\": \"white\", \"showbackground\": true, \"ticks\": \"\", \"zerolinecolor\": \"white\"}, \"yaxis\": {\"backgroundcolor\": \"#E5ECF6\", \"gridcolor\": \"white\", \"gridwidth\": 2, \"linecolor\": \"white\", \"showbackground\": true, \"ticks\": \"\", \"zerolinecolor\": \"white\"}, \"zaxis\": {\"backgroundcolor\": \"#E5ECF6\", \"gridcolor\": \"white\", \"gridwidth\": 2, \"linecolor\": \"white\", \"showbackground\": true, \"ticks\": \"\", \"zerolinecolor\": \"white\"}}, \"shapedefaults\": {\"line\": {\"color\": \"#2a3f5f\"}}, \"ternary\": {\"aaxis\": {\"gridcolor\": \"white\", \"linecolor\": \"white\", \"ticks\": \"\"}, \"baxis\": {\"gridcolor\": \"white\", \"linecolor\": \"white\", \"ticks\": \"\"}, \"bgcolor\": \"#E5ECF6\", \"caxis\": {\"gridcolor\": \"white\", \"linecolor\": \"white\", \"ticks\": \"\"}}, \"title\": {\"x\": 0.05}, \"xaxis\": {\"automargin\": true, \"gridcolor\": \"white\", \"linecolor\": \"white\", \"ticks\": \"\", \"title\": {\"standoff\": 15}, \"zerolinecolor\": \"white\", \"zerolinewidth\": 2}, \"yaxis\": {\"automargin\": true, \"gridcolor\": \"white\", \"linecolor\": \"white\", \"ticks\": \"\", \"title\": {\"standoff\": 15}, \"zerolinecolor\": \"white\", \"zerolinewidth\": 2}}}, \"width\": 800, \"xaxis\": {\"autorange\": \"reversed\", \"type\": \"log\"}, \"yaxis\": {\"range\": [-53.39631152092348, 101.40778210792914]}},\n",
              "                        {\"responsive\": true}\n",
              "                    ).then(function(){\n",
              "                            \n",
              "var gd = document.getElementById('54b55722-1685-4971-80fe-fad95ff1e057');\n",
              "var x = new MutationObserver(function (mutations, observer) {{\n",
              "        var display = window.getComputedStyle(gd).display;\n",
              "        if (!display || display === 'none') {{\n",
              "            console.log([gd, 'removed!']);\n",
              "            Plotly.purge(gd);\n",
              "            observer.disconnect();\n",
              "        }}\n",
              "}});\n",
              "\n",
              "// Listen for the removal of the full notebook cells\n",
              "var notebookContainer = gd.closest('#notebook-container');\n",
              "if (notebookContainer) {{\n",
              "    x.observe(notebookContainer, {childList: true});\n",
              "}}\n",
              "\n",
              "// Listen for the clearing of the current output cell\n",
              "var outputEl = gd.closest('.output');\n",
              "if (outputEl) {{\n",
              "    x.observe(outputEl, {childList: true});\n",
              "}}\n",
              "\n",
              "                        })\n",
              "                };\n",
              "                \n",
              "            </script>\n",
              "        </div>\n",
              "</body>\n",
              "</html>"
            ]
          },
          "metadata": {
            "tags": []
          }
        }
      ]
    },
    {
      "cell_type": "markdown",
      "metadata": {
        "id": "JZm0tXJ8DLDM",
        "colab_type": "text"
      },
      "source": [
        "# Day 1 Lab"
      ]
    },
    {
      "cell_type": "markdown",
      "metadata": {
        "id": "czQzN5tNDZua",
        "colab_type": "text"
      },
      "source": [
        "Today's lab will have you run an OLS and LASSO regression using the deforestation data you saw in the introduction slides and in the lecture. \n",
        "\n",
        "In the above specification we work with a rather restricted, preselected set of explnatory variables. Also we restricted the sample size artifically. Now try to run a model with a larger set of explanatory variables and using the full data set."
      ]
    },
    {
      "cell_type": "code",
      "metadata": {
        "id": "u7l5mTf1zRwh",
        "colab_type": "code",
        "colab": {}
      },
      "source": [
        "# If you haven't already, load the deforestation data following the code above.\n",
        "# ==============\n",
        "# Your code here\n",
        "# ==============\n"
      ],
      "execution_count": 35,
      "outputs": []
    },
    {
      "cell_type": "code",
      "metadata": {
        "id": "BVMVbvkVfQgt",
        "colab_type": "code",
        "colab": {}
      },
      "source": [
        "# =======================\n",
        "# Solution: \n",
        "# =======================\n",
        "df = pd.read_csv('brazil_all_data_v2.csv')"
      ],
      "execution_count": null,
      "outputs": []
    },
    {
      "cell_type": "code",
      "metadata": {
        "id": "M9wzA0btgEL1",
        "colab_type": "code",
        "colab": {}
      },
      "source": [
        "# Define target (dependent) variable (% forest cover for 2018)\n",
        "strY = 'perc_treecover'\n",
        "\n",
        "# Define a list of features names (explantory variables)\n",
        "lstX = [\n",
        "  'bean',\n",
        " 'carrot',\n",
        " 'cassava',\n",
        " 'chickpea',\n",
        " 'citrus',\n",
        " 'coffee',\n",
        " 'groundnut',\n",
        " 'maize',\n",
        " 'soy',\n",
        " 'sugarcane',\n",
        " 'tomato',\n",
        " 'wheat',\n",
        " 'perm_water',\n",
        " 'travel_min',\n",
        " 'defor_2001',\n",
        " 'defor_2002',\n",
        " 'defor_2003',\n",
        " 'defor_2004',\n",
        " 'defor_2005',\n",
        " 'defor_2006',\n",
        " 'defor_2007',\n",
        " 'defor_2008',\n",
        " 'defor_2009',\n",
        " 'defor_2010',\n",
        " 'defor_2011',\n",
        " 'defor_2012',\n",
        " 'defor_2013',\n",
        " 'defor_2014',\n",
        " 'defor_2015',\n",
        " 'defor_2016',\n",
        " 'defor_2017',\n",
        " 'defor_2018',\n",
        " 'wdpa_1990',\n",
        " 'wdpa_1991',\n",
        " 'wdpa_1993',\n",
        " 'wdpa_1994',\n",
        " 'wdpa_1995',\n",
        " 'wdpa_1996',\n",
        " 'wdpa_1997',\n",
        " 'wdpa_1998',\n",
        " 'wdpa_1999',\n",
        " 'wdpa_2000',\n",
        " 'wdpa_2001',\n",
        " 'wdpa_2002',\n",
        " 'wdpa_2003',\n",
        " 'wdpa_2004',\n",
        " 'wdpa_2005',\n",
        " 'wdpa_2006',\n",
        " 'wdpa_2007',\n",
        " 'wdpa_2008',\n",
        " 'wdpa_2009',\n",
        " 'wdpa_2010',\n",
        " 'wdpa_2011',\n",
        " 'wdpa_2012',\n",
        " 'wdpa_2014',\n",
        " 'wdpa_2015',\n",
        " 'wdpa_2017',\n",
        " 'wdpa_2018',\n",
        " 'chirps_2001',\n",
        " 'chirps_2002',\n",
        " 'chirps_2003',\n",
        " 'chirps_2004',\n",
        " 'chirps_2005',\n",
        " 'chirps_2006',\n",
        " 'chirps_2007',\n",
        " 'chirps_2008',\n",
        " 'chirps_2009',\n",
        " 'chirps_2010',\n",
        " 'chirps_2011',\n",
        " 'chirps_2012',\n",
        " 'chirps_2013',\n",
        " 'chirps_2014',\n",
        " 'chirps_2015',\n",
        " 'chirps_2016',\n",
        " 'chirps_2017',\n",
        " 'chirps_2018',\n",
        " 'population_2000',\n",
        " 'population_2005',\n",
        " 'population_2010',\n",
        " 'population_2015',\n",
        " 'cropland',\n",
        " 'pasture',\n",
        " 'mean_elev',\n",
        " 'sd_elev',\n",
        " 'near_road',\n",
        " 'bean_lag_1st_order',\n",
        " 'carrot_lag_1st_order',\n",
        " 'cassava_lag_1st_order',\n",
        " 'chickpea_lag_1st_order',\n",
        " 'citrus_lag_1st_order',\n",
        " 'coffee_lag_1st_order',\n",
        " 'groundnut_lag_1st_order',\n",
        " 'maize_lag_1st_order',\n",
        " 'soy_lag_1st_order',\n",
        " 'sugarcane_lag_1st_order',\n",
        " 'tomato_lag_1st_order',\n",
        " 'wheat_lag_1st_order',\n",
        " 'perm_water_lag_1st_order',\n",
        " 'travel_min_lag_1st_order',\n",
        " 'defor_2001_lag_1st_order',\n",
        " 'defor_2002_lag_1st_order',\n",
        " 'defor_2003_lag_1st_order',\n",
        " 'defor_2004_lag_1st_order',\n",
        " 'defor_2005_lag_1st_order',\n",
        " 'defor_2006_lag_1st_order',\n",
        " 'defor_2007_lag_1st_order',\n",
        " 'defor_2008_lag_1st_order',\n",
        " 'defor_2009_lag_1st_order',\n",
        " 'defor_2010_lag_1st_order',\n",
        " 'defor_2011_lag_1st_order',\n",
        " 'defor_2012_lag_1st_order',\n",
        " 'defor_2013_lag_1st_order',\n",
        " 'defor_2014_lag_1st_order',\n",
        " 'defor_2015_lag_1st_order',\n",
        " 'defor_2016_lag_1st_order',\n",
        " 'defor_2017_lag_1st_order',\n",
        " 'defor_2018_lag_1st_order',\n",
        " 'wdpa_1990_lag_1st_order',\n",
        " 'wdpa_1991_lag_1st_order',\n",
        " 'wdpa_1993_lag_1st_order',\n",
        " 'wdpa_1994_lag_1st_order',\n",
        " 'wdpa_1995_lag_1st_order',\n",
        " 'wdpa_1996_lag_1st_order',\n",
        " 'wdpa_1997_lag_1st_order',\n",
        " 'wdpa_1998_lag_1st_order',\n",
        " 'wdpa_1999_lag_1st_order',\n",
        " 'wdpa_2000_lag_1st_order',\n",
        " 'wdpa_2001_lag_1st_order',\n",
        " 'wdpa_2002_lag_1st_order',\n",
        " 'wdpa_2003_lag_1st_order',\n",
        " 'wdpa_2004_lag_1st_order',\n",
        " 'wdpa_2005_lag_1st_order',\n",
        " 'wdpa_2006_lag_1st_order',\n",
        " 'wdpa_2007_lag_1st_order',\n",
        " 'wdpa_2008_lag_1st_order',\n",
        " 'wdpa_2009_lag_1st_order',\n",
        " 'wdpa_2010_lag_1st_order',\n",
        " 'wdpa_2011_lag_1st_order',\n",
        " 'wdpa_2012_lag_1st_order',\n",
        " 'wdpa_2014_lag_1st_order',\n",
        " 'wdpa_2015_lag_1st_order',\n",
        " 'wdpa_2017_lag_1st_order',\n",
        " 'wdpa_2018_lag_1st_order',\n",
        " 'chirps_2001_lag_1st_order',\n",
        " 'chirps_2002_lag_1st_order',\n",
        " 'chirps_2003_lag_1st_order',\n",
        " 'chirps_2004_lag_1st_order',\n",
        " 'chirps_2005_lag_1st_order',\n",
        " 'chirps_2006_lag_1st_order',\n",
        " 'chirps_2007_lag_1st_order',\n",
        " 'chirps_2008_lag_1st_order',\n",
        " 'chirps_2009_lag_1st_order',\n",
        " 'chirps_2010_lag_1st_order',\n",
        " 'chirps_2011_lag_1st_order',\n",
        " 'chirps_2012_lag_1st_order',\n",
        " 'chirps_2013_lag_1st_order',\n",
        " 'chirps_2014_lag_1st_order',\n",
        " 'chirps_2015_lag_1st_order',\n",
        " 'chirps_2016_lag_1st_order',\n",
        " 'chirps_2017_lag_1st_order',\n",
        " 'chirps_2018_lag_1st_order',\n",
        " 'population_2000_lag_1st_order',\n",
        " 'population_2005_lag_1st_order',\n",
        " 'population_2010_lag_1st_order',\n",
        " 'population_2015_lag_1st_order',\n",
        " 'cropland_lag_1st_order',\n",
        " 'pasture_lag_1st_order',\n",
        " 'mean_elev_lag_1st_order',\n",
        " 'sd_elev_lag_1st_order',\n",
        " 'near_road_lag_1st_order',\n",
        " ]\n",
        "\n",
        "# Get target variable and features\n",
        "Y_all = df[strY]\n",
        "X_all = df.loc[:,lstX]\n"
      ],
      "execution_count": 96,
      "outputs": []
    },
    {
      "cell_type": "code",
      "metadata": {
        "id": "mXKxlWM3DQ6D",
        "colab_type": "code",
        "colab": {}
      },
      "source": [
        "# split the data into a train and test set as above\n",
        "# ==============\n",
        "# Your code here\n",
        "# =============="
      ],
      "execution_count": 97,
      "outputs": []
    },
    {
      "cell_type": "code",
      "metadata": {
        "id": "I9sw1y3WfKPi",
        "colab_type": "code",
        "colab": {}
      },
      "source": [
        "# =======================\n",
        "# Solution: \n",
        "# =======================\n",
        "X_train, X_test, Y_train, Y_test = train_test_split(X_all, Y_all, test_size = 0.2)"
      ],
      "execution_count": 98,
      "outputs": []
    },
    {
      "cell_type": "code",
      "metadata": {
        "id": "l5QKVCXzgbxp",
        "colab_type": "code",
        "colab": {}
      },
      "source": [
        "# Run an OLS model to predict percent forest cover\n",
        "# ==============\n",
        "# Your code here\n",
        "# =============="
      ],
      "execution_count": 99,
      "outputs": []
    },
    {
      "cell_type": "code",
      "metadata": {
        "id": "8Al2mbxnfbTj",
        "colab_type": "code",
        "colab": {
          "base_uri": "https://localhost:8080/",
          "height": 34
        },
        "outputId": "b4787134-fc58-481b-b574-9736aea8d4f9"
      },
      "source": [
        "# =======================\n",
        "# Solution: \n",
        "# =======================\n",
        "# Create linear regression object\n",
        "regOls = LinearRegression(normalize=True)\n",
        "\n",
        "# Train the model using the training sets\n",
        "regOls.fit(X_train, Y_train)"
      ],
      "execution_count": 100,
      "outputs": [
        {
          "output_type": "execute_result",
          "data": {
            "text/plain": [
              "LinearRegression(copy_X=True, fit_intercept=True, n_jobs=None, normalize=True)"
            ]
          },
          "metadata": {
            "tags": []
          },
          "execution_count": 100
        }
      ]
    },
    {
      "cell_type": "code",
      "metadata": {
        "id": "tuYe3OOhgnh8",
        "colab_type": "code",
        "colab": {}
      },
      "source": [
        "# Generate the predicted values for forest cover in the train and test set\n",
        "# ==============\n",
        "# Your code here\n",
        "# =============="
      ],
      "execution_count": 101,
      "outputs": []
    },
    {
      "cell_type": "code",
      "metadata": {
        "id": "WrYOhbFTgvkD",
        "colab_type": "code",
        "colab": {}
      },
      "source": [
        "# =======================\n",
        "# Solution: \n",
        "# =======================\n",
        "Y_hat_train = regOls.predict(X_train)\n",
        "Y_hat_test = regOls.predict(X_test)"
      ],
      "execution_count": 102,
      "outputs": []
    },
    {
      "cell_type": "code",
      "metadata": {
        "id": "oqzGowruhSHx",
        "colab_type": "code",
        "colab": {}
      },
      "source": [
        "# Produce measures of model fit (R2 and MSE) for train and test data\n",
        "# ==============\n",
        "# Your code here\n",
        "# =============="
      ],
      "execution_count": 103,
      "outputs": []
    },
    {
      "cell_type": "code",
      "metadata": {
        "id": "9rXDCRyzhYlC",
        "colab_type": "code",
        "colab": {
          "base_uri": "https://localhost:8080/",
          "height": 87
        },
        "outputId": "9fd834e6-d45a-4fd7-b9e8-8b4e7092f537"
      },
      "source": [
        "# =======================\n",
        "# Solution: \n",
        "# =======================\n",
        "# The mean squared error\n",
        "MSE_train = mean_squared_error(Y_train,Y_hat_train)\n",
        "MSE_test = mean_squared_error(Y_test,Y_hat_test)\n",
        "# The coefficient of determination: 1 is perfect prediction\n",
        "R2_train = r2_score(Y_train,Y_hat_train)\n",
        "R2_test = r2_score(Y_test,Y_hat_test)\n",
        "\n",
        "print('MSE_train: ', MSE_train )\n",
        "print('MSE_test: ', MSE_test )\n",
        "print('R2_train: ', R2_train )\n",
        "print('R2_test: ', R2_test )"
      ],
      "execution_count": 104,
      "outputs": [
        {
          "output_type": "stream",
          "text": [
            "MSE_train:  475.62591394341194\n",
            "MSE_test:  478.10793692237627\n",
            "R2_train:  0.6070955132821015\n",
            "R2_test:  0.606622403471104\n"
          ],
          "name": "stdout"
        }
      ]
    },
    {
      "cell_type": "code",
      "metadata": {
        "id": "WrFTs0h0EIey",
        "colab_type": "code",
        "colab": {}
      },
      "source": [
        "# plot predicted versus actual forest cover for test set\n",
        "# ==============\n",
        "# Your code here\n",
        "# =============="
      ],
      "execution_count": 105,
      "outputs": []
    },
    {
      "cell_type": "code",
      "metadata": {
        "id": "SK21bRCQiQfX",
        "colab_type": "code",
        "colab": {
          "base_uri": "https://localhost:8080/",
          "height": 455
        },
        "outputId": "50d70b02-a3fd-4e1f-84f0-c557ec3eb0d6"
      },
      "source": [
        "# =======================\n",
        "# Solution: \n",
        "# =======================\n",
        "\n",
        "# plot Y vs Y-hat\n",
        "h = sns.jointplot(Y_hat_test, Y_test, kind=\"hex\")\n",
        "h.set_axis_labels('Y predicted', 'Y true');"
      ],
      "execution_count": 106,
      "outputs": [
        {
          "output_type": "display_data",
          "data": {
            "image/png": "[encoded data removed]",
            "text/plain": [
              "<Figure size 432x432 with 3 Axes>"
            ]
          },
          "metadata": {
            "tags": [],
            "needs_background": "light"
          }
        }
      ]
    },
    {
      "cell_type": "markdown",
      "metadata": {
        "id": "lYkF2bMzGbrA",
        "colab_type": "text"
      },
      "source": [
        "Now run the same specification using a LASSO"
      ]
    },
    {
      "cell_type": "code",
      "metadata": {
        "id": "RbAtwaimEVlj",
        "colab_type": "code",
        "colab": {}
      },
      "source": [
        "# generate a LASSO function from sklearn\n",
        "# ==============\n",
        "# Your code here\n",
        "# ==============\n",
        "modLasso = ..."
      ],
      "execution_count": 107,
      "outputs": []
    },
    {
      "cell_type": "code",
      "metadata": {
        "id": "oXQdBv7XiknE",
        "colab_type": "code",
        "colab": {}
      },
      "source": [
        "# =======================\n",
        "# Solution: \n",
        "#\n",
        "# Note: the alpha value might not be the best. However, with this value the \n",
        "# model preformes quite similar to OLS in terms of MSE/R2 in the test set \n",
        "# using a substantial smaller amount of variables\n",
        "# =======================\n",
        "modLasso = Lasso(normalize=True, fit_intercept=True, alpha=0.0001)"
      ],
      "execution_count": 134,
      "outputs": []
    },
    {
      "cell_type": "code",
      "metadata": {
        "id": "d8Pkscz1EqfO",
        "colab_type": "code",
        "colab": {}
      },
      "source": [
        "# Use the same variable specification as for you OLS model and fit it \n",
        "# to the training data\n",
        "# ==============\n",
        "# Your code here\n",
        "# ==============\n"
      ],
      "execution_count": 129,
      "outputs": []
    },
    {
      "cell_type": "code",
      "metadata": {
        "id": "0NpCA1xdinzn",
        "colab_type": "code",
        "colab": {
          "base_uri": "https://localhost:8080/",
          "height": 160
        },
        "outputId": "63f478f3-95c7-4e93-b23e-fe07b39eb84a"
      },
      "source": [
        "# =======================\n",
        "# Solution: \n",
        "# =======================\n",
        "modLasso.fit(X_train, Y_train)"
      ],
      "execution_count": 135,
      "outputs": [
        {
          "output_type": "stream",
          "text": [
            "/usr/local/lib/python3.6/dist-packages/sklearn/linear_model/_coordinate_descent.py:476: ConvergenceWarning:\n",
            "\n",
            "Objective did not converge. You might want to increase the number of iterations. Duality gap: 582914.6817597449, tolerance: 24204.95462885761\n",
            "\n"
          ],
          "name": "stderr"
        },
        {
          "output_type": "execute_result",
          "data": {
            "text/plain": [
              "Lasso(alpha=0.0001, copy_X=True, fit_intercept=True, max_iter=1000,\n",
              "      normalize=True, positive=False, precompute=False, random_state=None,\n",
              "      selection='cyclic', tol=0.0001, warm_start=False)"
            ]
          },
          "metadata": {
            "tags": []
          },
          "execution_count": 135
        }
      ]
    },
    {
      "cell_type": "code",
      "metadata": {
        "id": "3GJ98XMhjNLM",
        "colab_type": "code",
        "colab": {}
      },
      "source": [
        "# Create fitted values for train and test set and compare model fit (R2/MSE)\n",
        "# as you have done it for OLS\n",
        "# ==============\n",
        "# Your code here\n",
        "# =============="
      ],
      "execution_count": 131,
      "outputs": []
    },
    {
      "cell_type": "code",
      "metadata": {
        "id": "sG-X6anGi-YG",
        "colab_type": "code",
        "colab": {
          "base_uri": "https://localhost:8080/",
          "height": 87
        },
        "outputId": "0a623f69-f6a3-455a-9e7e-733f200bbf7d"
      },
      "source": [
        "# =======================\n",
        "# Solution: \n",
        "# =======================\n",
        "Y_hat_train = modLasso.predict(X_train)\n",
        "Y_hat_test = modLasso.predict(X_test)\n",
        "\n",
        "# The mean squared error\n",
        "MSE_train = mean_squared_error(Y_train,Y_hat_train)\n",
        "MSE_test = mean_squared_error(Y_test,Y_hat_test)\n",
        "# The coefficient of determination: 1 is perfect prediction\n",
        "R2_train = r2_score(Y_train,Y_hat_train)\n",
        "R2_test = r2_score(Y_test,Y_hat_test)\n",
        "\n",
        "print('MSE_train: ', MSE_train )\n",
        "print('MSE_test: ', MSE_test )\n",
        "print('R2_train: ', R2_train )\n",
        "print('R2_test: ', R2_test )"
      ],
      "execution_count": 136,
      "outputs": [
        {
          "output_type": "stream",
          "text": [
            "MSE_train:  482.9846682760195\n",
            "MSE_test:  485.04244476103264\n",
            "R2_train:  0.6010166022951777\n",
            "R2_test:  0.6009168298631002\n"
          ],
          "name": "stdout"
        }
      ]
    },
    {
      "cell_type": "code",
      "metadata": {
        "id": "GITrlka73R1j",
        "colab_type": "code",
        "colab": {
          "base_uri": "https://localhost:8080/",
          "height": 316
        },
        "outputId": "1280c1ef-07e4-4db4-f9cb-37383d1c837d"
      },
      "source": [
        "# Check how many coefficients are selected in Lasso (i.e. are greater 0)\n",
        "print('Number of total coefficients in Lasso: ' , modLasso.coef_.shape[0])\n",
        "print('Number of selected coefficients in Lasso: ' ,np.sum(modLasso.coef_>0))\n",
        "\n",
        "print('\\nList selected variables:\\n')\n",
        "pd.Series(lstX).loc[modLasso.coef_>0]"
      ],
      "execution_count": 137,
      "outputs": [
        {
          "output_type": "stream",
          "text": [
            "Number of total coefficients in Lasso:  170\n",
            "Number of selected coefficients in Lasso:  64\n",
            "\n",
            "List selected variables:\n",
            "\n"
          ],
          "name": "stdout"
        },
        {
          "output_type": "execute_result",
          "data": {
            "text/plain": [
              "0                           bean\n",
              "2                        cassava\n",
              "4                         citrus\n",
              "7                          maize\n",
              "10                        tomato\n",
              "                 ...            \n",
              "152    chirps_2010_lag_1st_order\n",
              "154    chirps_2012_lag_1st_order\n",
              "156    chirps_2014_lag_1st_order\n",
              "167      mean_elev_lag_1st_order\n",
              "168        sd_elev_lag_1st_order\n",
              "Length: 64, dtype: object"
            ]
          },
          "metadata": {
            "tags": []
          },
          "execution_count": 137
        }
      ]
    },
    {
      "cell_type": "markdown",
      "metadata": {
        "id": "bZR-HB4KFLXb",
        "colab_type": "text"
      },
      "source": [
        "Now change your lambda and repeat.  \n",
        "\n",
        "What happens as you increase your lambda? As you decrease your lambda? Are the results more or less similar to your OLS results?\n",
        "\n",
        "Note: In this specific case it might be quite difficult to beat the simple OLS result in terms of MSE/R2 in the test set, because OLS is not really overfitting in this example.   "
      ]
    },
    {
      "cell_type": "code",
      "metadata": {
        "id": "beIkuCPMyZ2K",
        "colab_type": "code",
        "colab": {}
      },
      "source": [
        "# =======================\n",
        "# Solution: \n",
        "# =======================\n",
        "\n",
        "# => not new code required just change the alpha in the cell above and re-run\n",
        "# the last cells to get the model stats \n"
      ],
      "execution_count": null,
      "outputs": []
    },
    {
      "cell_type": "markdown",
      "metadata": {
        "id": "sBE-pVQGFUwE",
        "colab_type": "text"
      },
      "source": [
        "(Optional) So far we are just choosing our training and test set randomly.  Is this valid if there is high spatial correlation?  (if you like) try splitting your data based on latitude and re-run the OLS and the LASSO.  Do you expect your results to be better or worse than using the random split?"
      ]
    },
    {
      "cell_type": "code",
      "metadata": {
        "id": "2uvIS2VDE0KS",
        "colab_type": "code",
        "colab": {}
      },
      "source": [
        "# set a cut-point in the latitude variable to split data into a train and test set"
      ],
      "execution_count": null,
      "outputs": []
    },
    {
      "cell_type": "code",
      "metadata": {
        "id": "wRicA12RICPA",
        "colab_type": "code",
        "colab": {}
      },
      "source": [
        "# re-run OLS and LASSO models using this new train and test set\n"
      ],
      "execution_count": null,
      "outputs": []
    }
  ]
}